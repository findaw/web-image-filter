{
 "cells": [
  {
   "cell_type": "markdown",
   "id": "f2fa8334",
   "metadata": {},
   "source": [
    "### 모듈 불러오기"
   ]
  },
  {
   "cell_type": "code",
   "execution_count": 1,
   "id": "5640e314",
   "metadata": {},
   "outputs": [],
   "source": [
    "import warnings             \n",
    "warnings.filterwarnings(action='ignore')          # 경고 문구 무시\n",
    "from IPython.core.interactiveshell import InteractiveShell\n",
    "InteractiveShell.ast_node_interactivity = \"all\"   # 셀 하나에 ouput 모두 출력 가능\n",
    "import numpy as np                            \n",
    "import pandas as pd\n",
    "import matplotlib as mpl\n",
    "import matplotlib.pyplot as plt\n",
    "import seaborn as sns\n",
    "sns.set()\n",
    "#  한글글꼴로 변경\n",
    "plt.rcParams['font.size'] = 12.0\n",
    "# plt.rcParams['font.family'] = 'batang'\n",
    "plt.rcParams['font.family'] = 'Malgun Gothic'  \n",
    "plt.rc('axes', unicode_minus = False)\n",
    "\n",
    "# plot 크기\n",
    "plt.rc('figure', figsize=(10,6))\n",
    "\n",
    "# 음수 표시 에러 \n",
    "mpl.rcParams['axes.unicode_minus'] = False\n",
    "import json\n",
    "pd.options.display.max_rows= 10    # 화면에 최대 12개까지 결과 출력\n",
    "np.random.seed(0)\n",
    "\n",
    "import statsmodels.api as sm\n",
    "from sklearn.linear_model import LinearRegression\n",
    "from sklearn.model_selection import train_test_split\n",
    "\n",
    "from sklearn.preprocessing import StandardScaler\n",
    "import os\n",
    "from keras.models import Sequential\n",
    "from keras.layers import Dense\n",
    "import tensorflow as tf\n",
    "from tensorflow import keras\n",
    "from tensorflow.keras.utils import to_categorical"
   ]
  },
  {
   "cell_type": "code",
   "execution_count": 2,
   "id": "43e80435",
   "metadata": {},
   "outputs": [],
   "source": [
    "from keras.layers import Dense, Activation, Dropout, Flatten, Conv2D, MaxPooling2D\n",
    "from keras.preprocessing.image import ImageDataGenerator\n",
    "from keras.preprocessing.image import load_img, img_to_array, array_to_img\n",
    "from keras.applications import vgg16\n",
    "from keras.applications.vgg16 import VGG16\n",
    "from PIL import Image"
   ]
  },
  {
   "cell_type": "code",
   "execution_count": 63,
   "id": "6d03d3de",
   "metadata": {},
   "outputs": [
    {
     "data": {
      "text/plain": [
       "<tensorflow.python.keras.engine.sequential.Sequential at 0x20b1ca0cb20>"
      ]
     },
     "execution_count": 63,
     "metadata": {},
     "output_type": "execute_result"
    }
   ],
   "source": [
    "keras.models.load_model('model/best-cnn-model.h5')"
   ]
  },
  {
   "cell_type": "code",
   "execution_count": 64,
   "id": "4dd71626",
   "metadata": {},
   "outputs": [
    {
     "data": {
      "text/plain": [
       "'2.5.0'"
      ]
     },
     "execution_count": 64,
     "metadata": {},
     "output_type": "execute_result"
    }
   ],
   "source": [
    "keras.__version__"
   ]
  },
  {
   "cell_type": "code",
   "execution_count": 65,
   "id": "408358ce",
   "metadata": {},
   "outputs": [
    {
     "name": "stdout",
     "output_type": "stream",
     "text": [
      "Device mapping:\n",
      "/job:localhost/replica:0/task:0/device:GPU:0 -> device: 0, name: NVIDIA GeForce RTX 2080, pci bus id: 0000:01:00.0, compute capability: 7.5\n",
      "\n"
     ]
    }
   ],
   "source": [
    "def set_env():\n",
    "    os.environ['CUDA_VISIBLE_DEVICES'] = '0'\n",
    "    config = tf.compat.v1.ConfigProto(log_device_placement=True)\n",
    "    config.gpu_options.per_process_gpu_memory_fraction = 0.75\n",
    "    session = tf.compat.v1.Session(config=config)\n",
    "    session\n",
    "set_env()"
   ]
  },
  {
   "cell_type": "markdown",
   "id": "c5bc84d2",
   "metadata": {},
   "source": [
    "### ImgaeDataenertator\n",
    "컨볼루션 신경망 모델을 위한 데이터 부풀리기 클래스\n",
    "+ 학습 도중에 이미지에 임의 변형 및 정규화 적용\n",
    "+ 변형된 이미지를 배치 단위로 불러올 수 있는 generator 생성.\n",
    "    + generator를 생성할 때 flow(data, labels), flow_from_directory(directory) 두 가지 함수를 사용합니다.\n",
    "    + fit_generator, evaluate_generator 함수를 이용하여 generator로 이미지를 불러와서 모델을 학습시킬 수 있습니\n",
    "\n",
    "#### 파라미터(기본값)\n",
    "<code style=\"display:block\">\n",
    "+keras.preprocessing.image.ImageDataGenerator(\n",
    "featurewise_center=False,\n",
    "samplewise_center=False,\n",
    "featurewise_std_normalization=False,\n",
    "samplewise_std_normalization=False,\n",
    "zca_whitening=False,\n",
    "rotation_range=0.,\n",
    "width_shift_range=0.,\n",
    "height_shift_range=0.,\n",
    "shear_range=0.,\n",
    "zoom_range=0.,\n",
    "channel_shift_range=0.,\n",
    "fill_mode='nearest',\n",
    "cval=0.,\n",
    "horizontal_flip=False,\n",
    "vertical_flip=False,\n",
    "rescale=None,\n",
    "preprocessing_function=None,\n",
    "data_format=K.image_data_format())\n",
    "</code>\n"
   ]
  },
  {
   "cell_type": "markdown",
   "id": "ff200522",
   "metadata": {},
   "source": [
    "+ shear_range : 범위 내에서 임의로 원본 이미지 변형(0.5면 0~0.5각도로 )\n",
    "+ zoom_range : 지정된 범위내로 임의로 원본이미지 확대/축소 0.3 이면 -0.3~0.3 범위 로 확대축소\n",
    "+ rotation_range : 지정된 각도 범위내로 임의로 원본 이미지 회전(90이면 0~90 다함)\n",
    "+ width_shift_range : 지정된 수평방향 이동 범위로 원본 이미지 이동 : 0.1이면 넓이 100에서 0~10px 좌우 이동\n",
    "+ height_shift_range :수직방향\n",
    "+ vertical_flip : 수직방향 뒤집기 (boolean)\n",
    "+ horizontal_flip 수평방향 뒤집기 True일경우 50% 확률로 이미지를 수평으로 뒤집\n",
    "+ fill_mode 이미지를 회전, 이동하거나 축소할 때 생기는 공간을 채우는 방식"
   ]
  },
  {
   "cell_type": "markdown",
   "id": "fae1497a",
   "metadata": {},
   "source": [
    "데이터 경로"
   ]
  },
  {
   "cell_type": "code",
   "execution_count": 4,
   "id": "4e286207",
   "metadata": {},
   "outputs": [],
   "source": [
    "train_path = os.getcwd() + '\\\\datas\\\\train'\n",
    "test_path = os.getcwd() + '\\\\datas\\\\test'\n",
    "valid_path = os.getcwd() + '\\\\datas\\\\val'"
   ]
  },
  {
   "cell_type": "markdown",
   "id": "7c461b1a",
   "metadata": {},
   "source": [
    "### 이미지 유효성 검사"
   ]
  },
  {
   "cell_type": "code",
   "execution_count": 5,
   "id": "c78960c1",
   "metadata": {},
   "outputs": [],
   "source": [
    "import cv2\n",
    "import os\n",
    "import numpy as np\n",
    "\n",
    "label_counts = {}\n",
    "idx = ['train', 'test', 'valid']\n",
    "def get_train_data(): \n",
    "    data_input = []\n",
    "    error_paths = []\n",
    "    for i, path in enumerate([train_path, test_path, valid_path]):\n",
    "        label_dirs = os.listdir(path)\n",
    "        for dir_name in label_dirs:\n",
    "            file_list = os.listdir(f'{path}\\\\{dir_name}')\n",
    "            label_counts[f'{idx[i]}_{dir_name}'] = len(file_list)\n",
    "            for file_name in file_list:\n",
    "                try:\n",
    "#                     print(file_name)\n",
    "                    img = Image.open(f'{path}\\\\{dir_name}\\\\{file_name}')\n",
    "                    im = img.load()\n",
    "\n",
    "                except Exception as e:\n",
    "                        err_string = f'[Error!] at {path}\\\\{dir_name}\\\\{file_name}'\n",
    "                        error_paths.append(err_string)\n",
    "                        print(err_string)\n",
    "                        print(e)\n",
    "                        continue\n",
    "\n",
    "\n",
    "get_train_data()"
   ]
  },
  {
   "cell_type": "code",
   "execution_count": 6,
   "id": "25eb56fb",
   "metadata": {},
   "outputs": [
    {
     "data": {
      "text/plain": [
       "{'train_cockroach': 4356,\n",
       " 'train_etc': 3425,\n",
       " 'train_spider': 7908,\n",
       " 'test_cockroach': 1074,\n",
       " 'test_etc': 3864,\n",
       " 'test_spider': 2006,\n",
       " 'valid_cockroach': 1064,\n",
       " 'valid_etc': 3924,\n",
       " 'valid_spider': 1966}"
      ]
     },
     "execution_count": 6,
     "metadata": {},
     "output_type": "execute_result"
    }
   ],
   "source": [
    "label_counts"
   ]
  },
  {
   "cell_type": "code",
   "execution_count": null,
   "id": "1a6ce5b9",
   "metadata": {},
   "outputs": [],
   "source": []
  },
  {
   "cell_type": "code",
   "execution_count": null,
   "id": "07f4ac61",
   "metadata": {},
   "outputs": [],
   "source": []
  },
  {
   "cell_type": "markdown",
   "id": "c51e276c",
   "metadata": {},
   "source": [
    "### 데이터 전처리"
   ]
  },
  {
   "cell_type": "markdown",
   "id": "2d8fd39b",
   "metadata": {},
   "source": [
    "검증 및 테스트 이미지는 augmentation을 적용하지 않습니다. 모델 성능을 평가할 때에는 이미지 원본을 사용합니다."
   ]
  },
  {
   "cell_type": "code",
   "execution_count": 7,
   "id": "6cf65db6",
   "metadata": {},
   "outputs": [],
   "source": [
    "train_dataGen = ImageDataGenerator(\n",
    "                       rescale=1/255,              # scale\n",
    "                       fill_mode='nearest',        # 변형시 공간 채우는방식\n",
    "                       rotation_range=40,         # 회전\n",
    "                       shear_range=.2,           # 전단 변환\n",
    "                       vertical_flip=True,      # 수직 뒤집기\n",
    "                       horizontal_flip=True,    # 수평 뒤집기\n",
    "                       height_shift_range=.2,    # 이미지 수직 이동\n",
    "                       width_shift_range=.2,    # 수평 이동\n",
    "                       zoom_range=.2,          # -0.2~0.2 확대 축소\n",
    ")\n",
    "valid_datagen = ImageDataGenerator(rescale=1./255)\n",
    "test_datagen = ImageDataGenerator(rescale=1./255)"
   ]
  },
  {
   "cell_type": "markdown",
   "id": "e6d1c12c",
   "metadata": {},
   "source": [
    "#### 데이터 디버깅"
   ]
  },
  {
   "cell_type": "code",
   "execution_count": 7,
   "id": "0fd05cea",
   "metadata": {},
   "outputs": [],
   "source": [
    "datagen = ImageDataGenerator(\n",
    "                       fill_mode='nearest',        # 변형시 공간 채우는방식\n",
    "                       rotation_range=40,         # 회전\n",
    "                       shear_range=.2,           # 전단 변환\n",
    "                       vertical_flip=True,      # 수직 뒤집기\n",
    "                       horizontal_flip=True,    # 수평 뒤집기\n",
    "                       height_shift_range=.2,    # 이미지 수직 이동\n",
    "                       width_shift_range=.2,    # 수평 이동\n",
    "                       zoom_range=.2,          # -0.2~0.2 확대 축소\n",
    ")         \n",
    "\n",
    "img = load_img('C:/project/phobiaFilter/dataset/train/cockroach_many/cockr534.jpg')  # PIL 이미지\n",
    "img2 = load_img('C:/project/phobiaFilter/dataset/train/cockroach_many/cockroache-1569.jpg')  # PIL 이미지\n",
    "\n",
    "x = img_to_array(img)  # (3, 150, 150) 크기의 NumPy 배열\n",
    "x = x.reshape((1,) + x.shape)  \n",
    "x2 = img_to_array(img2)  # (3, 150, 150) 크기의 NumPy 배열\n",
    "x2 = x2.reshape((1,) + x2.shape)  \n",
    "\n",
    "# 아래 .flow() 함수는 임의 변환된 이미지를 배치 단위로 생성해서\n",
    "# 지정된 `preview/` 폴더에 저장합니다.\n",
    "i = 0\n",
    "for batch in datagen.flow(x, batch_size=1,\n",
    "                          save_to_dir='C:\\project\\phobiaFilter\\dataset\\preview', save_prefix='cocks', save_format='jpeg'):\n",
    "    i += 1\n",
    "    if i > 40:\n",
    "        break  # 이미지 20장을 생성하고 마칩니다\n",
    "\n",
    "i=0\n",
    "for batch in datagen.flow(x2, batch_size=1,\n",
    "                  save_to_dir='C:\\project\\phobiaFilter\\dataset\\preview', save_prefix='cocks2', save_format='jpeg'):\n",
    "    i += 1\n",
    "    if i > 40:\n",
    "        break  # 이미지 20장을 생성하고 마칩니다"
   ]
  },
  {
   "cell_type": "markdown",
   "id": "91610254",
   "metadata": {},
   "source": [
    "#### Data 생성"
   ]
  },
  {
   "cell_type": "code",
   "execution_count": 102,
   "id": "d8902381",
   "metadata": {},
   "outputs": [
    {
     "name": "stdout",
     "output_type": "stream",
     "text": [
      "Found 15689 images belonging to 3 classes.\n",
      "Found 6940 images belonging to 3 classes.\n",
      "Found 6946 images belonging to 3 classes.\n"
     ]
    },
    {
     "data": {
      "text/plain": [
       "<keras.preprocessing.image.DirectoryIterator at 0x2062534da90>"
      ]
     },
     "execution_count": 102,
     "metadata": {},
     "output_type": "execute_result"
    },
    {
     "data": {
      "text/plain": [
       "<keras.preprocessing.image.DirectoryIterator at 0x20625328340>"
      ]
     },
     "execution_count": 102,
     "metadata": {},
     "output_type": "execute_result"
    },
    {
     "data": {
      "text/plain": [
       "<keras.preprocessing.image.DirectoryIterator at 0x206253284f0>"
      ]
     },
     "execution_count": 102,
     "metadata": {},
     "output_type": "execute_result"
    }
   ],
   "source": [
    "batch_size = 16\n",
    "train_generator = train_dataGen.flow_from_directory(train_path, target_size=(150,150), batch_size=batch_size, class_mode='categorical')\n",
    "test_generator = valid_datagen.flow_from_directory(test_path, target_size=(150,150), batch_size=batch_size, class_mode='categorical')\n",
    "valid_generator = test_datagen.flow_from_directory(valid_path, target_size=(150,150), batch_size=batch_size, class_mode='categorical')\n",
    "train_generator\n",
    "test_generator\n",
    "valid_generator"
   ]
  },
  {
   "cell_type": "code",
   "execution_count": 103,
   "id": "844116b5",
   "metadata": {},
   "outputs": [
    {
     "data": {
      "text/plain": [
       "{'cockroach': 0, 'etc': 1, 'spider': 2}"
      ]
     },
     "execution_count": 103,
     "metadata": {},
     "output_type": "execute_result"
    },
    {
     "data": {
      "text/plain": [
       "3"
      ]
     },
     "execution_count": 103,
     "metadata": {},
     "output_type": "execute_result"
    }
   ],
   "source": [
    "train_generator.class_indices\n",
    "len(train_generator.class_indices)"
   ]
  },
  {
   "cell_type": "markdown",
   "id": "51fc6b40",
   "metadata": {},
   "source": [
    "엔트로피 용량을 조절하는 방법은 다양합니다. 대표적으로 모델에 관여하는 파라미터 개수를 조절하는 방법이 있습니다. 레이어 개수와 레이어 크기가 여기에 해당하죠. 저희가 작은 규모의 CNN을 사용하는 이유가 여기에 있습니다. 또한, L1, L2 정규화 (regularization) 같은 가중치 정규화 기법이 있습니다. 학습하면서 모든 가중치를 반복적으로 축소하는 방법인데, 결과적으로 핵심적인 특징에 대한 가중치만 남게 되는 효과가 있습니다."
   ]
  },
  {
   "cell_type": "markdown",
   "id": "7de9e028",
   "metadata": {},
   "source": [
    "### 모델 생성"
   ]
  },
  {
   "cell_type": "code",
   "execution_count": 43,
   "id": "fecf35b2",
   "metadata": {},
   "outputs": [],
   "source": [
    "\n",
    "# model = keras.Sequential()\n",
    "# # 필터 층 추가 \n",
    "# # same 패딩을 적용했기 때문에 특성맵과 입력의 크기가 동일\n",
    "# model.add(keras.layers.Conv2D(32, kernel_size=10, activation='relu',\n",
    "#                               padding='same', input_shape=(150,150,1)))\n",
    "\n",
    "# model.add(keras.layers.MaxPooling2D(2))\n",
    "# model.add(keras.layers.Conv2D(64, kernel_size=10, activation='relu', padding='same'))\n",
    "# model.add(keras.layers.MaxPooling2D(2))\n",
    "# model.add(keras.layers.Flatten())    # 출력층 입력을 위해 1차원 변환\n",
    "# model.add(keras.layers.Dense(200, activation='relu'))\n",
    "# model.add(keras.layers.Dropout(0.4))            # 과대적합 방지 \n",
    "# model.add(keras.layers.Dense(3, activation='softmax'))\n",
    "# model.summary()\n",
    "# model.compile(optimizer='adam', loss='sparse_categorical_crossentropy', metrics='accuracy')\n",
    "# checkpoint_cb = keras.callbacks.ModelCheckpoint('model/best-cnn-model.h5')\n",
    "# early_stopping_cb = keras.callbacks.EarlyStopping(patience=2, restore_best_weights=True)\n",
    "# history = model.fit(train_scaled, train_target, epochs=20, validation_data=(valid_scaled, valid_target),\n",
    "#                     callbacks=[checkpoint_cb, early_stopping_cb])\n",
    "# plt.plot(history.history['loss'])\n",
    "# plt.plot(history.history['val_loss'])\n",
    "# plt.xlabel('epoch')\n",
    "# plt.ylabel('loss')\n",
    "# plt.legend(['train', 'val'])\n",
    "# plt.show();\n",
    "\n",
    "\n",
    "# model.evaluate(valid_scaled, valid_target)\n",
    "# model.evaluate(test_scaled, test_target)\n"
   ]
  },
  {
   "cell_type": "markdown",
   "id": "60b3d41d",
   "metadata": {},
   "source": [
    "### 정확도와 손실율 확인하기"
   ]
  },
  {
   "cell_type": "code",
   "execution_count": 44,
   "id": "2eafdbda",
   "metadata": {},
   "outputs": [],
   "source": [
    "\n",
    "# acc = history.history['accuracy']\n",
    "# val_acc = history.history['val_accuracy']\n",
    "# loss = history.history['loss']\n",
    "# val_loss = history.history['val_loss']\n",
    "\n",
    "# epochs = range(len(acc))\n",
    "\n",
    "# plt.plot(epochs, acc, 'bo', label='Training accuracy')\n",
    "# plt.plot(epochs, val_acc, 'b', label='Validation accuracy')\n",
    "# plt.title('Training and validation accuracy')\n",
    "# plt.legend()\n",
    "\n",
    "# plt.figure()\n",
    "\n",
    "# plt.plot(epochs, loss, 'go', label='Training Loss')\n",
    "# plt.plot(epochs, val_loss, 'g', label='Validation Loss')\n",
    "# plt.title('Training and validation loss')\n",
    "# plt.legend()\n",
    "\n",
    "# plt.show()"
   ]
  },
  {
   "cell_type": "markdown",
   "id": "dd394528",
   "metadata": {},
   "source": [
    "### 첫 번째 모델\n",
    "+ 훈련셋 : 정확도 50%\n",
    "+ 검증셋 : 정확도 30% "
   ]
  },
  {
   "cell_type": "code",
   "execution_count": 46,
   "id": "772464ba",
   "metadata": {},
   "outputs": [
    {
     "name": "stdout",
     "output_type": "stream",
     "text": [
      "Epoch 1/40\n",
      "981/981 [==============================] - 197s 198ms/step - loss: 1.0609 - accuracy: 0.4835 - val_loss: 1.2306 - val_accuracy: 0.2819\n",
      "Epoch 2/40\n",
      "981/981 [==============================] - 198s 201ms/step - loss: 1.0386 - accuracy: 0.4996 - val_loss: 1.2419 - val_accuracy: 0.2819\n",
      "Epoch 3/40\n",
      "981/981 [==============================] - 190s 194ms/step - loss: 1.0380 - accuracy: 0.5023 - val_loss: 1.2575 - val_accuracy: 0.2819\n",
      "Epoch 4/40\n",
      "981/981 [==============================] - 194s 197ms/step - loss: 1.0339 - accuracy: 0.5040 - val_loss: 1.2438 - val_accuracy: 0.2819\n",
      "Epoch 5/40\n",
      "981/981 [==============================] - 196s 199ms/step - loss: 1.0300 - accuracy: 0.5094 - val_loss: 1.2486 - val_accuracy: 0.2819\n",
      "Epoch 6/40\n",
      "981/981 [==============================] - 195s 199ms/step - loss: 1.0385 - accuracy: 0.4976 - val_loss: 1.2358 - val_accuracy: 0.2819\n",
      "Epoch 7/40\n",
      "981/981 [==============================] - 202s 206ms/step - loss: 1.0408 - accuracy: 0.4950 - val_loss: 1.2590 - val_accuracy: 0.2819\n",
      "Epoch 8/40\n",
      "981/981 [==============================] - 203s 207ms/step - loss: 1.0319 - accuracy: 0.5086 - val_loss: 1.2567 - val_accuracy: 0.2819\n",
      "Epoch 9/40\n",
      "981/981 [==============================] - 191s 194ms/step - loss: 1.0358 - accuracy: 0.5015 - val_loss: 1.2536 - val_accuracy: 0.2819\n",
      "Epoch 10/40\n",
      "981/981 [==============================] - 204s 208ms/step - loss: 1.0326 - accuracy: 0.5071 - val_loss: 1.2453 - val_accuracy: 0.2819\n",
      "Epoch 11/40\n",
      "981/981 [==============================] - 189s 192ms/step - loss: 1.0318 - accuracy: 0.5075 - val_loss: 1.2457 - val_accuracy: 0.2819\n",
      "Epoch 12/40\n",
      "981/981 [==============================] - ETA: 0s - loss: 1.0365 - accuracy: 0.4988"
     ]
    },
    {
     "ename": "KeyboardInterrupt",
     "evalue": "",
     "output_type": "error",
     "traceback": [
      "\u001b[1;31m---------------------------------------------------------------------------\u001b[0m",
      "\u001b[1;31mKeyboardInterrupt\u001b[0m                         Traceback (most recent call last)",
      "\u001b[1;32m<ipython-input-46-240d38bb2b5d>\u001b[0m in \u001b[0;36m<module>\u001b[1;34m\u001b[0m\n\u001b[0;32m     20\u001b[0m               metrics='accuracy')\n\u001b[0;32m     21\u001b[0m \u001b[1;33m\u001b[0m\u001b[0m\n\u001b[1;32m---> 22\u001b[1;33m model.fit_generator(\n\u001b[0m\u001b[0;32m     23\u001b[0m         \u001b[0mtrain_generator\u001b[0m\u001b[1;33m,\u001b[0m\u001b[1;33m\u001b[0m\u001b[1;33m\u001b[0m\u001b[0m\n\u001b[0;32m     24\u001b[0m         \u001b[0mvalidation_data\u001b[0m\u001b[1;33m=\u001b[0m\u001b[0mvalid_generator\u001b[0m\u001b[1;33m,\u001b[0m\u001b[1;33m\u001b[0m\u001b[1;33m\u001b[0m\u001b[0m\n",
      "\u001b[1;32mC:\\ProgramData\\Anaconda3\\lib\\site-packages\\keras\\engine\\training.py\u001b[0m in \u001b[0;36mfit_generator\u001b[1;34m(self, generator, steps_per_epoch, epochs, verbose, callbacks, validation_data, validation_steps, validation_freq, class_weight, max_queue_size, workers, use_multiprocessing, shuffle, initial_epoch)\u001b[0m\n\u001b[0;32m   1916\u001b[0m                   \u001b[1;34m'will be removed in a future version. '\u001b[0m\u001b[1;33m\u001b[0m\u001b[1;33m\u001b[0m\u001b[0m\n\u001b[0;32m   1917\u001b[0m                   'Please use `Model.fit`, which supports generators.')\n\u001b[1;32m-> 1918\u001b[1;33m     return self.fit(\n\u001b[0m\u001b[0;32m   1919\u001b[0m         \u001b[0mgenerator\u001b[0m\u001b[1;33m,\u001b[0m\u001b[1;33m\u001b[0m\u001b[1;33m\u001b[0m\u001b[0m\n\u001b[0;32m   1920\u001b[0m         \u001b[0msteps_per_epoch\u001b[0m\u001b[1;33m=\u001b[0m\u001b[0msteps_per_epoch\u001b[0m\u001b[1;33m,\u001b[0m\u001b[1;33m\u001b[0m\u001b[1;33m\u001b[0m\u001b[0m\n",
      "\u001b[1;32mC:\\ProgramData\\Anaconda3\\lib\\site-packages\\keras\\engine\\training.py\u001b[0m in \u001b[0;36mfit\u001b[1;34m(self, x, y, batch_size, epochs, verbose, callbacks, validation_split, validation_data, shuffle, class_weight, sample_weight, initial_epoch, steps_per_epoch, validation_steps, validation_batch_size, validation_freq, max_queue_size, workers, use_multiprocessing)\u001b[0m\n\u001b[0;32m   1187\u001b[0m                 \u001b[0mmodel\u001b[0m\u001b[1;33m=\u001b[0m\u001b[0mself\u001b[0m\u001b[1;33m,\u001b[0m\u001b[1;33m\u001b[0m\u001b[1;33m\u001b[0m\u001b[0m\n\u001b[0;32m   1188\u001b[0m                 steps_per_execution=self._steps_per_execution)\n\u001b[1;32m-> 1189\u001b[1;33m           val_logs = self.evaluate(\n\u001b[0m\u001b[0;32m   1190\u001b[0m               \u001b[0mx\u001b[0m\u001b[1;33m=\u001b[0m\u001b[0mval_x\u001b[0m\u001b[1;33m,\u001b[0m\u001b[1;33m\u001b[0m\u001b[1;33m\u001b[0m\u001b[0m\n\u001b[0;32m   1191\u001b[0m               \u001b[0my\u001b[0m\u001b[1;33m=\u001b[0m\u001b[0mval_y\u001b[0m\u001b[1;33m,\u001b[0m\u001b[1;33m\u001b[0m\u001b[1;33m\u001b[0m\u001b[0m\n",
      "\u001b[1;32mC:\\ProgramData\\Anaconda3\\lib\\site-packages\\keras\\engine\\training.py\u001b[0m in \u001b[0;36mevaluate\u001b[1;34m(self, x, y, batch_size, verbose, sample_weight, steps, callbacks, max_queue_size, workers, use_multiprocessing, return_dict, **kwargs)\u001b[0m\n\u001b[0;32m   1462\u001b[0m             \u001b[1;32mwith\u001b[0m \u001b[0mtf\u001b[0m\u001b[1;33m.\u001b[0m\u001b[0mprofiler\u001b[0m\u001b[1;33m.\u001b[0m\u001b[0mexperimental\u001b[0m\u001b[1;33m.\u001b[0m\u001b[0mTrace\u001b[0m\u001b[1;33m(\u001b[0m\u001b[1;34m'test'\u001b[0m\u001b[1;33m,\u001b[0m \u001b[0mstep_num\u001b[0m\u001b[1;33m=\u001b[0m\u001b[0mstep\u001b[0m\u001b[1;33m,\u001b[0m \u001b[0m_r\u001b[0m\u001b[1;33m=\u001b[0m\u001b[1;36m1\u001b[0m\u001b[1;33m)\u001b[0m\u001b[1;33m:\u001b[0m\u001b[1;33m\u001b[0m\u001b[1;33m\u001b[0m\u001b[0m\n\u001b[0;32m   1463\u001b[0m               \u001b[0mcallbacks\u001b[0m\u001b[1;33m.\u001b[0m\u001b[0mon_test_batch_begin\u001b[0m\u001b[1;33m(\u001b[0m\u001b[0mstep\u001b[0m\u001b[1;33m)\u001b[0m\u001b[1;33m\u001b[0m\u001b[1;33m\u001b[0m\u001b[0m\n\u001b[1;32m-> 1464\u001b[1;33m               \u001b[0mtmp_logs\u001b[0m \u001b[1;33m=\u001b[0m \u001b[0mself\u001b[0m\u001b[1;33m.\u001b[0m\u001b[0mtest_function\u001b[0m\u001b[1;33m(\u001b[0m\u001b[0miterator\u001b[0m\u001b[1;33m)\u001b[0m\u001b[1;33m\u001b[0m\u001b[1;33m\u001b[0m\u001b[0m\n\u001b[0m\u001b[0;32m   1465\u001b[0m               \u001b[1;32mif\u001b[0m \u001b[0mdata_handler\u001b[0m\u001b[1;33m.\u001b[0m\u001b[0mshould_sync\u001b[0m\u001b[1;33m:\u001b[0m\u001b[1;33m\u001b[0m\u001b[1;33m\u001b[0m\u001b[0m\n\u001b[0;32m   1466\u001b[0m                 \u001b[0mcontext\u001b[0m\u001b[1;33m.\u001b[0m\u001b[0masync_wait\u001b[0m\u001b[1;33m(\u001b[0m\u001b[1;33m)\u001b[0m\u001b[1;33m\u001b[0m\u001b[1;33m\u001b[0m\u001b[0m\n",
      "\u001b[1;32mC:\\ProgramData\\Anaconda3\\lib\\site-packages\\tensorflow\\python\\eager\\def_function.py\u001b[0m in \u001b[0;36m__call__\u001b[1;34m(self, *args, **kwds)\u001b[0m\n\u001b[0;32m    887\u001b[0m \u001b[1;33m\u001b[0m\u001b[0m\n\u001b[0;32m    888\u001b[0m       \u001b[1;32mwith\u001b[0m \u001b[0mOptionalXlaContext\u001b[0m\u001b[1;33m(\u001b[0m\u001b[0mself\u001b[0m\u001b[1;33m.\u001b[0m\u001b[0m_jit_compile\u001b[0m\u001b[1;33m)\u001b[0m\u001b[1;33m:\u001b[0m\u001b[1;33m\u001b[0m\u001b[1;33m\u001b[0m\u001b[0m\n\u001b[1;32m--> 889\u001b[1;33m         \u001b[0mresult\u001b[0m \u001b[1;33m=\u001b[0m \u001b[0mself\u001b[0m\u001b[1;33m.\u001b[0m\u001b[0m_call\u001b[0m\u001b[1;33m(\u001b[0m\u001b[1;33m*\u001b[0m\u001b[0margs\u001b[0m\u001b[1;33m,\u001b[0m \u001b[1;33m**\u001b[0m\u001b[0mkwds\u001b[0m\u001b[1;33m)\u001b[0m\u001b[1;33m\u001b[0m\u001b[1;33m\u001b[0m\u001b[0m\n\u001b[0m\u001b[0;32m    890\u001b[0m \u001b[1;33m\u001b[0m\u001b[0m\n\u001b[0;32m    891\u001b[0m       \u001b[0mnew_tracing_count\u001b[0m \u001b[1;33m=\u001b[0m \u001b[0mself\u001b[0m\u001b[1;33m.\u001b[0m\u001b[0mexperimental_get_tracing_count\u001b[0m\u001b[1;33m(\u001b[0m\u001b[1;33m)\u001b[0m\u001b[1;33m\u001b[0m\u001b[1;33m\u001b[0m\u001b[0m\n",
      "\u001b[1;32mC:\\ProgramData\\Anaconda3\\lib\\site-packages\\tensorflow\\python\\eager\\def_function.py\u001b[0m in \u001b[0;36m_call\u001b[1;34m(self, *args, **kwds)\u001b[0m\n\u001b[0;32m    922\u001b[0m       \u001b[1;31m# In this case we have not created variables on the first call. So we can\u001b[0m\u001b[1;33m\u001b[0m\u001b[1;33m\u001b[0m\u001b[1;33m\u001b[0m\u001b[0m\n\u001b[0;32m    923\u001b[0m       \u001b[1;31m# run the first trace but we should fail if variables are created.\u001b[0m\u001b[1;33m\u001b[0m\u001b[1;33m\u001b[0m\u001b[1;33m\u001b[0m\u001b[0m\n\u001b[1;32m--> 924\u001b[1;33m       \u001b[0mresults\u001b[0m \u001b[1;33m=\u001b[0m \u001b[0mself\u001b[0m\u001b[1;33m.\u001b[0m\u001b[0m_stateful_fn\u001b[0m\u001b[1;33m(\u001b[0m\u001b[1;33m*\u001b[0m\u001b[0margs\u001b[0m\u001b[1;33m,\u001b[0m \u001b[1;33m**\u001b[0m\u001b[0mkwds\u001b[0m\u001b[1;33m)\u001b[0m\u001b[1;33m\u001b[0m\u001b[1;33m\u001b[0m\u001b[0m\n\u001b[0m\u001b[0;32m    925\u001b[0m       \u001b[1;32mif\u001b[0m \u001b[0mself\u001b[0m\u001b[1;33m.\u001b[0m\u001b[0m_created_variables\u001b[0m\u001b[1;33m:\u001b[0m\u001b[1;33m\u001b[0m\u001b[1;33m\u001b[0m\u001b[0m\n\u001b[0;32m    926\u001b[0m         raise ValueError(\"Creating variables on a non-first call to a function\"\n",
      "\u001b[1;32mC:\\ProgramData\\Anaconda3\\lib\\site-packages\\tensorflow\\python\\eager\\function.py\u001b[0m in \u001b[0;36m__call__\u001b[1;34m(self, *args, **kwargs)\u001b[0m\n\u001b[0;32m   3021\u001b[0m       (graph_function,\n\u001b[0;32m   3022\u001b[0m        filtered_flat_args) = self._maybe_define_function(args, kwargs)\n\u001b[1;32m-> 3023\u001b[1;33m     return graph_function._call_flat(\n\u001b[0m\u001b[0;32m   3024\u001b[0m         filtered_flat_args, captured_inputs=graph_function.captured_inputs)  # pylint: disable=protected-access\n\u001b[0;32m   3025\u001b[0m \u001b[1;33m\u001b[0m\u001b[0m\n",
      "\u001b[1;32mC:\\ProgramData\\Anaconda3\\lib\\site-packages\\tensorflow\\python\\eager\\function.py\u001b[0m in \u001b[0;36m_call_flat\u001b[1;34m(self, args, captured_inputs, cancellation_manager)\u001b[0m\n\u001b[0;32m   1958\u001b[0m         and executing_eagerly):\n\u001b[0;32m   1959\u001b[0m       \u001b[1;31m# No tape is watching; skip to running the function.\u001b[0m\u001b[1;33m\u001b[0m\u001b[1;33m\u001b[0m\u001b[1;33m\u001b[0m\u001b[0m\n\u001b[1;32m-> 1960\u001b[1;33m       return self._build_call_outputs(self._inference_function.call(\n\u001b[0m\u001b[0;32m   1961\u001b[0m           ctx, args, cancellation_manager=cancellation_manager))\n\u001b[0;32m   1962\u001b[0m     forward_backward = self._select_forward_and_backward_functions(\n",
      "\u001b[1;32mC:\\ProgramData\\Anaconda3\\lib\\site-packages\\tensorflow\\python\\eager\\function.py\u001b[0m in \u001b[0;36mcall\u001b[1;34m(self, ctx, args, cancellation_manager)\u001b[0m\n\u001b[0;32m    589\u001b[0m       \u001b[1;32mwith\u001b[0m \u001b[0m_InterpolateFunctionError\u001b[0m\u001b[1;33m(\u001b[0m\u001b[0mself\u001b[0m\u001b[1;33m)\u001b[0m\u001b[1;33m:\u001b[0m\u001b[1;33m\u001b[0m\u001b[1;33m\u001b[0m\u001b[0m\n\u001b[0;32m    590\u001b[0m         \u001b[1;32mif\u001b[0m \u001b[0mcancellation_manager\u001b[0m \u001b[1;32mis\u001b[0m \u001b[1;32mNone\u001b[0m\u001b[1;33m:\u001b[0m\u001b[1;33m\u001b[0m\u001b[1;33m\u001b[0m\u001b[0m\n\u001b[1;32m--> 591\u001b[1;33m           outputs = execute.execute(\n\u001b[0m\u001b[0;32m    592\u001b[0m               \u001b[0mstr\u001b[0m\u001b[1;33m(\u001b[0m\u001b[0mself\u001b[0m\u001b[1;33m.\u001b[0m\u001b[0msignature\u001b[0m\u001b[1;33m.\u001b[0m\u001b[0mname\u001b[0m\u001b[1;33m)\u001b[0m\u001b[1;33m,\u001b[0m\u001b[1;33m\u001b[0m\u001b[1;33m\u001b[0m\u001b[0m\n\u001b[0;32m    593\u001b[0m               \u001b[0mnum_outputs\u001b[0m\u001b[1;33m=\u001b[0m\u001b[0mself\u001b[0m\u001b[1;33m.\u001b[0m\u001b[0m_num_outputs\u001b[0m\u001b[1;33m,\u001b[0m\u001b[1;33m\u001b[0m\u001b[1;33m\u001b[0m\u001b[0m\n",
      "\u001b[1;32mC:\\ProgramData\\Anaconda3\\lib\\site-packages\\tensorflow\\python\\eager\\execute.py\u001b[0m in \u001b[0;36mquick_execute\u001b[1;34m(op_name, num_outputs, inputs, attrs, ctx, name)\u001b[0m\n\u001b[0;32m     57\u001b[0m   \u001b[1;32mtry\u001b[0m\u001b[1;33m:\u001b[0m\u001b[1;33m\u001b[0m\u001b[1;33m\u001b[0m\u001b[0m\n\u001b[0;32m     58\u001b[0m     \u001b[0mctx\u001b[0m\u001b[1;33m.\u001b[0m\u001b[0mensure_initialized\u001b[0m\u001b[1;33m(\u001b[0m\u001b[1;33m)\u001b[0m\u001b[1;33m\u001b[0m\u001b[1;33m\u001b[0m\u001b[0m\n\u001b[1;32m---> 59\u001b[1;33m     tensors = pywrap_tfe.TFE_Py_Execute(ctx._handle, device_name, op_name,\n\u001b[0m\u001b[0;32m     60\u001b[0m                                         inputs, attrs, num_outputs)\n\u001b[0;32m     61\u001b[0m   \u001b[1;32mexcept\u001b[0m \u001b[0mcore\u001b[0m\u001b[1;33m.\u001b[0m\u001b[0m_NotOkStatusException\u001b[0m \u001b[1;32mas\u001b[0m \u001b[0me\u001b[0m\u001b[1;33m:\u001b[0m\u001b[1;33m\u001b[0m\u001b[1;33m\u001b[0m\u001b[0m\n",
      "\u001b[1;31mKeyboardInterrupt\u001b[0m: "
     ]
    }
   ],
   "source": [
    "model=Sequential()\n",
    "model.add(Conv2D(512, activation='relu', kernel_size=(3,3), padding='same', input_shape=(150,150,3)))\n",
    "model.add(MaxPooling2D(2))\n",
    "\n",
    "model.add(Conv2D(256, activation='relu', kernel_size=(3,3), padding='same', input_shape=(150,150,3)))\n",
    "model.add(MaxPooling2D(2))\n",
    "\n",
    "model.add(Conv2D(128, activation='relu', kernel_size=(3,3), padding='same', input_shape=(150,150,3)))\n",
    "model.add(MaxPooling2D(2))\n",
    "\n",
    "model.add(Flatten())\n",
    "model.add(Dense(64, activation='relu'))\n",
    "model.add(Dropout(0.4))\n",
    "model.add(Dense(32, activation='relu'))\n",
    "model.add(Dropout(0.4))\n",
    "model.add(Dense(len(train_generator.class_indices), activation='softmax'))\n",
    "\n",
    "model.compile(loss='categorical_crossentropy',\n",
    "              optimizer='adam',\n",
    "              metrics='accuracy')\n",
    "\n",
    "model.fit_generator(\n",
    "        train_generator,\n",
    "        validation_data=valid_generator,\n",
    "#         validation_steps=50,\n",
    "    #verbose=2\n",
    "        epochs=40)\n",
    "model.save_weights('model/first_model.h5')  # 많은 시간을 들여 학습한 모델인 만큼, 학습 후에는 꼭 모델을 저장해줍시다.\n"
   ]
  },
  {
   "cell_type": "markdown",
   "id": "02bbf4e3",
   "metadata": {},
   "source": [
    "### 두번째 모델"
   ]
  },
  {
   "cell_type": "code",
   "execution_count": 3,
   "id": "82ecd7b6",
   "metadata": {},
   "outputs": [],
   "source": [
    "from keras import applications"
   ]
  },
  {
   "cell_type": "code",
   "execution_count": 4,
   "id": "fff1220b",
   "metadata": {},
   "outputs": [],
   "source": [
    "vgg_model = applications.vgg16.VGG16(include_top=False, weights='imagenet', input_shape=(150,150,3))"
   ]
  },
  {
   "cell_type": "code",
   "execution_count": 8,
   "id": "b5e1ced8",
   "metadata": {},
   "outputs": [
    {
     "name": "stdout",
     "output_type": "stream",
     "text": [
      "Found 15689 images belonging to 3 classes.\n",
      "Found 6940 images belonging to 3 classes.\n",
      "Found 6946 images belonging to 3 classes.\n"
     ]
    },
    {
     "data": {
      "text/plain": [
       "<keras.preprocessing.image.DirectoryIterator at 0x250894ce220>"
      ]
     },
     "execution_count": 8,
     "metadata": {},
     "output_type": "execute_result"
    },
    {
     "data": {
      "text/plain": [
       "<keras.preprocessing.image.DirectoryIterator at 0x25088d3b3d0>"
      ]
     },
     "execution_count": 8,
     "metadata": {},
     "output_type": "execute_result"
    },
    {
     "data": {
      "text/plain": [
       "<keras.preprocessing.image.DirectoryIterator at 0x25088d3b2b0>"
      ]
     },
     "execution_count": 8,
     "metadata": {},
     "output_type": "execute_result"
    }
   ],
   "source": [
    "batch_size = 16\n",
    "train_generator = train_dataGen.flow_from_directory(train_path, target_size=(150,150), batch_size=batch_size, class_mode=None, shuffle=False)\n",
    "test_generator = valid_datagen.flow_from_directory(test_path, target_size=(150,150), batch_size=batch_size, class_mode=None, shuffle=False)\n",
    "valid_generator = test_datagen.flow_from_directory(valid_path, target_size=(150,150), batch_size=batch_size, class_mode=None, shuffle=False)\n",
    "train_generator\n",
    "test_generator\n",
    "valid_generator"
   ]
  },
  {
   "cell_type": "code",
   "execution_count": 10,
   "id": "6ae24a56",
   "metadata": {},
   "outputs": [],
   "source": [
    "bottleneck_features_train = vgg_model.predict_generator(train_generator, train_generator.samples//batch_size)\n",
    "np.save(open('model/bottleneck_features_train2.npy', 'wb'), bottleneck_features_train)"
   ]
  },
  {
   "cell_type": "code",
   "execution_count": 14,
   "id": "ef6555e1",
   "metadata": {},
   "outputs": [],
   "source": [
    "bottleneck_features_valid = vgg_model.predict_generator(valid_generator, valid_generator.samples//batch_size)\n",
    "np.save(open('model/bottleneck_features_valid2.npy', 'wb'), bottleneck_features_valid)"
   ]
  },
  {
   "cell_type": "code",
   "execution_count": 14,
   "id": "79dd1e52",
   "metadata": {},
   "outputs": [
    {
     "data": {
      "text/plain": [
       "array([[[[2.9638262 , 0.        , 0.        , ..., 0.        ,\n",
       "          0.5799281 , 0.        ],\n",
       "         [3.1682796 , 0.        , 0.        , ..., 0.        ,\n",
       "          0.56045103, 0.        ],\n",
       "         [1.3320899 , 0.        , 0.14621115, ..., 0.        ,\n",
       "          0.82582194, 0.        ],\n",
       "         [1.4184277 , 0.        , 0.2643201 , ..., 0.        ,\n",
       "          0.7630368 , 0.        ]],\n",
       "\n",
       "        [[2.7745922 , 0.        , 0.        , ..., 0.        ,\n",
       "          0.67750555, 0.        ],\n",
       "         [2.8662744 , 0.        , 0.26052243, ..., 0.        ,\n",
       "          0.33991322, 0.        ],\n",
       "         [1.3859388 , 0.        , 1.2953296 , ..., 0.        ,\n",
       "          0.8689036 , 0.        ],\n",
       "         [0.83747655, 0.        , 1.3656135 , ..., 0.        ,\n",
       "          0.98654073, 0.        ]],\n",
       "\n",
       "        [[0.82537097, 0.        , 0.15404952, ..., 0.        ,\n",
       "          0.7168837 , 0.        ],\n",
       "         [1.4893606 , 0.        , 0.27200404, ..., 0.        ,\n",
       "          0.37301528, 0.        ],\n",
       "         [1.1949186 , 0.        , 1.3631682 , ..., 0.        ,\n",
       "          0.21403497, 0.        ],\n",
       "         [0.8629099 , 0.        , 1.4689734 , ..., 0.        ,\n",
       "          0.2917834 , 0.        ]],\n",
       "\n",
       "        [[0.        , 0.        , 0.16445273, ..., 0.        ,\n",
       "          1.0053123 , 0.        ],\n",
       "         [1.1543388 , 0.        , 0.30699113, ..., 0.        ,\n",
       "          0.7293269 , 0.        ],\n",
       "         [1.0871084 , 0.        , 1.1732965 , ..., 0.        ,\n",
       "          0.24979383, 0.        ],\n",
       "         [1.3288467 , 0.        , 1.432009  , ..., 0.        ,\n",
       "          0.06714875, 0.        ]]],\n",
       "\n",
       "\n",
       "       [[[0.38626865, 0.        , 0.        , ..., 0.        ,\n",
       "          0.90207386, 0.        ],\n",
       "         [0.30835155, 0.        , 0.        , ..., 0.        ,\n",
       "          0.6992088 , 0.        ],\n",
       "         [0.10277915, 0.        , 0.        , ..., 0.        ,\n",
       "          0.5402227 , 0.        ],\n",
       "         [0.        , 0.        , 0.        , ..., 0.        ,\n",
       "          0.52758646, 0.        ]],\n",
       "\n",
       "        [[0.09779538, 0.        , 0.        , ..., 0.        ,\n",
       "          0.85069853, 0.        ],\n",
       "         [0.        , 0.        , 0.        , ..., 0.        ,\n",
       "          0.78826326, 0.        ],\n",
       "         [0.        , 0.        , 0.11023241, ..., 0.        ,\n",
       "          0.5706941 , 0.        ],\n",
       "         [0.        , 0.        , 0.        , ..., 0.        ,\n",
       "          0.5136966 , 0.        ]],\n",
       "\n",
       "        [[0.08690858, 0.        , 0.        , ..., 0.        ,\n",
       "          0.6674414 , 0.        ],\n",
       "         [0.        , 0.        , 0.        , ..., 0.        ,\n",
       "          0.55962324, 0.        ],\n",
       "         [0.        , 0.        , 0.01718789, ..., 0.        ,\n",
       "          0.28051984, 0.        ],\n",
       "         [0.        , 0.        , 0.        , ..., 0.        ,\n",
       "          0.63066757, 0.        ]],\n",
       "\n",
       "        [[0.09375441, 0.        , 0.        , ..., 0.        ,\n",
       "          0.45861763, 0.        ],\n",
       "         [0.        , 0.        , 0.        , ..., 0.        ,\n",
       "          0.0055961 , 0.        ],\n",
       "         [0.        , 0.        , 0.        , ..., 0.        ,\n",
       "          0.08710527, 0.        ],\n",
       "         [0.        , 0.        , 0.        , ..., 0.        ,\n",
       "          0.27561674, 0.        ]]],\n",
       "\n",
       "\n",
       "       [[[0.        , 0.        , 0.        , ..., 0.        ,\n",
       "          1.3478851 , 0.        ],\n",
       "         [0.12446725, 0.        , 0.        , ..., 0.        ,\n",
       "          1.6059191 , 0.        ],\n",
       "         [0.        , 0.        , 0.        , ..., 0.        ,\n",
       "          0.95320654, 0.        ],\n",
       "         [1.1360202 , 0.        , 0.05105412, ..., 0.        ,\n",
       "          1.1299024 , 0.        ]],\n",
       "\n",
       "        [[0.        , 0.        , 0.1724782 , ..., 0.        ,\n",
       "          1.5050967 , 0.        ],\n",
       "         [0.21820855, 0.        , 0.        , ..., 0.        ,\n",
       "          1.5981531 , 0.        ],\n",
       "         [1.0336637 , 0.        , 0.        , ..., 0.        ,\n",
       "          0.58874226, 0.        ],\n",
       "         [1.1317494 , 0.        , 0.11316407, ..., 0.        ,\n",
       "          1.3520744 , 0.        ]],\n",
       "\n",
       "        [[1.043165  , 0.        , 0.27420557, ..., 0.        ,\n",
       "          1.0304384 , 0.        ],\n",
       "         [0.6525948 , 0.        , 0.14852917, ..., 0.        ,\n",
       "          1.1129901 , 0.        ],\n",
       "         [0.9892204 , 0.        , 0.36337882, ..., 0.        ,\n",
       "          1.0894711 , 0.        ],\n",
       "         [1.0037127 , 0.        , 0.15247786, ..., 0.        ,\n",
       "          1.1887696 , 0.        ]],\n",
       "\n",
       "        [[0.4914289 , 0.        , 0.59826756, ..., 0.        ,\n",
       "          1.3534268 , 0.        ],\n",
       "         [0.17968798, 0.        , 0.4767516 , ..., 0.        ,\n",
       "          1.2029086 , 0.        ],\n",
       "         [0.34820834, 0.        , 0.4092558 , ..., 0.        ,\n",
       "          1.0920638 , 0.        ],\n",
       "         [0.30857566, 0.        , 0.16064072, ..., 0.        ,\n",
       "          0.68576664, 0.        ]]],\n",
       "\n",
       "\n",
       "       ...,\n",
       "\n",
       "\n",
       "       [[[0.84397036, 0.        , 0.        , ..., 0.        ,\n",
       "          1.0610819 , 0.        ],\n",
       "         [0.7259581 , 0.        , 0.15142307, ..., 0.        ,\n",
       "          0.91879255, 0.        ],\n",
       "         [0.341374  , 0.        , 0.59748244, ..., 0.        ,\n",
       "          0.7589523 , 0.        ],\n",
       "         [0.24433255, 0.        , 0.70576566, ..., 0.        ,\n",
       "          1.0345091 , 0.        ]],\n",
       "\n",
       "        [[0.84576774, 0.        , 0.        , ..., 0.        ,\n",
       "          0.9846159 , 0.        ],\n",
       "         [0.7170024 , 0.        , 1.4961832 , ..., 0.        ,\n",
       "          0.8043147 , 0.        ],\n",
       "         [0.32545805, 0.        , 1.553628  , ..., 0.        ,\n",
       "          0.33043808, 0.        ],\n",
       "         [0.7211053 , 0.        , 0.8649005 , ..., 0.        ,\n",
       "          0.6242335 , 0.        ]],\n",
       "\n",
       "        [[0.46165282, 0.        , 0.99702305, ..., 0.        ,\n",
       "          0.99886715, 0.        ],\n",
       "         [0.74238217, 0.        , 1.9485259 , ..., 0.34824815,\n",
       "          0.2327888 , 0.        ],\n",
       "         [1.0265139 , 0.        , 1.4570627 , ..., 0.49371943,\n",
       "          0.39001408, 0.        ],\n",
       "         [0.6400983 , 0.        , 0.2140069 , ..., 0.0514606 ,\n",
       "          0.37574118, 0.        ]],\n",
       "\n",
       "        [[0.15344197, 0.        , 0.84104943, ..., 0.        ,\n",
       "          1.188564  , 0.        ],\n",
       "         [0.5192561 , 0.        , 1.2276623 , ..., 0.09132317,\n",
       "          0.82417595, 0.        ],\n",
       "         [0.9880264 , 0.        , 0.92619926, ..., 0.27502957,\n",
       "          0.7591052 , 0.        ],\n",
       "         [0.5537271 , 0.        , 0.3187049 , ..., 0.        ,\n",
       "          0.79437166, 0.        ]]],\n",
       "\n",
       "\n",
       "       [[[0.03259969, 0.        , 0.        , ..., 0.        ,\n",
       "          1.4474211 , 0.        ],\n",
       "         [0.0381341 , 0.        , 0.11279893, ..., 0.34846598,\n",
       "          1.3459058 , 0.        ],\n",
       "         [0.03006291, 0.        , 0.5590201 , ..., 0.276536  ,\n",
       "          1.4235011 , 0.        ],\n",
       "         [0.05175358, 0.        , 0.62343395, ..., 0.        ,\n",
       "          1.2501395 , 0.        ]],\n",
       "\n",
       "        [[0.        , 0.        , 0.37952954, ..., 0.00518874,\n",
       "          1.3847725 , 0.        ],\n",
       "         [0.33896917, 0.        , 0.2436555 , ..., 0.64501786,\n",
       "          1.4799254 , 0.        ],\n",
       "         [0.5493691 , 0.        , 0.5588163 , ..., 0.46299866,\n",
       "          1.4333007 , 0.        ],\n",
       "         [0.14288664, 0.        , 0.5317836 , ..., 0.01292896,\n",
       "          1.2966707 , 0.        ]],\n",
       "\n",
       "        [[0.30685163, 0.        , 0.27627817, ..., 0.11066245,\n",
       "          1.0572608 , 0.        ],\n",
       "         [1.0489118 , 0.        , 0.22250831, ..., 0.28098658,\n",
       "          0.9487368 , 0.        ],\n",
       "         [0.98889637, 0.        , 0.6642364 , ..., 0.06547598,\n",
       "          0.39087754, 0.        ],\n",
       "         [0.20536113, 0.        , 0.84142184, ..., 0.        ,\n",
       "          0.6930669 , 0.        ]],\n",
       "\n",
       "        [[1.14747   , 0.        , 0.12743741, ..., 0.        ,\n",
       "          0.97559136, 0.        ],\n",
       "         [1.4583973 , 0.        , 0.        , ..., 0.        ,\n",
       "          0.08503622, 0.        ],\n",
       "         [1.1417466 , 0.        , 0.        , ..., 0.        ,\n",
       "          0.        , 0.        ],\n",
       "         [0.68789613, 0.        , 0.73085475, ..., 0.        ,\n",
       "          0.28681672, 0.        ]]],\n",
       "\n",
       "\n",
       "       [[[1.320155  , 0.        , 0.        , ..., 0.        ,\n",
       "          0.16491085, 0.        ],\n",
       "         [0.36627603, 0.        , 0.        , ..., 0.        ,\n",
       "          0.        , 0.        ],\n",
       "         [0.        , 0.        , 0.        , ..., 0.        ,\n",
       "          0.        , 0.        ],\n",
       "         [0.12289932, 0.        , 0.        , ..., 0.        ,\n",
       "          0.        , 0.        ]],\n",
       "\n",
       "        [[1.2377902 , 0.        , 0.022811  , ..., 0.        ,\n",
       "          0.6857118 , 0.        ],\n",
       "         [0.2832985 , 0.        , 0.22688091, ..., 0.        ,\n",
       "          0.        , 0.        ],\n",
       "         [0.35830313, 0.        , 0.        , ..., 0.        ,\n",
       "          0.        , 0.        ],\n",
       "         [0.6956206 , 0.        , 0.03052884, ..., 0.        ,\n",
       "          0.        , 0.        ]],\n",
       "\n",
       "        [[0.        , 0.        , 0.15000474, ..., 0.        ,\n",
       "          0.8224389 , 0.        ],\n",
       "         [0.        , 0.        , 0.57975936, ..., 0.        ,\n",
       "          0.        , 0.        ],\n",
       "         [0.        , 0.        , 0.        , ..., 0.        ,\n",
       "          0.        , 0.        ],\n",
       "         [0.        , 0.        , 0.        , ..., 0.        ,\n",
       "          0.0125736 , 0.        ]],\n",
       "\n",
       "        [[0.        , 0.        , 0.        , ..., 0.        ,\n",
       "          0.75651664, 0.        ],\n",
       "         [0.4514066 , 0.        , 0.32586312, ..., 0.        ,\n",
       "          0.19152927, 0.        ],\n",
       "         [0.9480183 , 0.        , 0.        , ..., 0.        ,\n",
       "          0.        , 0.        ],\n",
       "         [0.84538114, 0.        , 0.        , ..., 0.        ,\n",
       "          0.1533047 , 0.        ]]]], dtype=float32)"
      ]
     },
     "execution_count": 14,
     "metadata": {},
     "output_type": "execute_result"
    }
   ],
   "source": [
    "train_data = np.load(open('model/bottleneck_features_train.npy', 'rb'))\n",
    "valid_data = np.load(open('model/bottleneck_features_valid.npy', 'rb'))\n",
    "valid_data"
   ]
  },
  {
   "cell_type": "code",
   "execution_count": 15,
   "id": "7ee65e0c",
   "metadata": {},
   "outputs": [
    {
     "data": {
      "text/plain": [
       "{'train_cockroach': 4356,\n",
       " 'train_etc': 3425,\n",
       " 'train_spider': 7908,\n",
       " 'test_cockroach': 1074,\n",
       " 'test_etc': 3864,\n",
       " 'test_spider': 2006,\n",
       " 'valid_cockroach': 1064,\n",
       " 'valid_etc': 3924,\n",
       " 'valid_spider': 1966}"
      ]
     },
     "execution_count": 15,
     "metadata": {},
     "output_type": "execute_result"
    },
    {
     "data": {
      "text/plain": [
       "[4356, 3425, 7908, 1074, 3864, 2006, 1064, 3924, 1966]"
      ]
     },
     "execution_count": 15,
     "metadata": {},
     "output_type": "execute_result"
    },
    {
     "data": {
      "text/plain": [
       "['train_cockroach',\n",
       " 'train_etc',\n",
       " 'train_spider',\n",
       " 'test_cockroach',\n",
       " 'test_etc',\n",
       " 'test_spider',\n",
       " 'valid_cockroach',\n",
       " 'valid_etc',\n",
       " 'valid_spider']"
      ]
     },
     "execution_count": 15,
     "metadata": {},
     "output_type": "execute_result"
    }
   ],
   "source": [
    "label_counts\n",
    "list(label_counts.values())\n",
    "list(label_counts.keys())"
   ]
  },
  {
   "cell_type": "code",
   "execution_count": 16,
   "id": "f78e7850",
   "metadata": {},
   "outputs": [
    {
     "data": {
      "text/plain": [
       "(15680, 4, 4, 512)"
      ]
     },
     "execution_count": 16,
     "metadata": {},
     "output_type": "execute_result"
    },
    {
     "data": {
      "text/plain": [
       "(15680,)"
      ]
     },
     "execution_count": 16,
     "metadata": {},
     "output_type": "execute_result"
    },
    {
     "data": {
      "text/plain": [
       "(2304, 4, 4, 512)"
      ]
     },
     "execution_count": 16,
     "metadata": {},
     "output_type": "execute_result"
    },
    {
     "data": {
      "text/plain": [
       "(2304,)"
      ]
     },
     "execution_count": 16,
     "metadata": {},
     "output_type": "execute_result"
    }
   ],
   "source": [
    "train_labels = np.array([0] * label_counts['train_cockroach'] +\n",
    "                       [1] * label_counts['train_etc'] +\n",
    "                       [2] * (label_counts['train_spider']-9))\n",
    "valid_labels = np.array([0] * (label_counts['valid_cockroach']//3) +\n",
    "                       [1] * (label_counts['valid_etc']//3 )+\n",
    "                       [2] * (label_counts['valid_spider']//3-13))\n",
    "train_data.shape\n",
    "train_labels.shape\n",
    "valid_data.shape\n",
    "valid_labels.shape"
   ]
  },
  {
   "cell_type": "code",
   "execution_count": 17,
   "id": "669aea23",
   "metadata": {},
   "outputs": [],
   "source": [
    "train_labels = to_categorical(train_labels, 3)\n",
    "valid_labels = to_categorical(valid_labels, 3)"
   ]
  },
  {
   "cell_type": "code",
   "execution_count": 18,
   "id": "7fa00e3e",
   "metadata": {},
   "outputs": [],
   "source": [
    "vgg_model = Sequential()\n",
    "vgg_model.add(Flatten(input_shape=train_data.shape[1:]))\n",
    "vgg_model.add(Dense(256, activation='relu'))\n",
    "vgg_model.add(Dropout(0.4))\n",
    "vgg_model.add(Dense(64, activation='relu'))\n",
    "vgg_model.add(Dropout(0.4))\n",
    "vgg_model.add(Dense(3, activation='softmax'))"
   ]
  },
  {
   "cell_type": "code",
   "execution_count": 21,
   "id": "8c1b7b23",
   "metadata": {},
   "outputs": [
    {
     "name": "stdout",
     "output_type": "stream",
     "text": [
      "Epoch 1/100\n",
      "980/980 [==============================] - 3s 3ms/step - loss: 1.0415 - accuracy: 0.5030 - val_loss: 1.2005 - val_accuracy: 0.2786\n",
      "Epoch 2/100\n",
      "980/980 [==============================] - 3s 3ms/step - loss: 1.0355 - accuracy: 0.5038 - val_loss: 1.2326 - val_accuracy: 0.2786\n",
      "Epoch 3/100\n",
      "980/980 [==============================] - 3s 3ms/step - loss: 1.0339 - accuracy: 0.5038 - val_loss: 1.2394 - val_accuracy: 0.2786\n",
      "Epoch 4/100\n",
      "980/980 [==============================] - 3s 3ms/step - loss: 1.0340 - accuracy: 0.5038 - val_loss: 1.2445 - val_accuracy: 0.2786\n",
      "Epoch 5/100\n",
      "980/980 [==============================] - 3s 3ms/step - loss: 1.0334 - accuracy: 0.5038 - val_loss: 1.2578 - val_accuracy: 0.2786\n",
      "Epoch 6/100\n",
      "980/980 [==============================] - 3s 3ms/step - loss: 1.0338 - accuracy: 0.5038 - val_loss: 1.2365 - val_accuracy: 0.2786\n",
      "Epoch 7/100\n",
      "980/980 [==============================] - 3s 3ms/step - loss: 1.0339 - accuracy: 0.5036 - val_loss: 1.2452 - val_accuracy: 0.2786\n",
      "Epoch 8/100\n",
      "980/980 [==============================] - 3s 3ms/step - loss: 1.0337 - accuracy: 0.5038 - val_loss: 1.2529 - val_accuracy: 0.2786\n",
      "Epoch 9/100\n",
      "980/980 [==============================] - 3s 3ms/step - loss: 1.0335 - accuracy: 0.5039 - val_loss: 1.2592 - val_accuracy: 0.2786\n",
      "Epoch 10/100\n",
      "980/980 [==============================] - 3s 3ms/step - loss: 1.0336 - accuracy: 0.5038 - val_loss: 1.2504 - val_accuracy: 0.2786\n",
      "Epoch 11/100\n",
      "980/980 [==============================] - 3s 3ms/step - loss: 1.0341 - accuracy: 0.5037 - val_loss: 1.2522 - val_accuracy: 0.2786\n",
      "Epoch 12/100\n",
      "980/980 [==============================] - 3s 3ms/step - loss: 1.0335 - accuracy: 0.5038 - val_loss: 1.2447 - val_accuracy: 0.2786\n",
      "Epoch 13/100\n",
      "980/980 [==============================] - 3s 3ms/step - loss: 1.0334 - accuracy: 0.5039 - val_loss: 1.2620 - val_accuracy: 0.2786\n",
      "Epoch 14/100\n",
      "980/980 [==============================] - 3s 3ms/step - loss: 1.0333 - accuracy: 0.5039 - val_loss: 1.2458 - val_accuracy: 0.2786\n",
      "Epoch 15/100\n",
      "980/980 [==============================] - 3s 3ms/step - loss: 1.0333 - accuracy: 0.5040 - val_loss: 1.2419 - val_accuracy: 0.2786\n",
      "Epoch 16/100\n",
      "980/980 [==============================] - 3s 3ms/step - loss: 1.0331 - accuracy: 0.5039 - val_loss: 1.2529 - val_accuracy: 0.2786\n",
      "Epoch 17/100\n",
      "980/980 [==============================] - 3s 3ms/step - loss: 1.0329 - accuracy: 0.5040 - val_loss: 1.2518 - val_accuracy: 0.2786\n",
      "Epoch 18/100\n",
      "980/980 [==============================] - 3s 3ms/step - loss: 1.0332 - accuracy: 0.5040 - val_loss: 1.2496 - val_accuracy: 0.2786\n",
      "Epoch 19/100\n",
      "980/980 [==============================] - 3s 3ms/step - loss: 1.0329 - accuracy: 0.5040 - val_loss: 1.2483 - val_accuracy: 0.2786\n",
      "Epoch 20/100\n",
      "980/980 [==============================] - 3s 3ms/step - loss: 1.0329 - accuracy: 0.5039 - val_loss: 1.2471 - val_accuracy: 0.2786\n",
      "Epoch 21/100\n",
      "980/980 [==============================] - 3s 3ms/step - loss: 1.0330 - accuracy: 0.5040 - val_loss: 1.2493 - val_accuracy: 0.2786\n",
      "Epoch 22/100\n",
      "980/980 [==============================] - 3s 3ms/step - loss: 1.0328 - accuracy: 0.5040 - val_loss: 1.2593 - val_accuracy: 0.2786\n",
      "Epoch 23/100\n",
      "980/980 [==============================] - 3s 3ms/step - loss: 1.0330 - accuracy: 0.5040 - val_loss: 1.2549 - val_accuracy: 0.2786\n",
      "Epoch 24/100\n",
      "980/980 [==============================] - 3s 3ms/step - loss: 1.0331 - accuracy: 0.5040 - val_loss: 1.2484 - val_accuracy: 0.2786\n",
      "Epoch 25/100\n",
      "980/980 [==============================] - 3s 3ms/step - loss: 1.0330 - accuracy: 0.5039 - val_loss: 1.2464 - val_accuracy: 0.2786\n",
      "Epoch 26/100\n",
      "980/980 [==============================] - 3s 3ms/step - loss: 1.0330 - accuracy: 0.5039 - val_loss: 1.2469 - val_accuracy: 0.2786\n",
      "Epoch 27/100\n",
      "980/980 [==============================] - 3s 3ms/step - loss: 1.0325 - accuracy: 0.5040 - val_loss: 1.2475 - val_accuracy: 0.2786\n",
      "Epoch 28/100\n",
      "980/980 [==============================] - 3s 3ms/step - loss: 1.0327 - accuracy: 0.5039 - val_loss: 1.2518 - val_accuracy: 0.2786\n",
      "Epoch 29/100\n",
      "980/980 [==============================] - 3s 3ms/step - loss: 1.0324 - accuracy: 0.5040 - val_loss: 1.2509 - val_accuracy: 0.2786\n",
      "Epoch 30/100\n",
      "980/980 [==============================] - 3s 3ms/step - loss: 1.0329 - accuracy: 0.5039 - val_loss: 1.2515 - val_accuracy: 0.2786\n",
      "Epoch 31/100\n",
      "980/980 [==============================] - 3s 3ms/step - loss: 1.0328 - accuracy: 0.5038 - val_loss: 1.2531 - val_accuracy: 0.2786\n",
      "Epoch 32/100\n",
      "980/980 [==============================] - 3s 3ms/step - loss: 1.0325 - accuracy: 0.5040 - val_loss: 1.2578 - val_accuracy: 0.2786\n",
      "Epoch 33/100\n",
      "980/980 [==============================] - 3s 3ms/step - loss: 1.0325 - accuracy: 0.5040 - val_loss: 1.2567 - val_accuracy: 0.2786\n",
      "Epoch 34/100\n",
      "980/980 [==============================] - 3s 3ms/step - loss: 1.0320 - accuracy: 0.5041 - val_loss: 1.2616 - val_accuracy: 0.2786\n",
      "Epoch 35/100\n",
      "980/980 [==============================] - 3s 3ms/step - loss: 1.0322 - accuracy: 0.5040 - val_loss: 1.2560 - val_accuracy: 0.2786\n",
      "Epoch 36/100\n",
      "980/980 [==============================] - 3s 3ms/step - loss: 1.0321 - accuracy: 0.5040 - val_loss: 1.2611 - val_accuracy: 0.27860 - accuracy: 0.50\n",
      "Epoch 37/100\n",
      "980/980 [==============================] - 3s 3ms/step - loss: 1.0322 - accuracy: 0.5040 - val_loss: 1.2586 - val_accuracy: 0.2786\n",
      "Epoch 38/100\n",
      "980/980 [==============================] - 3s 3ms/step - loss: 1.0321 - accuracy: 0.5040 - val_loss: 1.2681 - val_accuracy: 0.2786\n",
      "Epoch 39/100\n",
      "980/980 [==============================] - 3s 3ms/step - loss: 1.0329 - accuracy: 0.5040 - val_loss: 1.2644 - val_accuracy: 0.2786\n",
      "Epoch 40/100\n",
      "980/980 [==============================] - 3s 3ms/step - loss: 1.0324 - accuracy: 0.5041 - val_loss: 1.2473 - val_accuracy: 0.2786\n",
      "Epoch 41/100\n",
      "980/980 [==============================] - 3s 3ms/step - loss: 1.0333 - accuracy: 0.5041 - val_loss: 1.2700 - val_accuracy: 0.2786\n",
      "Epoch 42/100\n",
      "980/980 [==============================] - 3s 3ms/step - loss: 1.0336 - accuracy: 0.5040 - val_loss: 1.2461 - val_accuracy: 0.2786\n",
      "Epoch 43/100\n",
      "980/980 [==============================] - 3s 3ms/step - loss: 1.0333 - accuracy: 0.5040 - val_loss: 1.2668 - val_accuracy: 0.2786\n",
      "Epoch 44/100\n",
      "980/980 [==============================] - 3s 3ms/step - loss: 1.0321 - accuracy: 0.5041 - val_loss: 1.3285 - val_accuracy: 0.2786\n",
      "Epoch 45/100\n",
      "980/980 [==============================] - 3s 3ms/step - loss: 1.0318 - accuracy: 0.5040 - val_loss: 1.2586 - val_accuracy: 0.2786\n",
      "Epoch 46/100\n",
      "980/980 [==============================] - 3s 3ms/step - loss: 1.0326 - accuracy: 0.5039 - val_loss: 1.2585 - val_accuracy: 0.2786\n",
      "Epoch 47/100\n",
      "980/980 [==============================] - 3s 3ms/step - loss: 1.0322 - accuracy: 0.5041 - val_loss: 1.2589 - val_accuracy: 0.2786\n",
      "Epoch 48/100\n",
      "980/980 [==============================] - 3s 3ms/step - loss: 1.0322 - accuracy: 0.5041 - val_loss: 1.2655 - val_accuracy: 0.2786\n",
      "Epoch 49/100\n",
      "980/980 [==============================] - 3s 3ms/step - loss: 1.0318 - accuracy: 0.5040 - val_loss: 1.2671 - val_accuracy: 0.2786\n",
      "Epoch 50/100\n",
      "980/980 [==============================] - 3s 3ms/step - loss: 1.0318 - accuracy: 0.5040 - val_loss: 1.5108 - val_accuracy: 0.2786 1.0313 - accu\n",
      "Epoch 51/100\n",
      "980/980 [==============================] - 3s 3ms/step - loss: 1.0331 - accuracy: 0.5040 - val_loss: 1.2711 - val_accuracy: 0.2786\n",
      "Epoch 52/100\n",
      "980/980 [==============================] - 3s 3ms/step - loss: 1.0315 - accuracy: 0.5041 - val_loss: 1.3100 - val_accuracy: 0.2786\n",
      "Epoch 53/100\n",
      "980/980 [==============================] - 3s 3ms/step - loss: 1.0332 - accuracy: 0.5041 - val_loss: 1.2654 - val_accuracy: 0.2786\n",
      "Epoch 54/100\n",
      "980/980 [==============================] - 3s 3ms/step - loss: 1.0314 - accuracy: 0.5041 - val_loss: 1.2882 - val_accuracy: 0.2786\n",
      "Epoch 55/100\n",
      "980/980 [==============================] - 3s 3ms/step - loss: 1.0329 - accuracy: 0.5038 - val_loss: 1.2599 - val_accuracy: 0.2786 - loss: 1\n",
      "Epoch 56/100\n",
      "980/980 [==============================] - 3s 3ms/step - loss: 1.0316 - accuracy: 0.5041 - val_loss: 1.2851 - val_accuracy: 0.2786\n",
      "Epoch 57/100\n"
     ]
    },
    {
     "name": "stdout",
     "output_type": "stream",
     "text": [
      "980/980 [==============================] - 3s 3ms/step - loss: 1.0324 - accuracy: 0.5042 - val_loss: 1.2908 - val_accuracy: 0.2786\n",
      "Epoch 58/100\n",
      "980/980 [==============================] - 3s 3ms/step - loss: 1.0316 - accuracy: 0.5041 - val_loss: 1.2727 - val_accuracy: 0.2786\n",
      "Epoch 59/100\n",
      "980/980 [==============================] - 3s 3ms/step - loss: 1.0327 - accuracy: 0.5041 - val_loss: 1.2954 - val_accuracy: 0.2786\n",
      "Epoch 60/100\n",
      "980/980 [==============================] - 3s 3ms/step - loss: 1.0312 - accuracy: 0.5041 - val_loss: 1.2745 - val_accuracy: 0.2786\n",
      "Epoch 61/100\n",
      "980/980 [==============================] - 3s 3ms/step - loss: 1.0313 - accuracy: 0.5040 - val_loss: 1.2859 - val_accuracy: 0.2786\n",
      "Epoch 62/100\n",
      "980/980 [==============================] - 3s 3ms/step - loss: 1.0316 - accuracy: 0.5040 - val_loss: 1.2844 - val_accuracy: 0.2786\n",
      "Epoch 63/100\n",
      "980/980 [==============================] - 3s 3ms/step - loss: 1.0313 - accuracy: 0.5041 - val_loss: 1.2898 - val_accuracy: 0.2786\n",
      "Epoch 64/100\n",
      "980/980 [==============================] - 3s 3ms/step - loss: 1.0318 - accuracy: 0.5040 - val_loss: 1.2590 - val_accuracy: 0.2786\n",
      "Epoch 65/100\n",
      "980/980 [==============================] - 3s 3ms/step - loss: 1.0311 - accuracy: 0.5040 - val_loss: 1.2754 - val_accuracy: 0.2786\n",
      "Epoch 66/100\n",
      "980/980 [==============================] - 3s 3ms/step - loss: 1.0314 - accuracy: 0.5041 - val_loss: 1.2700 - val_accuracy: 0.2786\n",
      "Epoch 67/100\n",
      "980/980 [==============================] - 3s 3ms/step - loss: 1.0311 - accuracy: 0.5041 - val_loss: 1.2796 - val_accuracy: 0.2786\n",
      "Epoch 68/100\n",
      "980/980 [==============================] - 3s 3ms/step - loss: 1.0308 - accuracy: 0.5040 - val_loss: 1.2803 - val_accuracy: 0.2786\n",
      "Epoch 69/100\n",
      "980/980 [==============================] - 3s 3ms/step - loss: 1.0307 - accuracy: 0.5042 - val_loss: 1.2925 - val_accuracy: 0.2786\n",
      "Epoch 70/100\n",
      "980/980 [==============================] - 3s 3ms/step - loss: 1.0302 - accuracy: 0.5040 - val_loss: 1.3211 - val_accuracy: 0.2786\n",
      "Epoch 71/100\n",
      "980/980 [==============================] - 3s 3ms/step - loss: 1.0301 - accuracy: 0.5041 - val_loss: 1.3255 - val_accuracy: 0.2786\n",
      "Epoch 72/100\n",
      "980/980 [==============================] - 3s 3ms/step - loss: 1.0303 - accuracy: 0.5040 - val_loss: 1.3269 - val_accuracy: 0.2786\n",
      "Epoch 73/100\n",
      "980/980 [==============================] - 3s 3ms/step - loss: 1.0296 - accuracy: 0.5041 - val_loss: 1.3027 - val_accuracy: 0.2786\n",
      "Epoch 74/100\n",
      "980/980 [==============================] - 3s 3ms/step - loss: 1.0301 - accuracy: 0.5040 - val_loss: 1.4128 - val_accuracy: 0.2786\n",
      "Epoch 75/100\n",
      "980/980 [==============================] - 3s 3ms/step - loss: 1.0296 - accuracy: 0.5041 - val_loss: 1.3951 - val_accuracy: 0.2786\n",
      "Epoch 76/100\n",
      "980/980 [==============================] - 3s 3ms/step - loss: 1.0302 - accuracy: 0.5041 - val_loss: 1.3223 - val_accuracy: 0.2786\n",
      "Epoch 77/100\n",
      "980/980 [==============================] - 3s 3ms/step - loss: 1.0295 - accuracy: 0.5041 - val_loss: 1.3927 - val_accuracy: 0.2786\n",
      "Epoch 78/100\n",
      "980/980 [==============================] - 3s 3ms/step - loss: 1.0294 - accuracy: 0.5040 - val_loss: 1.3843 - val_accuracy: 0.2786\n",
      "Epoch 79/100\n",
      "980/980 [==============================] - 3s 3ms/step - loss: 1.0297 - accuracy: 0.5041 - val_loss: 1.3820 - val_accuracy: 0.2786\n",
      "Epoch 80/100\n",
      "980/980 [==============================] - 3s 3ms/step - loss: 1.0301 - accuracy: 0.5040 - val_loss: 1.3045 - val_accuracy: 0.2786\n",
      "Epoch 81/100\n",
      "980/980 [==============================] - 3s 3ms/step - loss: 1.0297 - accuracy: 0.5041 - val_loss: 1.3753 - val_accuracy: 0.2786\n",
      "Epoch 82/100\n",
      "980/980 [==============================] - 3s 3ms/step - loss: 1.0291 - accuracy: 0.5040 - val_loss: 1.3920 - val_accuracy: 0.2786\n",
      "Epoch 83/100\n",
      "980/980 [==============================] - 3s 3ms/step - loss: 1.0285 - accuracy: 0.5040 - val_loss: 1.4979 - val_accuracy: 0.2786\n",
      "Epoch 84/100\n",
      "980/980 [==============================] - 3s 3ms/step - loss: 1.0282 - accuracy: 0.5041 - val_loss: 1.5235 - val_accuracy: 0.2786\n",
      "Epoch 85/100\n",
      "980/980 [==============================] - 3s 3ms/step - loss: 1.0297 - accuracy: 0.5040 - val_loss: 1.4205 - val_accuracy: 0.2786\n",
      "Epoch 86/100\n",
      "980/980 [==============================] - 3s 3ms/step - loss: 1.0284 - accuracy: 0.5041 - val_loss: 1.4411 - val_accuracy: 0.2786\n",
      "Epoch 87/100\n",
      "980/980 [==============================] - 3s 3ms/step - loss: 1.0285 - accuracy: 0.5041 - val_loss: 1.4811 - val_accuracy: 0.2786\n",
      "Epoch 88/100\n",
      "980/980 [==============================] - 3s 3ms/step - loss: 1.0286 - accuracy: 0.5041 - val_loss: 1.5340 - val_accuracy: 0.2786\n",
      "Epoch 89/100\n",
      "980/980 [==============================] - 3s 3ms/step - loss: 1.0286 - accuracy: 0.5042 - val_loss: 1.6664 - val_accuracy: 0.2786\n",
      "Epoch 90/100\n",
      "980/980 [==============================] - 3s 3ms/step - loss: 1.0285 - accuracy: 0.5041 - val_loss: 1.5757 - val_accuracy: 0.2786\n",
      "Epoch 91/100\n",
      "980/980 [==============================] - 3s 3ms/step - loss: 1.0281 - accuracy: 0.5041 - val_loss: 1.6396 - val_accuracy: 0.2786\n",
      "Epoch 92/100\n",
      "980/980 [==============================] - 3s 3ms/step - loss: 1.0299 - accuracy: 0.5041 - val_loss: 1.5216 - val_accuracy: 0.2786\n",
      "Epoch 93/100\n",
      "980/980 [==============================] - 3s 3ms/step - loss: 1.0297 - accuracy: 0.5041 - val_loss: 1.4700 - val_accuracy: 0.2786\n",
      "Epoch 94/100\n",
      "980/980 [==============================] - 3s 3ms/step - loss: 1.0284 - accuracy: 0.5040 - val_loss: 1.5856 - val_accuracy: 0.2786\n",
      "Epoch 95/100\n",
      "980/980 [==============================] - 3s 3ms/step - loss: 1.0286 - accuracy: 0.5041 - val_loss: 1.3960 - val_accuracy: 0.2786\n",
      "Epoch 96/100\n",
      "980/980 [==============================] - 3s 3ms/step - loss: 1.0291 - accuracy: 0.5041 - val_loss: 1.5892 - val_accuracy: 0.2786\n",
      "Epoch 97/100\n",
      "980/980 [==============================] - 3s 3ms/step - loss: 1.0289 - accuracy: 0.5040 - val_loss: 1.3517 - val_accuracy: 0.2786\n",
      "Epoch 98/100\n",
      "980/980 [==============================] - 3s 3ms/step - loss: 1.0288 - accuracy: 0.5041 - val_loss: 1.6587 - val_accuracy: 0.2786\n",
      "Epoch 99/100\n",
      "980/980 [==============================] - 3s 3ms/step - loss: 1.0286 - accuracy: 0.5040 - val_loss: 1.4539 - val_accuracy: 0.2786\n",
      "Epoch 100/100\n",
      "980/980 [==============================] - 3s 3ms/step - loss: 1.0272 - accuracy: 0.5042 - val_loss: 1.5145 - val_accuracy: 0.2786\n"
     ]
    }
   ],
   "source": [
    "vgg_model.compile(optimizer='adam',\n",
    "              loss='categorical_crossentropy',\n",
    "              metrics=['accuracy'])\n",
    "checkpoint_cb = keras.callbacks.ModelCheckpoint('model/best-cnn-model.h5')\n",
    "# early_stopping_cb = keras.callbacks.EarlyStopping(patience=2, restore_best_weights=True)\n",
    "history = vgg_model.fit(train_data, train_labels,\n",
    "          batch_size=batch_size,\n",
    "          epochs=100,\n",
    "          validation_data=(valid_data, valid_labels),\n",
    "         callbacks=[checkpoint_cb])\n",
    "vgg_model.save_weights('model/second_model.h5')"
   ]
  },
  {
   "cell_type": "code",
   "execution_count": 62,
   "id": "2769b568",
   "metadata": {},
   "outputs": [
    {
     "data": {
      "image/png": "[encoded data removed]",
      "text/plain": [
       "<Figure size 720x432 with 2 Axes>"
      ]
     },
     "metadata": {},
     "output_type": "display_data"
    }
   ],
   "source": [
    "fig, ax1 = plt.subplots()\n",
    "\n",
    "# 테스트 셋의 오차\n",
    "y_vloss = history.history['val_loss']\n",
    "\n",
    "# 학습셋의 오차\n",
    "y_loss = history.history['loss']\n",
    "# 테스트 셋의 정답률\n",
    "y_vaccuracy = history.history['val_accuracy']\n",
    "# 학습셋의 정답률\n",
    "y_accuracy = history.history['accuracy']\n",
    "\n",
    "# 그래프로 표현\n",
    "x_len = np.arange(len(y_loss))\n",
    "ax1.plot(x_len, y_vloss, marker='.', c=\"red\", label='Testset_accuracy')\n",
    "ax1.plot(x_len, y_loss, marker='.', c=\"blue\", label='Trainset_accuracy')\n",
    "\n",
    "ax2 = ax1.twinx()\n",
    "# 그래프로 표현\n",
    "x_len = np.arange(len(y_loss))\n",
    "ax2.plot(x_len, y_vaccuracy, marker='.', c=\"#aacc22\", label='Testset_loss', alpha=0.3)\n",
    "ax2.plot(x_len, y_accuracy, marker='.', c=\"#33ccbb\", label='Trainset_loss', alpha=0.3)\n",
    "\n",
    "# 그래프에 그리드를 주고 레이블을 표시\n",
    "ax1.legend(loc='upper left')\n",
    "ax2.legend(loc='upper right')\n",
    "ax1.set_xlabel('epoch', fontsize=15)\n",
    "ax1.set_ylabel('loss', fontsize=15)\n",
    "ax2.set_ylabel('accuracy', fontsize=15)\n",
    "plt.ylim(0, 2)\n",
    "ax1.grid()\n",
    "ax2.grid()\n",
    "plt.savefig('figure/second_model_rate.png')\n",
    "plt.show();\n"
   ]
  },
  {
   "cell_type": "code",
   "execution_count": 24,
   "id": "e59e3ea1",
   "metadata": {},
   "outputs": [
    {
     "data": {
      "text/plain": [
       "dict_keys(['loss', 'accuracy', 'val_loss', 'val_accuracy'])"
      ]
     },
     "execution_count": 24,
     "metadata": {},
     "output_type": "execute_result"
    }
   ],
   "source": [
    "history.history.keys()"
   ]
  },
  {
   "cell_type": "code",
   "execution_count": 25,
   "id": "6279c6f2",
   "metadata": {},
   "outputs": [
    {
     "data": {
      "image/png": "[encoded data removed]",
      "text/plain": [
       "<Figure size 720x432 with 1 Axes>"
      ]
     },
     "metadata": {},
     "output_type": "display_data"
    }
   ],
   "source": [
    "\n",
    "\n",
    "# 그래프에 그리드를 주고 레이블을 표시\n",
    "plt.legend(loc='upper right')\n",
    "plt.grid()\n",
    "plt.xlabel('epoch')\n",
    "plt.ylabel('loss')\n",
    "plt.show();"
   ]
  },
  {
   "cell_type": "markdown",
   "id": "215e7211",
   "metadata": {},
   "source": [
    "### 세 번째 모델"
   ]
  },
  {
   "cell_type": "code",
   "execution_count": 59,
   "id": "393b3303",
   "metadata": {},
   "outputs": [],
   "source": [
    "vgg_model2 = applications.vgg16.VGG16(include_top=False, weights='imagenet', input_shape=(150,150,3))"
   ]
  },
  {
   "cell_type": "code",
   "execution_count": 54,
   "id": "b826633e",
   "metadata": {},
   "outputs": [
    {
     "name": "stdout",
     "output_type": "stream",
     "text": [
      "<keras.engine.input_layer.InputLayer object at 0x00000252A2F01E80> False\n",
      "<keras.layers.convolutional.Conv2D object at 0x00000252A30DFAC0> False\n",
      "<keras.layers.convolutional.Conv2D object at 0x000002530F5BA280> False\n",
      "<keras.layers.pooling.MaxPooling2D object at 0x00000252A30DF220> False\n",
      "<keras.layers.convolutional.Conv2D object at 0x00000252A305E400> False\n",
      "<keras.layers.convolutional.Conv2D object at 0x0000025318E45FA0> False\n",
      "<keras.layers.pooling.MaxPooling2D object at 0x00000252A2F01AC0> False\n",
      "<keras.layers.convolutional.Conv2D object at 0x000002530F5BA2B0> False\n",
      "<keras.layers.convolutional.Conv2D object at 0x000002530F5BA3D0> False\n",
      "<keras.layers.convolutional.Conv2D object at 0x0000025318E82940> True\n",
      "<keras.layers.pooling.MaxPooling2D object at 0x000002530FAD34F0> True\n",
      "<keras.layers.convolutional.Conv2D object at 0x00000253008053A0> True\n",
      "<keras.layers.convolutional.Conv2D object at 0x00000252A2F240A0> True\n",
      "<keras.layers.convolutional.Conv2D object at 0x000002530F773970> True\n",
      "<keras.layers.pooling.MaxPooling2D object at 0x00000252A30DFCA0> True\n",
      "<keras.layers.convolutional.Conv2D object at 0x000002530F7731F0> True\n",
      "<keras.layers.convolutional.Conv2D object at 0x00000252A2F0CEE0> True\n",
      "<keras.layers.convolutional.Conv2D object at 0x00000252A2F19F40> True\n",
      "<keras.layers.pooling.MaxPooling2D object at 0x00000252A30DF0A0> True\n"
     ]
    }
   ],
   "source": [
    "for layer in vgg_model2.layers[:-10]:\n",
    "    layer.trainable = False\n",
    "for layer in vgg_model2.layers:\n",
    "    print(layer, layer.trainable)"
   ]
  },
  {
   "cell_type": "code",
   "execution_count": 60,
   "id": "c29ee95f",
   "metadata": {},
   "outputs": [
    {
     "data": {
      "text/plain": [
       "(None, 4, 4, 512)"
      ]
     },
     "execution_count": 60,
     "metadata": {},
     "output_type": "execute_result"
    },
    {
     "data": {
      "text/plain": [
       "(15680, 4, 4, 512)"
      ]
     },
     "execution_count": 60,
     "metadata": {},
     "output_type": "execute_result"
    }
   ],
   "source": [
    "vgg_model2.output_shape\n",
    "train_data.shape"
   ]
  },
  {
   "cell_type": "code",
   "execution_count": 61,
   "id": "eb1f5041",
   "metadata": {},
   "outputs": [
    {
     "ename": "ValueError",
     "evalue": "Cannot assign to variable dense_48/kernel:0 due to variable shape (64, 32) and value shape (64, 3) are incompatible",
     "output_type": "error",
     "traceback": [
      "\u001b[1;31m---------------------------------------------------------------------------\u001b[0m",
      "\u001b[1;31mValueError\u001b[0m                                Traceback (most recent call last)",
      "\u001b[1;32m<ipython-input-61-e49f659b423c>\u001b[0m in \u001b[0;36m<module>\u001b[1;34m\u001b[0m\n\u001b[0;32m      8\u001b[0m \u001b[0mtop_model\u001b[0m\u001b[1;33m.\u001b[0m\u001b[0madd\u001b[0m\u001b[1;33m(\u001b[0m\u001b[0mDropout\u001b[0m\u001b[1;33m(\u001b[0m\u001b[1;36m0.4\u001b[0m\u001b[1;33m)\u001b[0m\u001b[1;33m)\u001b[0m\u001b[1;33m\u001b[0m\u001b[1;33m\u001b[0m\u001b[0m\n\u001b[0;32m      9\u001b[0m \u001b[0mvgg_model\u001b[0m\u001b[1;33m.\u001b[0m\u001b[0madd\u001b[0m\u001b[1;33m(\u001b[0m\u001b[0mDense\u001b[0m\u001b[1;33m(\u001b[0m\u001b[1;36m3\u001b[0m\u001b[1;33m,\u001b[0m \u001b[0mactivation\u001b[0m\u001b[1;33m=\u001b[0m\u001b[1;34m'softmax'\u001b[0m\u001b[1;33m)\u001b[0m\u001b[1;33m)\u001b[0m\u001b[1;33m\u001b[0m\u001b[1;33m\u001b[0m\u001b[0m\n\u001b[1;32m---> 10\u001b[1;33m \u001b[0mtop_model\u001b[0m\u001b[1;33m.\u001b[0m\u001b[0mload_weights\u001b[0m\u001b[1;33m(\u001b[0m\u001b[1;34m'model/second_model.h5'\u001b[0m\u001b[1;33m)\u001b[0m\u001b[1;33m\u001b[0m\u001b[1;33m\u001b[0m\u001b[0m\n\u001b[0m",
      "\u001b[1;32mC:\\ProgramData\\Anaconda3\\lib\\site-packages\\keras\\engine\\training.py\u001b[0m in \u001b[0;36mload_weights\u001b[1;34m(self, filepath, by_name, skip_mismatch, options)\u001b[0m\n\u001b[0;32m   2299\u001b[0m             f, self.layers, skip_mismatch=skip_mismatch)\n\u001b[0;32m   2300\u001b[0m       \u001b[1;32melse\u001b[0m\u001b[1;33m:\u001b[0m\u001b[1;33m\u001b[0m\u001b[1;33m\u001b[0m\u001b[0m\n\u001b[1;32m-> 2301\u001b[1;33m         \u001b[0mhdf5_format\u001b[0m\u001b[1;33m.\u001b[0m\u001b[0mload_weights_from_hdf5_group\u001b[0m\u001b[1;33m(\u001b[0m\u001b[0mf\u001b[0m\u001b[1;33m,\u001b[0m \u001b[0mself\u001b[0m\u001b[1;33m.\u001b[0m\u001b[0mlayers\u001b[0m\u001b[1;33m)\u001b[0m\u001b[1;33m\u001b[0m\u001b[1;33m\u001b[0m\u001b[0m\n\u001b[0m\u001b[0;32m   2302\u001b[0m \u001b[1;33m\u001b[0m\u001b[0m\n\u001b[0;32m   2303\u001b[0m   \u001b[1;32mdef\u001b[0m \u001b[0m_updated_config\u001b[0m\u001b[1;33m(\u001b[0m\u001b[0mself\u001b[0m\u001b[1;33m)\u001b[0m\u001b[1;33m:\u001b[0m\u001b[1;33m\u001b[0m\u001b[1;33m\u001b[0m\u001b[0m\n",
      "\u001b[1;32mC:\\ProgramData\\Anaconda3\\lib\\site-packages\\keras\\saving\\hdf5_format.py\u001b[0m in \u001b[0;36mload_weights_from_hdf5_group\u001b[1;34m(f, layers)\u001b[0m\n\u001b[0;32m    711\u001b[0m                        str(len(weight_values)) + ' elements.')\n\u001b[0;32m    712\u001b[0m     \u001b[0mweight_value_tuples\u001b[0m \u001b[1;33m+=\u001b[0m \u001b[0mzip\u001b[0m\u001b[1;33m(\u001b[0m\u001b[0msymbolic_weights\u001b[0m\u001b[1;33m,\u001b[0m \u001b[0mweight_values\u001b[0m\u001b[1;33m)\u001b[0m\u001b[1;33m\u001b[0m\u001b[1;33m\u001b[0m\u001b[0m\n\u001b[1;32m--> 713\u001b[1;33m   \u001b[0mbackend\u001b[0m\u001b[1;33m.\u001b[0m\u001b[0mbatch_set_value\u001b[0m\u001b[1;33m(\u001b[0m\u001b[0mweight_value_tuples\u001b[0m\u001b[1;33m)\u001b[0m\u001b[1;33m\u001b[0m\u001b[1;33m\u001b[0m\u001b[0m\n\u001b[0m\u001b[0;32m    714\u001b[0m \u001b[1;33m\u001b[0m\u001b[0m\n\u001b[0;32m    715\u001b[0m \u001b[1;33m\u001b[0m\u001b[0m\n",
      "\u001b[1;32mC:\\ProgramData\\Anaconda3\\lib\\site-packages\\tensorflow\\python\\util\\dispatch.py\u001b[0m in \u001b[0;36mwrapper\u001b[1;34m(*args, **kwargs)\u001b[0m\n\u001b[0;32m    204\u001b[0m     \u001b[1;34m\"\"\"Call target, and fall back on dispatchers if there is a TypeError.\"\"\"\u001b[0m\u001b[1;33m\u001b[0m\u001b[1;33m\u001b[0m\u001b[0m\n\u001b[0;32m    205\u001b[0m     \u001b[1;32mtry\u001b[0m\u001b[1;33m:\u001b[0m\u001b[1;33m\u001b[0m\u001b[1;33m\u001b[0m\u001b[0m\n\u001b[1;32m--> 206\u001b[1;33m       \u001b[1;32mreturn\u001b[0m \u001b[0mtarget\u001b[0m\u001b[1;33m(\u001b[0m\u001b[1;33m*\u001b[0m\u001b[0margs\u001b[0m\u001b[1;33m,\u001b[0m \u001b[1;33m**\u001b[0m\u001b[0mkwargs\u001b[0m\u001b[1;33m)\u001b[0m\u001b[1;33m\u001b[0m\u001b[1;33m\u001b[0m\u001b[0m\n\u001b[0m\u001b[0;32m    207\u001b[0m     \u001b[1;32mexcept\u001b[0m \u001b[1;33m(\u001b[0m\u001b[0mTypeError\u001b[0m\u001b[1;33m,\u001b[0m \u001b[0mValueError\u001b[0m\u001b[1;33m)\u001b[0m\u001b[1;33m:\u001b[0m\u001b[1;33m\u001b[0m\u001b[1;33m\u001b[0m\u001b[0m\n\u001b[0;32m    208\u001b[0m       \u001b[1;31m# Note: convert_to_eager_tensor currently raises a ValueError, not a\u001b[0m\u001b[1;33m\u001b[0m\u001b[1;33m\u001b[0m\u001b[1;33m\u001b[0m\u001b[0m\n",
      "\u001b[1;32mC:\\ProgramData\\Anaconda3\\lib\\site-packages\\keras\\backend.py\u001b[0m in \u001b[0;36mbatch_set_value\u001b[1;34m(tuples)\u001b[0m\n\u001b[0;32m   3767\u001b[0m   \u001b[1;32mif\u001b[0m \u001b[0mtf\u001b[0m\u001b[1;33m.\u001b[0m\u001b[0mcompat\u001b[0m\u001b[1;33m.\u001b[0m\u001b[0mv1\u001b[0m\u001b[1;33m.\u001b[0m\u001b[0mexecuting_eagerly_outside_functions\u001b[0m\u001b[1;33m(\u001b[0m\u001b[1;33m)\u001b[0m\u001b[1;33m:\u001b[0m\u001b[1;33m\u001b[0m\u001b[1;33m\u001b[0m\u001b[0m\n\u001b[0;32m   3768\u001b[0m     \u001b[1;32mfor\u001b[0m \u001b[0mx\u001b[0m\u001b[1;33m,\u001b[0m \u001b[0mvalue\u001b[0m \u001b[1;32min\u001b[0m \u001b[0mtuples\u001b[0m\u001b[1;33m:\u001b[0m\u001b[1;33m\u001b[0m\u001b[1;33m\u001b[0m\u001b[0m\n\u001b[1;32m-> 3769\u001b[1;33m       \u001b[0mx\u001b[0m\u001b[1;33m.\u001b[0m\u001b[0massign\u001b[0m\u001b[1;33m(\u001b[0m\u001b[0mnp\u001b[0m\u001b[1;33m.\u001b[0m\u001b[0masarray\u001b[0m\u001b[1;33m(\u001b[0m\u001b[0mvalue\u001b[0m\u001b[1;33m,\u001b[0m \u001b[0mdtype\u001b[0m\u001b[1;33m=\u001b[0m\u001b[0mdtype_numpy\u001b[0m\u001b[1;33m(\u001b[0m\u001b[0mx\u001b[0m\u001b[1;33m)\u001b[0m\u001b[1;33m)\u001b[0m\u001b[1;33m)\u001b[0m\u001b[1;33m\u001b[0m\u001b[1;33m\u001b[0m\u001b[0m\n\u001b[0m\u001b[0;32m   3770\u001b[0m   \u001b[1;32melse\u001b[0m\u001b[1;33m:\u001b[0m\u001b[1;33m\u001b[0m\u001b[1;33m\u001b[0m\u001b[0m\n\u001b[0;32m   3771\u001b[0m     \u001b[1;32mwith\u001b[0m \u001b[0mget_graph\u001b[0m\u001b[1;33m(\u001b[0m\u001b[1;33m)\u001b[0m\u001b[1;33m.\u001b[0m\u001b[0mas_default\u001b[0m\u001b[1;33m(\u001b[0m\u001b[1;33m)\u001b[0m\u001b[1;33m:\u001b[0m\u001b[1;33m\u001b[0m\u001b[1;33m\u001b[0m\u001b[0m\n",
      "\u001b[1;32mC:\\ProgramData\\Anaconda3\\lib\\site-packages\\tensorflow\\python\\ops\\resource_variable_ops.py\u001b[0m in \u001b[0;36massign\u001b[1;34m(self, value, use_locking, name, read_value)\u001b[0m\n\u001b[0;32m    896\u001b[0m         \u001b[1;32melse\u001b[0m\u001b[1;33m:\u001b[0m\u001b[1;33m\u001b[0m\u001b[1;33m\u001b[0m\u001b[0m\n\u001b[0;32m    897\u001b[0m           \u001b[0mtensor_name\u001b[0m \u001b[1;33m=\u001b[0m \u001b[1;34m\" \"\u001b[0m \u001b[1;33m+\u001b[0m \u001b[0mstr\u001b[0m\u001b[1;33m(\u001b[0m\u001b[0mself\u001b[0m\u001b[1;33m.\u001b[0m\u001b[0mname\u001b[0m\u001b[1;33m)\u001b[0m\u001b[1;33m\u001b[0m\u001b[1;33m\u001b[0m\u001b[0m\n\u001b[1;32m--> 898\u001b[1;33m         raise ValueError(\n\u001b[0m\u001b[0;32m    899\u001b[0m             (\"Cannot assign to variable%s due to variable shape %s and value \"\n\u001b[0;32m    900\u001b[0m              \"shape %s are incompatible\") %\n",
      "\u001b[1;31mValueError\u001b[0m: Cannot assign to variable dense_48/kernel:0 due to variable shape (64, 32) and value shape (64, 3) are incompatible"
     ]
    }
   ],
   "source": [
    "top_model = Sequential()\n",
    "top_model.add(Flatten(input_shape=vgg_model2.output_shape[1:]))\n",
    "top_model.add(Dense(256, activation='relu'))\n",
    "top_model.add(Dropout(0.4))\n",
    "top_model.add(Dense(64, activation='relu'))\n",
    "top_model.add(Dropout(0.4))\n",
    "top_model.add(Dense(32, activation='relu'))\n",
    "top_model.add(Dropout(0.4))\n",
    "vgg_model.add(Dense(3, activation='softmax'))\n",
    "top_model.load_weights('model/second_model.h5')"
   ]
  },
  {
   "cell_type": "code",
   "execution_count": null,
   "id": "9fc5418e",
   "metadata": {},
   "outputs": [],
   "source": [
    "new_model = Sequential()\n",
    "for l in vgg_model2.layers:\n",
    "    new_model.add(l)\n",
    "for l in vgg_model2.layers:\n",
    "    new_model.add(l)\n",
    "    \n",
    "\n",
    "    "
   ]
  },
  {
   "cell_type": "markdown",
   "id": "b5525236",
   "metadata": {},
   "source": [
    "### 네 번째 모델"
   ]
  },
  {
   "cell_type": "code",
   "execution_count": 22,
   "id": "a6ad776a",
   "metadata": {},
   "outputs": [],
   "source": [
    "from keras.preprocessing.sequence import pad_sequences\n",
    "from keras.preprocessing.image import ImageDataGenerator, array_to_img, img_to_array, load_img\n",
    "\n",
    "from tensorflow.keras.preprocessing import sequence\n",
    "from tensorflow.keras.models import Sequential\n",
    "from tensorflow.keras.layers import Dense, Dropout, Activation\n",
    "from tensorflow.keras.layers import Embedding\n",
    "from tensorflow.keras.layers import LSTM\n",
    "from tensorflow.keras.layers import SimpleRNN\n",
    "from tensorflow.keras.layers import Conv1D, MaxPooling1D, MaxPooling2D\n",
    "from tensorflow.keras.datasets import imdb\n",
    "from tensorflow import keras\n",
    "from tensorflow.keras.utils import to_categorical\n",
    "from tensorflow.keras.optimizers import RMSprop\n"
   ]
  },
  {
   "cell_type": "code",
   "execution_count": null,
   "id": "5d585792",
   "metadata": {},
   "outputs": [],
   "source": [
    "x_train = train_generatororrat\n",
    "x_train = x_train.reshape(x_train.shape[0], 28, 28, 1).astype('float32')/255\n",
    "x_test= x_test.reshape(x_test.shape[0], 28, 28, 1).astype('float32')/255"
   ]
  },
  {
   "cell_type": "code",
   "execution_count": null,
   "id": "9a67ac5d",
   "metadata": {},
   "outputs": [],
   "source": [
    "autoencoder = Sequential()\n",
    "# 인코딩 부분입니다.\n",
    "autoencoder.add(Conv2D(16, kernel_size=3, padding='same', input_shape=(28,28,1), activation='relu'))\n",
    "autoencoder.add(MaxPooling2D())\n",
    "autoencoder.add(Conv2D(8, kernel_size=3, activation='relu', padding='same'))\n",
    "autoencoder.add(MaxPooling2D())\n",
    "autoencoder.add(Conv2D(8, kernel_size=3, strides=2, padding='same', activation='relu'))"
   ]
  },
  {
   "cell_type": "code",
   "execution_count": null,
   "id": "0e181468",
   "metadata": {},
   "outputs": [],
   "source": [
    "# 디코딩 부분이 이어집니다. \n",
    "autoencoder.add(Conv2D(8, kernel_size=3, padding='same', activation='relu'))\n",
    "autoencoder.add(UpSampling2D())\n",
    "autoencoder.add(Conv2D(8, kernel_size=3, padding='same', activation='relu'))\n",
    "autoencoder.add(UpSampling2D())\n",
    "autoencoder.add(Conv2D(16, kernel_size=3, activation='relu'))\n",
    "autoencoder.add(UpSampling2D())\n",
    "autoencoder.add(Conv2D(1, kernel_size=3, padding='same', activation='sigmoid'))\n",
    "\n"
   ]
  },
  {
   "cell_type": "code",
   "execution_count": null,
   "id": "bcd6d77e",
   "metadata": {},
   "outputs": [],
   "source": [
    "autoencoder.summary()"
   ]
  },
  {
   "cell_type": "code",
   "execution_count": null,
   "id": "85c80a95",
   "metadata": {},
   "outputs": [],
   "source": []
  },
  {
   "cell_type": "code",
   "execution_count": null,
   "id": "76e9d979",
   "metadata": {},
   "outputs": [],
   "source": []
  },
  {
   "cell_type": "markdown",
   "id": "9d51566c",
   "metadata": {},
   "source": [
    "### 성능 테스트"
   ]
  },
  {
   "cell_type": "code",
   "execution_count": 11,
   "id": "9da1f345",
   "metadata": {},
   "outputs": [],
   "source": [
    "train_dataGen = ImageDataGenerator(\n",
    "                       rescale=1/255,              # scale\n",
    "                       fill_mode='nearest',        # 변형시 공간 채우는방식\n",
    "                       rotation_range=40,         # 회전\n",
    "                       shear_range=.2,           # 전단 변환\n",
    "                       vertical_flip=True,      # 수직 뒤집기\n",
    "                       horizontal_flip=True,    # 수평 뒤집기\n",
    "                       height_shift_range=.2,    # 이미지 수직 이동\n",
    "                       width_shift_range=.2,    # 수평 이동\n",
    "                       zoom_range=.2,          # -0.2~0.2 확대 축소\n",
    ")\n",
    "valid_datagen = ImageDataGenerator(rescale=1./255)\n",
    "test_datagen = ImageDataGenerator(rescale=1./255)"
   ]
  },
  {
   "cell_type": "code",
   "execution_count": 12,
   "id": "a0f0ab48",
   "metadata": {},
   "outputs": [
    {
     "name": "stdout",
     "output_type": "stream",
     "text": [
      "Found 15689 images belonging to 3 classes.\n",
      "Found 6940 images belonging to 3 classes.\n",
      "Found 6946 images belonging to 3 classes.\n"
     ]
    },
    {
     "data": {
      "text/plain": [
       "<keras.preprocessing.image.DirectoryIterator at 0x1fe324521c0>"
      ]
     },
     "execution_count": 12,
     "metadata": {},
     "output_type": "execute_result"
    },
    {
     "data": {
      "text/plain": [
       "<keras.preprocessing.image.DirectoryIterator at 0x1fe323f0be0>"
      ]
     },
     "execution_count": 12,
     "metadata": {},
     "output_type": "execute_result"
    },
    {
     "data": {
      "text/plain": [
       "<keras.preprocessing.image.DirectoryIterator at 0x1fe31928a60>"
      ]
     },
     "execution_count": 12,
     "metadata": {},
     "output_type": "execute_result"
    }
   ],
   "source": [
    "batch_size = 16\n",
    "train_generator = train_dataGen.flow_from_directory(train_path, target_size=(150,150), batch_size=batch_size, class_mode=None, shuffle=False)\n",
    "test_generator = valid_datagen.flow_from_directory(test_path, target_size=(150,150), batch_size=batch_size, class_mode=None, shuffle=False)\n",
    "valid_generator = test_datagen.flow_from_directory(valid_path, target_size=(150,150), batch_size=batch_size, class_mode=None, shuffle=False)\n",
    "train_generator\n",
    "test_generator\n",
    "valid_generator"
   ]
  },
  {
   "cell_type": "code",
   "execution_count": 13,
   "id": "70d8e909",
   "metadata": {},
   "outputs": [
    {
     "ename": "NameError",
     "evalue": "name 'train_data' is not defined",
     "output_type": "error",
     "traceback": [
      "\u001b[1;31m---------------------------------------------------------------------------\u001b[0m",
      "\u001b[1;31mNameError\u001b[0m                                 Traceback (most recent call last)",
      "\u001b[1;32m<ipython-input-13-6da7dd916c67>\u001b[0m in \u001b[0;36m<module>\u001b[1;34m\u001b[0m\n\u001b[0;32m      1\u001b[0m \u001b[0mmodel\u001b[0m \u001b[1;33m=\u001b[0m \u001b[0mSequential\u001b[0m\u001b[1;33m(\u001b[0m\u001b[1;33m)\u001b[0m\u001b[1;33m\u001b[0m\u001b[1;33m\u001b[0m\u001b[0m\n\u001b[1;32m----> 2\u001b[1;33m \u001b[0mmodel\u001b[0m\u001b[1;33m.\u001b[0m\u001b[0madd\u001b[0m\u001b[1;33m(\u001b[0m\u001b[0mFlatten\u001b[0m\u001b[1;33m(\u001b[0m\u001b[0minput_shape\u001b[0m\u001b[1;33m=\u001b[0m\u001b[0mtrain_data\u001b[0m\u001b[1;33m.\u001b[0m\u001b[0mshape\u001b[0m\u001b[1;33m[\u001b[0m\u001b[1;36m1\u001b[0m\u001b[1;33m:\u001b[0m\u001b[1;33m]\u001b[0m\u001b[1;33m)\u001b[0m\u001b[1;33m)\u001b[0m\u001b[1;33m\u001b[0m\u001b[1;33m\u001b[0m\u001b[0m\n\u001b[0m\u001b[0;32m      3\u001b[0m \u001b[0mmodel\u001b[0m\u001b[1;33m.\u001b[0m\u001b[0madd\u001b[0m\u001b[1;33m(\u001b[0m\u001b[0mDense\u001b[0m\u001b[1;33m(\u001b[0m\u001b[1;36m256\u001b[0m\u001b[1;33m,\u001b[0m \u001b[0mactivation\u001b[0m\u001b[1;33m=\u001b[0m\u001b[1;34m'relu'\u001b[0m\u001b[1;33m)\u001b[0m\u001b[1;33m)\u001b[0m\u001b[1;33m\u001b[0m\u001b[1;33m\u001b[0m\u001b[0m\n\u001b[0;32m      4\u001b[0m \u001b[0mmodel\u001b[0m\u001b[1;33m.\u001b[0m\u001b[0madd\u001b[0m\u001b[1;33m(\u001b[0m\u001b[0mDropout\u001b[0m\u001b[1;33m(\u001b[0m\u001b[1;36m0.4\u001b[0m\u001b[1;33m)\u001b[0m\u001b[1;33m)\u001b[0m\u001b[1;33m\u001b[0m\u001b[1;33m\u001b[0m\u001b[0m\n\u001b[0;32m      5\u001b[0m \u001b[0mmodel\u001b[0m\u001b[1;33m.\u001b[0m\u001b[0madd\u001b[0m\u001b[1;33m(\u001b[0m\u001b[0mDense\u001b[0m\u001b[1;33m(\u001b[0m\u001b[1;36m64\u001b[0m\u001b[1;33m,\u001b[0m \u001b[0mactivation\u001b[0m\u001b[1;33m=\u001b[0m\u001b[1;34m'relu'\u001b[0m\u001b[1;33m)\u001b[0m\u001b[1;33m)\u001b[0m\u001b[1;33m\u001b[0m\u001b[1;33m\u001b[0m\u001b[0m\n",
      "\u001b[1;31mNameError\u001b[0m: name 'train_data' is not defined"
     ]
    }
   ],
   "source": [
    "model = Sequential()\n",
    "model.add(Flatten(input_shape=train_data.shape[1:]))\n",
    "model.add(Dense(256, activation='relu'))\n",
    "model.add(Dropout(0.4))\n",
    "model.add(Dense(64, activation='relu'))\n",
    "model.add(Dropout(0.4))\n",
    "model.add(Dense(3, activation='softmax'))\n",
    "model.load_weightsa('model/second_model.h5')"
   ]
  },
  {
   "cell_type": "code",
   "execution_count": null,
   "id": "58da996c",
   "metadata": {},
   "outputs": [],
   "source": [
    "CLASS_NAMES = ['cockroach', 'etc', 'spider']\n",
    "PATH = t\n",
    "\n",
    "fig = plt.figure(figsize=(10,10))\n",
    "\n",
    "for file in os.listdir(PATH):\n",
    "    image = Image.open(PATH + file)\n",
    "    size = (24, 24)\n",
    "    image_array = img_to_array(image)\n",
    "    # display the resized image\n",
    "    \n",
    "    plt.imshow(image);\n",
    "    plt.xlabel()\n",
    "    # Normalize the image\n",
    "    normalized_image_array = (image_array.astype(np.float32) / 255) \n",
    "    \n",
    "    idx = np.argmax(np.round(model.fit(normalized_image_array), 3))\n",
    "    print(SHAPE[idx])\n"
   ]
  },
  {
   "cell_type": "code",
   "execution_count": null,
   "id": "2c0c46aa",
   "metadata": {},
   "outputs": [],
   "source": []
  },
  {
   "cell_type": "code",
   "execution_count": null,
   "id": "6c40ee48",
   "metadata": {},
   "outputs": [],
   "source": []
  },
  {
   "cell_type": "code",
   "execution_count": null,
   "id": "e1e9540d",
   "metadata": {},
   "outputs": [],
   "source": []
  },
  {
   "cell_type": "code",
   "execution_count": null,
   "id": "21a59cfe",
   "metadata": {},
   "outputs": [],
   "source": []
  },
  {
   "cell_type": "markdown",
   "id": "6627881d",
   "metadata": {},
   "source": [
    "### 시각화"
   ]
  },
  {
   "cell_type": "code",
   "execution_count": 3,
   "id": "db6252d8",
   "metadata": {},
   "outputs": [],
   "source": [
    "from tensorflow.keras.layers import Input, Dense, Reshape, Flatten, Dropout\n",
    "from tensorflow.keras.layers import BatchNormalization, Activation, LeakyReLU, UpSampling2D, Conv2D\n",
    "from tensorflow.keras.models import Sequential, Model\n",
    "import tensorflow as tf"
   ]
  },
  {
   "cell_type": "code",
   "execution_count": null,
   "id": "4f529504",
   "metadata": {},
   "outputs": [],
   "source": []
  },
  {
   "cell_type": "code",
   "execution_count": null,
   "id": "323f9032",
   "metadata": {},
   "outputs": [],
   "source": []
  },
  {
   "cell_type": "code",
   "execution_count": null,
   "id": "e51fb9ac",
   "metadata": {},
   "outputs": [],
   "source": []
  },
  {
   "cell_type": "code",
   "execution_count": null,
   "id": "514f50e8",
   "metadata": {},
   "outputs": [],
   "source": []
  },
  {
   "cell_type": "code",
   "execution_count": null,
   "id": "3a1a328d",
   "metadata": {},
   "outputs": [],
   "source": []
  },
  {
   "cell_type": "code",
   "execution_count": null,
   "id": "40274364",
   "metadata": {},
   "outputs": [],
   "source": []
  },
  {
   "cell_type": "code",
   "execution_count": null,
   "id": "51eeddab",
   "metadata": {},
   "outputs": [],
   "source": []
  }
 ],
 "metadata": {
  "kernelspec": {
   "display_name": "Python 3",
   "language": "python",
   "name": "python3"
  },
  "language_info": {
   "codemirror_mode": {
    "name": "ipython",
    "version": 3
   },
   "file_extension": ".py",
   "mimetype": "text/x-python",
   "name": "python",
   "nbconvert_exporter": "python",
   "pygments_lexer": "ipython3",
   "version": "3.8.8"
  }
 },
 "nbformat": 4,
 "nbformat_minor": 5
}
