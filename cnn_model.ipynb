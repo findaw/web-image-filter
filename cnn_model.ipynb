{
 "cells": [
  {
   "cell_type": "markdown",
   "id": "f2fa8334",
   "metadata": {},
   "source": [
    "### 모듈 불러오기"
   ]
  },
  {
   "cell_type": "code",
   "execution_count": 95,
   "id": "5640e314",
   "metadata": {},
   "outputs": [],
   "source": [
    "import warnings             \n",
    "warnings.filterwarnings(action='ignore')          # 경고 문구 무시\n",
    "from IPython.core.interactiveshell import InteractiveShell\n",
    "InteractiveShell.ast_node_interactivity = \"all\"   # 셀 하나에 ouput 모두 출력 가능\n",
    "import numpy as np                            \n",
    "import pandas as pd\n",
    "import matplotlib as mpl\n",
    "import matplotlib.pyplot as plt\n",
    "import seaborn as sns\n",
    "sns.set()\n",
    "#  한글글꼴로 변경\n",
    "plt.rcParams['font.size'] = 12.0\n",
    "# plt.rcParams['font.family'] = 'batang'\n",
    "plt.rcParams['font.family'] = 'Malgun Gothic'  \n",
    "plt.rc('axes', unicode_minus = False)\n",
    "\n",
    "# plot 크기\n",
    "plt.rc('figure', figsize=(10,6))\n",
    "\n",
    "# 음수 표시 에러 \n",
    "mpl.rcParams['axes.unicode_minus'] = False\n",
    "import json\n",
    "pd.options.display.max_rows= 10    # 화면에 최대 12개까지 결과 출력\n",
    "np.random.seed(0)\n",
    "\n",
    "import statsmodels.api as sm\n",
    "from sklearn.linear_model import LinearRegression\n",
    "from sklearn.model_selection import train_test_split\n",
    "\n",
    "from sklearn.preprocessing import StandardScaler\n",
    "import os\n",
    "from keras.models import Sequential\n",
    "from keras.layers import Dense\n",
    "import tensorflow as tf\n",
    "from tensorflow import keras"
   ]
  },
  {
   "cell_type": "code",
   "execution_count": 96,
   "id": "43e80435",
   "metadata": {},
   "outputs": [],
   "source": [
    "from keras.layers import Dense, Activation, Dropout, Flatten, Conv2D, MaxPooling2D\n",
    "from keras.preprocessing.image import ImageDataGenerator\n",
    "from keras.preprocessing.image import load_img, img_to_array, array_to_img\n",
    "from keras.applications import vgg16\n",
    "from keras.applications.vgg16 import VGG16\n",
    "from PIL import Image"
   ]
  },
  {
   "cell_type": "code",
   "execution_count": 97,
   "id": "6d03d3de",
   "metadata": {},
   "outputs": [
    {
     "data": {
      "text/plain": [
       "<tensorflow.python.keras.engine.sequential.Sequential at 0x2061dd7a250>"
      ]
     },
     "execution_count": 97,
     "metadata": {},
     "output_type": "execute_result"
    }
   ],
   "source": [
    "keras.models.load_model('model/best-cnn-model.h5')"
   ]
  },
  {
   "cell_type": "code",
   "execution_count": 98,
   "id": "4dd71626",
   "metadata": {},
   "outputs": [
    {
     "data": {
      "text/plain": [
       "'2.5.0'"
      ]
     },
     "execution_count": 98,
     "metadata": {},
     "output_type": "execute_result"
    }
   ],
   "source": [
    "keras.__version__"
   ]
  },
  {
   "cell_type": "code",
   "execution_count": 99,
   "id": "408358ce",
   "metadata": {},
   "outputs": [
    {
     "name": "stdout",
     "output_type": "stream",
     "text": [
      "Device mapping:\n",
      "/job:localhost/replica:0/task:0/device:GPU:0 -> device: 0, name: NVIDIA GeForce RTX 2080, pci bus id: 0000:01:00.0, compute capability: 7.5\n",
      "\n"
     ]
    }
   ],
   "source": [
    "def set_env():\n",
    "    os.environ['CUDA_VISIBLE_DEVICES'] = '0'\n",
    "    config = tf.compat.v1.ConfigProto(log_device_placement=True)\n",
    "    config.gpu_options.per_process_gpu_memory_fraction = 0.75\n",
    "    session = tf.compat.v1.Session(config=config)\n",
    "    session\n",
    "set_env()"
   ]
  },
  {
   "cell_type": "markdown",
   "id": "c5bc84d2",
   "metadata": {},
   "source": [
    "### ImgaeDataenertator\n",
    "컨볼루션 신경망 모델을 위한 데이터 부풀리기 클래스\n",
    "+ 학습 도중에 이미지에 임의 변형 및 정규화 적용\n",
    "+ 변형된 이미지를 배치 단위로 불러올 수 있는 generator 생성.\n",
    "    + generator를 생성할 때 flow(data, labels), flow_from_directory(directory) 두 가지 함수를 사용합니다.\n",
    "    + fit_generator, evaluate_generator 함수를 이용하여 generator로 이미지를 불러와서 모델을 학습시킬 수 있습니\n",
    "\n",
    "#### 파라미터(기본값)\n",
    "<code style=\"display:block\">\n",
    "+keras.preprocessing.image.ImageDataGenerator(\n",
    "featurewise_center=False,\n",
    "samplewise_center=False,\n",
    "featurewise_std_normalization=False,\n",
    "samplewise_std_normalization=False,\n",
    "zca_whitening=False,\n",
    "rotation_range=0.,\n",
    "width_shift_range=0.,\n",
    "height_shift_range=0.,\n",
    "shear_range=0.,\n",
    "zoom_range=0.,\n",
    "channel_shift_range=0.,\n",
    "fill_mode='nearest',\n",
    "cval=0.,\n",
    "horizontal_flip=False,\n",
    "vertical_flip=False,\n",
    "rescale=None,\n",
    "preprocessing_function=None,\n",
    "data_format=K.image_data_format())\n",
    "</code>\n"
   ]
  },
  {
   "cell_type": "markdown",
   "id": "ff200522",
   "metadata": {},
   "source": [
    "+ shear_range : 범위 내에서 임의로 원본 이미지 변형(0.5면 0~0.5각도로 )\n",
    "+ zoom_range : 지정된 범위내로 임의로 원본이미지 확대/축소 0.3 이면 -0.3~0.3 범위 로 확대축소\n",
    "+ rotation_range : 지정된 각도 범위내로 임의로 원본 이미지 회전(90이면 0~90 다함)\n",
    "+ width_shift_range : 지정된 수평방향 이동 범위로 원본 이미지 이동 : 0.1이면 넓이 100에서 0~10px 좌우 이동\n",
    "+ height_shift_range :수직방향\n",
    "+ vertical_flip : 수직방향 뒤집기 (boolean)\n",
    "+ horizontal_flip 수평방향 뒤집기 True일경우 50% 확률로 이미지를 수평으로 뒤집\n",
    "+ fill_mode 이미지를 회전, 이동하거나 축소할 때 생기는 공간을 채우는 방식"
   ]
  },
  {
   "cell_type": "markdown",
   "id": "fae1497a",
   "metadata": {},
   "source": [
    "데이터 경로"
   ]
  },
  {
   "cell_type": "code",
   "execution_count": 100,
   "id": "4e286207",
   "metadata": {},
   "outputs": [],
   "source": [
    "train_path = os.getcwd() + '\\\\datas\\\\train'\n",
    "test_path = os.getcwd() + '\\\\datas\\\\test'\n",
    "valid_path = os.getcwd() + '\\\\datas\\\\val'"
   ]
  },
  {
   "cell_type": "markdown",
   "id": "7c461b1a",
   "metadata": {},
   "source": [
    "### 이미지 유효성 검사"
   ]
  },
  {
   "cell_type": "code",
   "execution_count": 111,
   "id": "c78960c1",
   "metadata": {},
   "outputs": [],
   "source": [
    "import cv2\n",
    "import os\n",
    "import numpy as np\n",
    "\n",
    "label_counts = {}\n",
    "idx = ['train', 'test', 'valid']\n",
    "def get_train_data(): \n",
    "    data_input = []\n",
    "    error_paths = []\n",
    "    for i, path in enumerate([train_path, test_path, valid_path]):\n",
    "        label_dirs = os.listdir(path)\n",
    "        for dir_name in label_dirs:\n",
    "            file_list = os.listdir(f'{path}\\\\{dir_name}')\n",
    "            label_counts[f'{idx[i]}_{dir_name}'] = len(file_list)\n",
    "            for file_name in file_list:\n",
    "                try:\n",
    "#                     print(file_name)\n",
    "                    img = Image.open(f'{path}\\\\{dir_name}\\\\{file_name}')\n",
    "                    im = img.load()\n",
    "\n",
    "                except Exception as e:\n",
    "                        err_string = f'[Error!] at {path}\\\\{dir_name}\\\\{file_name}'\n",
    "                        error_paths.append(err_string)\n",
    "                        print(err_string)\n",
    "                        print(e)\n",
    "                        continue\n",
    "\n",
    "\n",
    "get_train_data()"
   ]
  },
  {
   "cell_type": "code",
   "execution_count": 112,
   "id": "25eb56fb",
   "metadata": {},
   "outputs": [
    {
     "data": {
      "text/plain": [
       "{'train_cockroach': 4356,\n",
       " 'train_etc': 3425,\n",
       " 'train_spider': 7908,\n",
       " 'test_cockroach': 1074,\n",
       " 'test_etc': 3864,\n",
       " 'test_spider': 2006,\n",
       " 'valid_cockroach': 1064,\n",
       " 'valid_etc': 3924,\n",
       " 'valid_spider': 1966}"
      ]
     },
     "execution_count": 112,
     "metadata": {},
     "output_type": "execute_result"
    }
   ],
   "source": [
    "label_counts"
   ]
  },
  {
   "cell_type": "code",
   "execution_count": null,
   "id": "1a6ce5b9",
   "metadata": {},
   "outputs": [],
   "source": []
  },
  {
   "cell_type": "code",
   "execution_count": null,
   "id": "07f4ac61",
   "metadata": {},
   "outputs": [],
   "source": []
  },
  {
   "cell_type": "markdown",
   "id": "c51e276c",
   "metadata": {},
   "source": [
    "### 데이터 전처리"
   ]
  },
  {
   "cell_type": "markdown",
   "id": "2d8fd39b",
   "metadata": {},
   "source": [
    "검증 및 테스트 이미지는 augmentation을 적용하지 않습니다. 모델 성능을 평가할 때에는 이미지 원본을 사용합니다."
   ]
  },
  {
   "cell_type": "code",
   "execution_count": 101,
   "id": "6cf65db6",
   "metadata": {},
   "outputs": [],
   "source": [
    "train_dataGen = ImageDataGenerator(\n",
    "                       rescale=1/255,              # scale\n",
    "                       fill_mode='nearest',        # 변형시 공간 채우는방식\n",
    "                       rotation_range=40,         # 회전\n",
    "                       shear_range=.2,           # 전단 변환\n",
    "                       vertical_flip=True,      # 수직 뒤집기\n",
    "                       horizontal_flip=True,    # 수평 뒤집기\n",
    "                       height_shift_range=.2,    # 이미지 수직 이동\n",
    "                       width_shift_range=.2,    # 수평 이동\n",
    "                       zoom_range=.2,          # -0.2~0.2 확대 축소\n",
    ")\n",
    "valid_datagen = ImageDataGenerator(rescale=1./255)\n",
    "test_datagen = ImageDataGenerator(rescale=1./255)"
   ]
  },
  {
   "cell_type": "markdown",
   "id": "e6d1c12c",
   "metadata": {},
   "source": [
    "#### 데이터 디버깅"
   ]
  },
  {
   "cell_type": "code",
   "execution_count": 7,
   "id": "0fd05cea",
   "metadata": {},
   "outputs": [],
   "source": [
    "datagen = ImageDataGenerator(\n",
    "                       fill_mode='nearest',        # 변형시 공간 채우는방식\n",
    "                       rotation_range=40,         # 회전\n",
    "                       shear_range=.2,           # 전단 변환\n",
    "                       vertical_flip=True,      # 수직 뒤집기\n",
    "                       horizontal_flip=True,    # 수평 뒤집기\n",
    "                       height_shift_range=.2,    # 이미지 수직 이동\n",
    "                       width_shift_range=.2,    # 수평 이동\n",
    "                       zoom_range=.2,          # -0.2~0.2 확대 축소\n",
    ")         \n",
    "\n",
    "img = load_img('C:/project/phobiaFilter/dataset/train/cockroach_many/cockr534.jpg')  # PIL 이미지\n",
    "img2 = load_img('C:/project/phobiaFilter/dataset/train/cockroach_many/cockroache-1569.jpg')  # PIL 이미지\n",
    "\n",
    "x = img_to_array(img)  # (3, 150, 150) 크기의 NumPy 배열\n",
    "x = x.reshape((1,) + x.shape)  \n",
    "x2 = img_to_array(img2)  # (3, 150, 150) 크기의 NumPy 배열\n",
    "x2 = x2.reshape((1,) + x2.shape)  \n",
    "\n",
    "# 아래 .flow() 함수는 임의 변환된 이미지를 배치 단위로 생성해서\n",
    "# 지정된 `preview/` 폴더에 저장합니다.\n",
    "i = 0\n",
    "for batch in datagen.flow(x, batch_size=1,\n",
    "                          save_to_dir='C:\\project\\phobiaFilter\\dataset\\preview', save_prefix='cocks', save_format='jpeg'):\n",
    "    i += 1\n",
    "    if i > 40:\n",
    "        break  # 이미지 20장을 생성하고 마칩니다\n",
    "\n",
    "i=0\n",
    "for batch in datagen.flow(x2, batch_size=1,\n",
    "                  save_to_dir='C:\\project\\phobiaFilter\\dataset\\preview', save_prefix='cocks2', save_format='jpeg'):\n",
    "    i += 1\n",
    "    if i > 40:\n",
    "        break  # 이미지 20장을 생성하고 마칩니다"
   ]
  },
  {
   "cell_type": "markdown",
   "id": "91610254",
   "metadata": {},
   "source": [
    "#### Data 생성"
   ]
  },
  {
   "cell_type": "code",
   "execution_count": 102,
   "id": "d8902381",
   "metadata": {},
   "outputs": [
    {
     "name": "stdout",
     "output_type": "stream",
     "text": [
      "Found 15689 images belonging to 3 classes.\n",
      "Found 6940 images belonging to 3 classes.\n",
      "Found 6946 images belonging to 3 classes.\n"
     ]
    },
    {
     "data": {
      "text/plain": [
       "<keras.preprocessing.image.DirectoryIterator at 0x2062534da90>"
      ]
     },
     "execution_count": 102,
     "metadata": {},
     "output_type": "execute_result"
    },
    {
     "data": {
      "text/plain": [
       "<keras.preprocessing.image.DirectoryIterator at 0x20625328340>"
      ]
     },
     "execution_count": 102,
     "metadata": {},
     "output_type": "execute_result"
    },
    {
     "data": {
      "text/plain": [
       "<keras.preprocessing.image.DirectoryIterator at 0x206253284f0>"
      ]
     },
     "execution_count": 102,
     "metadata": {},
     "output_type": "execute_result"
    }
   ],
   "source": [
    "batch_size = 16\n",
    "train_generator = train_dataGen.flow_from_directory(train_path, target_size=(150,150), batch_size=batch_size, class_mode='categorical')\n",
    "test_generator = valid_datagen.flow_from_directory(test_path, target_size=(150,150), batch_size=batch_size, class_mode='categorical')\n",
    "valid_generator = test_datagen.flow_from_directory(valid_path, target_size=(150,150), batch_size=batch_size, class_mode='categorical')\n",
    "train_generator\n",
    "test_generator\n",
    "valid_generator"
   ]
  },
  {
   "cell_type": "code",
   "execution_count": 103,
   "id": "844116b5",
   "metadata": {},
   "outputs": [
    {
     "data": {
      "text/plain": [
       "{'cockroach': 0, 'etc': 1, 'spider': 2}"
      ]
     },
     "execution_count": 103,
     "metadata": {},
     "output_type": "execute_result"
    },
    {
     "data": {
      "text/plain": [
       "3"
      ]
     },
     "execution_count": 103,
     "metadata": {},
     "output_type": "execute_result"
    }
   ],
   "source": [
    "train_generator.class_indices\n",
    "len(train_generator.class_indices)"
   ]
  },
  {
   "cell_type": "markdown",
   "id": "51fc6b40",
   "metadata": {},
   "source": [
    "엔트로피 용량을 조절하는 방법은 다양합니다. 대표적으로 모델에 관여하는 파라미터 개수를 조절하는 방법이 있습니다. 레이어 개수와 레이어 크기가 여기에 해당하죠. 저희가 작은 규모의 CNN을 사용하는 이유가 여기에 있습니다. 또한, L1, L2 정규화 (regularization) 같은 가중치 정규화 기법이 있습니다. 학습하면서 모든 가중치를 반복적으로 축소하는 방법인데, 결과적으로 핵심적인 특징에 대한 가중치만 남게 되는 효과가 있습니다."
   ]
  },
  {
   "cell_type": "markdown",
   "id": "7de9e028",
   "metadata": {},
   "source": [
    "### 모델 생성"
   ]
  },
  {
   "cell_type": "code",
   "execution_count": 43,
   "id": "fecf35b2",
   "metadata": {},
   "outputs": [],
   "source": [
    "\n",
    "# model = keras.Sequential()\n",
    "# # 필터 층 추가 \n",
    "# # same 패딩을 적용했기 때문에 특성맵과 입력의 크기가 동일\n",
    "# model.add(keras.layers.Conv2D(32, kernel_size=10, activation='relu',\n",
    "#                               padding='same', input_shape=(150,150,1)))\n",
    "\n",
    "# model.add(keras.layers.MaxPooling2D(2))\n",
    "# model.add(keras.layers.Conv2D(64, kernel_size=10, activation='relu', padding='same'))\n",
    "# model.add(keras.layers.MaxPooling2D(2))\n",
    "# model.add(keras.layers.Flatten())    # 출력층 입력을 위해 1차원 변환\n",
    "# model.add(keras.layers.Dense(200, activation='relu'))\n",
    "# model.add(keras.layers.Dropout(0.4))            # 과대적합 방지 \n",
    "# model.add(keras.layers.Dense(3, activation='softmax'))\n",
    "# model.summary()\n",
    "# model.compile(optimizer='adam', loss='sparse_categorical_crossentropy', metrics='accuracy')\n",
    "# checkpoint_cb = keras.callbacks.ModelCheckpoint('model/best-cnn-model.h5')\n",
    "# early_stopping_cb = keras.callbacks.EarlyStopping(patience=2, restore_best_weights=True)\n",
    "# history = model.fit(train_scaled, train_target, epochs=20, validation_data=(valid_scaled, valid_target),\n",
    "#                     callbacks=[checkpoint_cb, early_stopping_cb])\n",
    "# plt.plot(history.history['loss'])\n",
    "# plt.plot(history.history['val_loss'])\n",
    "# plt.xlabel('epoch')\n",
    "# plt.ylabel('loss')\n",
    "# plt.legend(['train', 'val'])\n",
    "# plt.show();\n",
    "\n",
    "\n",
    "# model.evaluate(valid_scaled, valid_target)\n",
    "# model.evaluate(test_scaled, test_target)\n"
   ]
  },
  {
   "cell_type": "markdown",
   "id": "60b3d41d",
   "metadata": {},
   "source": [
    "### 정확도와 손실율 확인하기"
   ]
  },
  {
   "cell_type": "code",
   "execution_count": 44,
   "id": "2eafdbda",
   "metadata": {},
   "outputs": [],
   "source": [
    "\n",
    "# acc = history.history['accuracy']\n",
    "# val_acc = history.history['val_accuracy']\n",
    "# loss = history.history['loss']\n",
    "# val_loss = history.history['val_loss']\n",
    "\n",
    "# epochs = range(len(acc))\n",
    "\n",
    "# plt.plot(epochs, acc, 'bo', label='Training accuracy')\n",
    "# plt.plot(epochs, val_acc, 'b', label='Validation accuracy')\n",
    "# plt.title('Training and validation accuracy')\n",
    "# plt.legend()\n",
    "\n",
    "# plt.figure()\n",
    "\n",
    "# plt.plot(epochs, loss, 'go', label='Training Loss')\n",
    "# plt.plot(epochs, val_loss, 'g', label='Validation Loss')\n",
    "# plt.title('Training and validation loss')\n",
    "# plt.legend()\n",
    "\n",
    "# plt.show()"
   ]
  },
  {
   "cell_type": "markdown",
   "id": "dd394528",
   "metadata": {},
   "source": [
    "### 첫 번째 모델\n",
    "+ 훈련셋 : 정확도 50%\n",
    "+ 검증셋 : 정확도 30% "
   ]
  },
  {
   "cell_type": "code",
   "execution_count": 46,
   "id": "772464ba",
   "metadata": {},
   "outputs": [
    {
     "name": "stdout",
     "output_type": "stream",
     "text": [
      "Epoch 1/40\n",
      "981/981 [==============================] - 197s 198ms/step - loss: 1.0609 - accuracy: 0.4835 - val_loss: 1.2306 - val_accuracy: 0.2819\n",
      "Epoch 2/40\n",
      "981/981 [==============================] - 198s 201ms/step - loss: 1.0386 - accuracy: 0.4996 - val_loss: 1.2419 - val_accuracy: 0.2819\n",
      "Epoch 3/40\n",
      "981/981 [==============================] - 190s 194ms/step - loss: 1.0380 - accuracy: 0.5023 - val_loss: 1.2575 - val_accuracy: 0.2819\n",
      "Epoch 4/40\n",
      "981/981 [==============================] - 194s 197ms/step - loss: 1.0339 - accuracy: 0.5040 - val_loss: 1.2438 - val_accuracy: 0.2819\n",
      "Epoch 5/40\n",
      "981/981 [==============================] - 196s 199ms/step - loss: 1.0300 - accuracy: 0.5094 - val_loss: 1.2486 - val_accuracy: 0.2819\n",
      "Epoch 6/40\n",
      "981/981 [==============================] - 195s 199ms/step - loss: 1.0385 - accuracy: 0.4976 - val_loss: 1.2358 - val_accuracy: 0.2819\n",
      "Epoch 7/40\n",
      "981/981 [==============================] - 202s 206ms/step - loss: 1.0408 - accuracy: 0.4950 - val_loss: 1.2590 - val_accuracy: 0.2819\n",
      "Epoch 8/40\n",
      "981/981 [==============================] - 203s 207ms/step - loss: 1.0319 - accuracy: 0.5086 - val_loss: 1.2567 - val_accuracy: 0.2819\n",
      "Epoch 9/40\n",
      "981/981 [==============================] - 191s 194ms/step - loss: 1.0358 - accuracy: 0.5015 - val_loss: 1.2536 - val_accuracy: 0.2819\n",
      "Epoch 10/40\n",
      "981/981 [==============================] - 204s 208ms/step - loss: 1.0326 - accuracy: 0.5071 - val_loss: 1.2453 - val_accuracy: 0.2819\n",
      "Epoch 11/40\n",
      "981/981 [==============================] - 189s 192ms/step - loss: 1.0318 - accuracy: 0.5075 - val_loss: 1.2457 - val_accuracy: 0.2819\n",
      "Epoch 12/40\n",
      "981/981 [==============================] - ETA: 0s - loss: 1.0365 - accuracy: 0.4988"
     ]
    },
    {
     "ename": "KeyboardInterrupt",
     "evalue": "",
     "output_type": "error",
     "traceback": [
      "\u001b[1;31m---------------------------------------------------------------------------\u001b[0m",
      "\u001b[1;31mKeyboardInterrupt\u001b[0m                         Traceback (most recent call last)",
      "\u001b[1;32m<ipython-input-46-240d38bb2b5d>\u001b[0m in \u001b[0;36m<module>\u001b[1;34m\u001b[0m\n\u001b[0;32m     20\u001b[0m               metrics='accuracy')\n\u001b[0;32m     21\u001b[0m \u001b[1;33m\u001b[0m\u001b[0m\n\u001b[1;32m---> 22\u001b[1;33m model.fit_generator(\n\u001b[0m\u001b[0;32m     23\u001b[0m         \u001b[0mtrain_generator\u001b[0m\u001b[1;33m,\u001b[0m\u001b[1;33m\u001b[0m\u001b[1;33m\u001b[0m\u001b[0m\n\u001b[0;32m     24\u001b[0m         \u001b[0mvalidation_data\u001b[0m\u001b[1;33m=\u001b[0m\u001b[0mvalid_generator\u001b[0m\u001b[1;33m,\u001b[0m\u001b[1;33m\u001b[0m\u001b[1;33m\u001b[0m\u001b[0m\n",
      "\u001b[1;32mC:\\ProgramData\\Anaconda3\\lib\\site-packages\\keras\\engine\\training.py\u001b[0m in \u001b[0;36mfit_generator\u001b[1;34m(self, generator, steps_per_epoch, epochs, verbose, callbacks, validation_data, validation_steps, validation_freq, class_weight, max_queue_size, workers, use_multiprocessing, shuffle, initial_epoch)\u001b[0m\n\u001b[0;32m   1916\u001b[0m                   \u001b[1;34m'will be removed in a future version. '\u001b[0m\u001b[1;33m\u001b[0m\u001b[1;33m\u001b[0m\u001b[0m\n\u001b[0;32m   1917\u001b[0m                   'Please use `Model.fit`, which supports generators.')\n\u001b[1;32m-> 1918\u001b[1;33m     return self.fit(\n\u001b[0m\u001b[0;32m   1919\u001b[0m         \u001b[0mgenerator\u001b[0m\u001b[1;33m,\u001b[0m\u001b[1;33m\u001b[0m\u001b[1;33m\u001b[0m\u001b[0m\n\u001b[0;32m   1920\u001b[0m         \u001b[0msteps_per_epoch\u001b[0m\u001b[1;33m=\u001b[0m\u001b[0msteps_per_epoch\u001b[0m\u001b[1;33m,\u001b[0m\u001b[1;33m\u001b[0m\u001b[1;33m\u001b[0m\u001b[0m\n",
      "\u001b[1;32mC:\\ProgramData\\Anaconda3\\lib\\site-packages\\keras\\engine\\training.py\u001b[0m in \u001b[0;36mfit\u001b[1;34m(self, x, y, batch_size, epochs, verbose, callbacks, validation_split, validation_data, shuffle, class_weight, sample_weight, initial_epoch, steps_per_epoch, validation_steps, validation_batch_size, validation_freq, max_queue_size, workers, use_multiprocessing)\u001b[0m\n\u001b[0;32m   1187\u001b[0m                 \u001b[0mmodel\u001b[0m\u001b[1;33m=\u001b[0m\u001b[0mself\u001b[0m\u001b[1;33m,\u001b[0m\u001b[1;33m\u001b[0m\u001b[1;33m\u001b[0m\u001b[0m\n\u001b[0;32m   1188\u001b[0m                 steps_per_execution=self._steps_per_execution)\n\u001b[1;32m-> 1189\u001b[1;33m           val_logs = self.evaluate(\n\u001b[0m\u001b[0;32m   1190\u001b[0m               \u001b[0mx\u001b[0m\u001b[1;33m=\u001b[0m\u001b[0mval_x\u001b[0m\u001b[1;33m,\u001b[0m\u001b[1;33m\u001b[0m\u001b[1;33m\u001b[0m\u001b[0m\n\u001b[0;32m   1191\u001b[0m               \u001b[0my\u001b[0m\u001b[1;33m=\u001b[0m\u001b[0mval_y\u001b[0m\u001b[1;33m,\u001b[0m\u001b[1;33m\u001b[0m\u001b[1;33m\u001b[0m\u001b[0m\n",
      "\u001b[1;32mC:\\ProgramData\\Anaconda3\\lib\\site-packages\\keras\\engine\\training.py\u001b[0m in \u001b[0;36mevaluate\u001b[1;34m(self, x, y, batch_size, verbose, sample_weight, steps, callbacks, max_queue_size, workers, use_multiprocessing, return_dict, **kwargs)\u001b[0m\n\u001b[0;32m   1462\u001b[0m             \u001b[1;32mwith\u001b[0m \u001b[0mtf\u001b[0m\u001b[1;33m.\u001b[0m\u001b[0mprofiler\u001b[0m\u001b[1;33m.\u001b[0m\u001b[0mexperimental\u001b[0m\u001b[1;33m.\u001b[0m\u001b[0mTrace\u001b[0m\u001b[1;33m(\u001b[0m\u001b[1;34m'test'\u001b[0m\u001b[1;33m,\u001b[0m \u001b[0mstep_num\u001b[0m\u001b[1;33m=\u001b[0m\u001b[0mstep\u001b[0m\u001b[1;33m,\u001b[0m \u001b[0m_r\u001b[0m\u001b[1;33m=\u001b[0m\u001b[1;36m1\u001b[0m\u001b[1;33m)\u001b[0m\u001b[1;33m:\u001b[0m\u001b[1;33m\u001b[0m\u001b[1;33m\u001b[0m\u001b[0m\n\u001b[0;32m   1463\u001b[0m               \u001b[0mcallbacks\u001b[0m\u001b[1;33m.\u001b[0m\u001b[0mon_test_batch_begin\u001b[0m\u001b[1;33m(\u001b[0m\u001b[0mstep\u001b[0m\u001b[1;33m)\u001b[0m\u001b[1;33m\u001b[0m\u001b[1;33m\u001b[0m\u001b[0m\n\u001b[1;32m-> 1464\u001b[1;33m               \u001b[0mtmp_logs\u001b[0m \u001b[1;33m=\u001b[0m \u001b[0mself\u001b[0m\u001b[1;33m.\u001b[0m\u001b[0mtest_function\u001b[0m\u001b[1;33m(\u001b[0m\u001b[0miterator\u001b[0m\u001b[1;33m)\u001b[0m\u001b[1;33m\u001b[0m\u001b[1;33m\u001b[0m\u001b[0m\n\u001b[0m\u001b[0;32m   1465\u001b[0m               \u001b[1;32mif\u001b[0m \u001b[0mdata_handler\u001b[0m\u001b[1;33m.\u001b[0m\u001b[0mshould_sync\u001b[0m\u001b[1;33m:\u001b[0m\u001b[1;33m\u001b[0m\u001b[1;33m\u001b[0m\u001b[0m\n\u001b[0;32m   1466\u001b[0m                 \u001b[0mcontext\u001b[0m\u001b[1;33m.\u001b[0m\u001b[0masync_wait\u001b[0m\u001b[1;33m(\u001b[0m\u001b[1;33m)\u001b[0m\u001b[1;33m\u001b[0m\u001b[1;33m\u001b[0m\u001b[0m\n",
      "\u001b[1;32mC:\\ProgramData\\Anaconda3\\lib\\site-packages\\tensorflow\\python\\eager\\def_function.py\u001b[0m in \u001b[0;36m__call__\u001b[1;34m(self, *args, **kwds)\u001b[0m\n\u001b[0;32m    887\u001b[0m \u001b[1;33m\u001b[0m\u001b[0m\n\u001b[0;32m    888\u001b[0m       \u001b[1;32mwith\u001b[0m \u001b[0mOptionalXlaContext\u001b[0m\u001b[1;33m(\u001b[0m\u001b[0mself\u001b[0m\u001b[1;33m.\u001b[0m\u001b[0m_jit_compile\u001b[0m\u001b[1;33m)\u001b[0m\u001b[1;33m:\u001b[0m\u001b[1;33m\u001b[0m\u001b[1;33m\u001b[0m\u001b[0m\n\u001b[1;32m--> 889\u001b[1;33m         \u001b[0mresult\u001b[0m \u001b[1;33m=\u001b[0m \u001b[0mself\u001b[0m\u001b[1;33m.\u001b[0m\u001b[0m_call\u001b[0m\u001b[1;33m(\u001b[0m\u001b[1;33m*\u001b[0m\u001b[0margs\u001b[0m\u001b[1;33m,\u001b[0m \u001b[1;33m**\u001b[0m\u001b[0mkwds\u001b[0m\u001b[1;33m)\u001b[0m\u001b[1;33m\u001b[0m\u001b[1;33m\u001b[0m\u001b[0m\n\u001b[0m\u001b[0;32m    890\u001b[0m \u001b[1;33m\u001b[0m\u001b[0m\n\u001b[0;32m    891\u001b[0m       \u001b[0mnew_tracing_count\u001b[0m \u001b[1;33m=\u001b[0m \u001b[0mself\u001b[0m\u001b[1;33m.\u001b[0m\u001b[0mexperimental_get_tracing_count\u001b[0m\u001b[1;33m(\u001b[0m\u001b[1;33m)\u001b[0m\u001b[1;33m\u001b[0m\u001b[1;33m\u001b[0m\u001b[0m\n",
      "\u001b[1;32mC:\\ProgramData\\Anaconda3\\lib\\site-packages\\tensorflow\\python\\eager\\def_function.py\u001b[0m in \u001b[0;36m_call\u001b[1;34m(self, *args, **kwds)\u001b[0m\n\u001b[0;32m    922\u001b[0m       \u001b[1;31m# In this case we have not created variables on the first call. So we can\u001b[0m\u001b[1;33m\u001b[0m\u001b[1;33m\u001b[0m\u001b[1;33m\u001b[0m\u001b[0m\n\u001b[0;32m    923\u001b[0m       \u001b[1;31m# run the first trace but we should fail if variables are created.\u001b[0m\u001b[1;33m\u001b[0m\u001b[1;33m\u001b[0m\u001b[1;33m\u001b[0m\u001b[0m\n\u001b[1;32m--> 924\u001b[1;33m       \u001b[0mresults\u001b[0m \u001b[1;33m=\u001b[0m \u001b[0mself\u001b[0m\u001b[1;33m.\u001b[0m\u001b[0m_stateful_fn\u001b[0m\u001b[1;33m(\u001b[0m\u001b[1;33m*\u001b[0m\u001b[0margs\u001b[0m\u001b[1;33m,\u001b[0m \u001b[1;33m**\u001b[0m\u001b[0mkwds\u001b[0m\u001b[1;33m)\u001b[0m\u001b[1;33m\u001b[0m\u001b[1;33m\u001b[0m\u001b[0m\n\u001b[0m\u001b[0;32m    925\u001b[0m       \u001b[1;32mif\u001b[0m \u001b[0mself\u001b[0m\u001b[1;33m.\u001b[0m\u001b[0m_created_variables\u001b[0m\u001b[1;33m:\u001b[0m\u001b[1;33m\u001b[0m\u001b[1;33m\u001b[0m\u001b[0m\n\u001b[0;32m    926\u001b[0m         raise ValueError(\"Creating variables on a non-first call to a function\"\n",
      "\u001b[1;32mC:\\ProgramData\\Anaconda3\\lib\\site-packages\\tensorflow\\python\\eager\\function.py\u001b[0m in \u001b[0;36m__call__\u001b[1;34m(self, *args, **kwargs)\u001b[0m\n\u001b[0;32m   3021\u001b[0m       (graph_function,\n\u001b[0;32m   3022\u001b[0m        filtered_flat_args) = self._maybe_define_function(args, kwargs)\n\u001b[1;32m-> 3023\u001b[1;33m     return graph_function._call_flat(\n\u001b[0m\u001b[0;32m   3024\u001b[0m         filtered_flat_args, captured_inputs=graph_function.captured_inputs)  # pylint: disable=protected-access\n\u001b[0;32m   3025\u001b[0m \u001b[1;33m\u001b[0m\u001b[0m\n",
      "\u001b[1;32mC:\\ProgramData\\Anaconda3\\lib\\site-packages\\tensorflow\\python\\eager\\function.py\u001b[0m in \u001b[0;36m_call_flat\u001b[1;34m(self, args, captured_inputs, cancellation_manager)\u001b[0m\n\u001b[0;32m   1958\u001b[0m         and executing_eagerly):\n\u001b[0;32m   1959\u001b[0m       \u001b[1;31m# No tape is watching; skip to running the function.\u001b[0m\u001b[1;33m\u001b[0m\u001b[1;33m\u001b[0m\u001b[1;33m\u001b[0m\u001b[0m\n\u001b[1;32m-> 1960\u001b[1;33m       return self._build_call_outputs(self._inference_function.call(\n\u001b[0m\u001b[0;32m   1961\u001b[0m           ctx, args, cancellation_manager=cancellation_manager))\n\u001b[0;32m   1962\u001b[0m     forward_backward = self._select_forward_and_backward_functions(\n",
      "\u001b[1;32mC:\\ProgramData\\Anaconda3\\lib\\site-packages\\tensorflow\\python\\eager\\function.py\u001b[0m in \u001b[0;36mcall\u001b[1;34m(self, ctx, args, cancellation_manager)\u001b[0m\n\u001b[0;32m    589\u001b[0m       \u001b[1;32mwith\u001b[0m \u001b[0m_InterpolateFunctionError\u001b[0m\u001b[1;33m(\u001b[0m\u001b[0mself\u001b[0m\u001b[1;33m)\u001b[0m\u001b[1;33m:\u001b[0m\u001b[1;33m\u001b[0m\u001b[1;33m\u001b[0m\u001b[0m\n\u001b[0;32m    590\u001b[0m         \u001b[1;32mif\u001b[0m \u001b[0mcancellation_manager\u001b[0m \u001b[1;32mis\u001b[0m \u001b[1;32mNone\u001b[0m\u001b[1;33m:\u001b[0m\u001b[1;33m\u001b[0m\u001b[1;33m\u001b[0m\u001b[0m\n\u001b[1;32m--> 591\u001b[1;33m           outputs = execute.execute(\n\u001b[0m\u001b[0;32m    592\u001b[0m               \u001b[0mstr\u001b[0m\u001b[1;33m(\u001b[0m\u001b[0mself\u001b[0m\u001b[1;33m.\u001b[0m\u001b[0msignature\u001b[0m\u001b[1;33m.\u001b[0m\u001b[0mname\u001b[0m\u001b[1;33m)\u001b[0m\u001b[1;33m,\u001b[0m\u001b[1;33m\u001b[0m\u001b[1;33m\u001b[0m\u001b[0m\n\u001b[0;32m    593\u001b[0m               \u001b[0mnum_outputs\u001b[0m\u001b[1;33m=\u001b[0m\u001b[0mself\u001b[0m\u001b[1;33m.\u001b[0m\u001b[0m_num_outputs\u001b[0m\u001b[1;33m,\u001b[0m\u001b[1;33m\u001b[0m\u001b[1;33m\u001b[0m\u001b[0m\n",
      "\u001b[1;32mC:\\ProgramData\\Anaconda3\\lib\\site-packages\\tensorflow\\python\\eager\\execute.py\u001b[0m in \u001b[0;36mquick_execute\u001b[1;34m(op_name, num_outputs, inputs, attrs, ctx, name)\u001b[0m\n\u001b[0;32m     57\u001b[0m   \u001b[1;32mtry\u001b[0m\u001b[1;33m:\u001b[0m\u001b[1;33m\u001b[0m\u001b[1;33m\u001b[0m\u001b[0m\n\u001b[0;32m     58\u001b[0m     \u001b[0mctx\u001b[0m\u001b[1;33m.\u001b[0m\u001b[0mensure_initialized\u001b[0m\u001b[1;33m(\u001b[0m\u001b[1;33m)\u001b[0m\u001b[1;33m\u001b[0m\u001b[1;33m\u001b[0m\u001b[0m\n\u001b[1;32m---> 59\u001b[1;33m     tensors = pywrap_tfe.TFE_Py_Execute(ctx._handle, device_name, op_name,\n\u001b[0m\u001b[0;32m     60\u001b[0m                                         inputs, attrs, num_outputs)\n\u001b[0;32m     61\u001b[0m   \u001b[1;32mexcept\u001b[0m \u001b[0mcore\u001b[0m\u001b[1;33m.\u001b[0m\u001b[0m_NotOkStatusException\u001b[0m \u001b[1;32mas\u001b[0m \u001b[0me\u001b[0m\u001b[1;33m:\u001b[0m\u001b[1;33m\u001b[0m\u001b[1;33m\u001b[0m\u001b[0m\n",
      "\u001b[1;31mKeyboardInterrupt\u001b[0m: "
     ]
    }
   ],
   "source": [
    "model=Sequential()\n",
    "model.add(Conv2D(512, activation='relu', kernel_size=(3,3), padding='same', input_shape=(150,150,3)))\n",
    "model.add(MaxPooling2D(2))\n",
    "\n",
    "model.add(Conv2D(256, activation='relu', kernel_size=(3,3), padding='same', input_shape=(150,150,3)))\n",
    "model.add(MaxPooling2D(2))\n",
    "\n",
    "model.add(Conv2D(128, activation='relu', kernel_size=(3,3), padding='same', input_shape=(150,150,3)))\n",
    "model.add(MaxPooling2D(2))\n",
    "\n",
    "model.add(Flatten())\n",
    "model.add(Dense(64, activation='relu'))\n",
    "model.add(Dropout(0.4))\n",
    "model.add(Dense(32, activation='relu'))\n",
    "model.add(Dropout(0.4))\n",
    "model.add(Dense(len(train_generator.class_indices), activation='softmax'))\n",
    "\n",
    "model.compile(loss='categorical_crossentropy',\n",
    "              optimizer='adam',\n",
    "              metrics='accuracy')\n",
    "\n",
    "model.fit_generator(\n",
    "        train_generator,\n",
    "        validation_data=valid_generator,\n",
    "#         validation_steps=50,\n",
    "    #verbose=2\n",
    "        epochs=40)\n",
    "model.save_weights('model/first_model.h5')  # 많은 시간을 들여 학습한 모델인 만큼, 학습 후에는 꼭 모델을 저장해줍시다.\n"
   ]
  },
  {
   "cell_type": "markdown",
   "id": "02bbf4e3",
   "metadata": {},
   "source": [
    "### 두번째 모델"
   ]
  },
  {
   "cell_type": "code",
   "execution_count": 104,
   "id": "82ecd7b6",
   "metadata": {},
   "outputs": [],
   "source": [
    "from keras import applications"
   ]
  },
  {
   "cell_type": "code",
   "execution_count": 105,
   "id": "fff1220b",
   "metadata": {},
   "outputs": [],
   "source": [
    "vgg_model = applications.vgg16.VGG16(include_top=False, weights='imagenet', input_shape=(150,150,3))"
   ]
  },
  {
   "cell_type": "code",
   "execution_count": 108,
   "id": "b5e1ced8",
   "metadata": {},
   "outputs": [
    {
     "name": "stdout",
     "output_type": "stream",
     "text": [
      "Found 15689 images belonging to 3 classes.\n",
      "Found 6940 images belonging to 3 classes.\n",
      "Found 6946 images belonging to 3 classes.\n"
     ]
    },
    {
     "data": {
      "text/plain": [
       "<keras.preprocessing.image.DirectoryIterator at 0x2062bf96790>"
      ]
     },
     "execution_count": 108,
     "metadata": {},
     "output_type": "execute_result"
    },
    {
     "data": {
      "text/plain": [
       "<keras.preprocessing.image.DirectoryIterator at 0x2061dd314f0>"
      ]
     },
     "execution_count": 108,
     "metadata": {},
     "output_type": "execute_result"
    },
    {
     "data": {
      "text/plain": [
       "<keras.preprocessing.image.DirectoryIterator at 0x2062be3fca0>"
      ]
     },
     "execution_count": 108,
     "metadata": {},
     "output_type": "execute_result"
    }
   ],
   "source": [
    "batch_size = 16\n",
    "train_generator = train_dataGen.flow_from_directory(train_path, target_size=(150,150), batch_size=batch_size, class_mode=None)\n",
    "test_generator = valid_datagen.flow_from_directory(test_path, target_size=(150,150), batch_size=batch_size, class_mode=None)\n",
    "valid_generator = test_datagen.flow_from_directory(valid_path, target_size=(150,150), batch_size=batch_size, class_mode=None)\n",
    "train_generator\n",
    "test_generator\n",
    "valid_generator"
   ]
  },
  {
   "cell_type": "code",
   "execution_count": 109,
   "id": "6ae24a56",
   "metadata": {},
   "outputs": [
    {
     "ename": "KeyboardInterrupt",
     "evalue": "",
     "output_type": "error",
     "traceback": [
      "\u001b[1;31m---------------------------------------------------------------------------\u001b[0m",
      "\u001b[1;31mKeyboardInterrupt\u001b[0m                         Traceback (most recent call last)",
      "\u001b[1;32m<ipython-input-109-63218a0577ce>\u001b[0m in \u001b[0;36m<module>\u001b[1;34m\u001b[0m\n\u001b[1;32m----> 1\u001b[1;33m \u001b[0mbottleneck_features_train\u001b[0m \u001b[1;33m=\u001b[0m \u001b[0mvgg_model\u001b[0m\u001b[1;33m.\u001b[0m\u001b[0mpredict_generator\u001b[0m\u001b[1;33m(\u001b[0m\u001b[0mtrain_generator\u001b[0m\u001b[1;33m,\u001b[0m \u001b[0mtrain_generator\u001b[0m\u001b[1;33m.\u001b[0m\u001b[0msamples\u001b[0m\u001b[1;33m//\u001b[0m\u001b[0mbatch_size\u001b[0m\u001b[1;33m)\u001b[0m\u001b[1;33m\u001b[0m\u001b[1;33m\u001b[0m\u001b[0m\n\u001b[0m\u001b[0;32m      2\u001b[0m \u001b[0mnp\u001b[0m\u001b[1;33m.\u001b[0m\u001b[0msave\u001b[0m\u001b[1;33m(\u001b[0m\u001b[0mopen\u001b[0m\u001b[1;33m(\u001b[0m\u001b[1;34m'model/bottleneck_features_train2.npy'\u001b[0m\u001b[1;33m,\u001b[0m \u001b[1;34m'wb'\u001b[0m\u001b[1;33m)\u001b[0m\u001b[1;33m,\u001b[0m \u001b[0mbottleneck_features_train\u001b[0m\u001b[1;33m)\u001b[0m\u001b[1;33m\u001b[0m\u001b[1;33m\u001b[0m\u001b[0m\n",
      "\u001b[1;32mC:\\ProgramData\\Anaconda3\\lib\\site-packages\\keras\\engine\\training.py\u001b[0m in \u001b[0;36mpredict_generator\u001b[1;34m(self, generator, steps, callbacks, max_queue_size, workers, use_multiprocessing, verbose)\u001b[0m\n\u001b[0;32m   1977\u001b[0m                   \u001b[1;34m'will be removed in a future version. '\u001b[0m\u001b[1;33m\u001b[0m\u001b[1;33m\u001b[0m\u001b[0m\n\u001b[0;32m   1978\u001b[0m                   'Please use `Model.predict`, which supports generators.')\n\u001b[1;32m-> 1979\u001b[1;33m     return self.predict(\n\u001b[0m\u001b[0;32m   1980\u001b[0m         \u001b[0mgenerator\u001b[0m\u001b[1;33m,\u001b[0m\u001b[1;33m\u001b[0m\u001b[1;33m\u001b[0m\u001b[0m\n\u001b[0;32m   1981\u001b[0m         \u001b[0msteps\u001b[0m\u001b[1;33m=\u001b[0m\u001b[0msteps\u001b[0m\u001b[1;33m,\u001b[0m\u001b[1;33m\u001b[0m\u001b[1;33m\u001b[0m\u001b[0m\n",
      "\u001b[1;32mC:\\ProgramData\\Anaconda3\\lib\\site-packages\\keras\\engine\\training.py\u001b[0m in \u001b[0;36mpredict\u001b[1;34m(self, x, batch_size, verbose, steps, callbacks, max_queue_size, workers, use_multiprocessing)\u001b[0m\n\u001b[0;32m   1700\u001b[0m           \u001b[1;32mfor\u001b[0m \u001b[0mstep\u001b[0m \u001b[1;32min\u001b[0m \u001b[0mdata_handler\u001b[0m\u001b[1;33m.\u001b[0m\u001b[0msteps\u001b[0m\u001b[1;33m(\u001b[0m\u001b[1;33m)\u001b[0m\u001b[1;33m:\u001b[0m\u001b[1;33m\u001b[0m\u001b[1;33m\u001b[0m\u001b[0m\n\u001b[0;32m   1701\u001b[0m             \u001b[0mcallbacks\u001b[0m\u001b[1;33m.\u001b[0m\u001b[0mon_predict_batch_begin\u001b[0m\u001b[1;33m(\u001b[0m\u001b[0mstep\u001b[0m\u001b[1;33m)\u001b[0m\u001b[1;33m\u001b[0m\u001b[1;33m\u001b[0m\u001b[0m\n\u001b[1;32m-> 1702\u001b[1;33m             \u001b[0mtmp_batch_outputs\u001b[0m \u001b[1;33m=\u001b[0m \u001b[0mself\u001b[0m\u001b[1;33m.\u001b[0m\u001b[0mpredict_function\u001b[0m\u001b[1;33m(\u001b[0m\u001b[0miterator\u001b[0m\u001b[1;33m)\u001b[0m\u001b[1;33m\u001b[0m\u001b[1;33m\u001b[0m\u001b[0m\n\u001b[0m\u001b[0;32m   1703\u001b[0m             \u001b[1;32mif\u001b[0m \u001b[0mdata_handler\u001b[0m\u001b[1;33m.\u001b[0m\u001b[0mshould_sync\u001b[0m\u001b[1;33m:\u001b[0m\u001b[1;33m\u001b[0m\u001b[1;33m\u001b[0m\u001b[0m\n\u001b[0;32m   1704\u001b[0m               \u001b[0mcontext\u001b[0m\u001b[1;33m.\u001b[0m\u001b[0masync_wait\u001b[0m\u001b[1;33m(\u001b[0m\u001b[1;33m)\u001b[0m\u001b[1;33m\u001b[0m\u001b[1;33m\u001b[0m\u001b[0m\n",
      "\u001b[1;32mC:\\ProgramData\\Anaconda3\\lib\\site-packages\\tensorflow\\python\\eager\\def_function.py\u001b[0m in \u001b[0;36m__call__\u001b[1;34m(self, *args, **kwds)\u001b[0m\n\u001b[0;32m    887\u001b[0m \u001b[1;33m\u001b[0m\u001b[0m\n\u001b[0;32m    888\u001b[0m       \u001b[1;32mwith\u001b[0m \u001b[0mOptionalXlaContext\u001b[0m\u001b[1;33m(\u001b[0m\u001b[0mself\u001b[0m\u001b[1;33m.\u001b[0m\u001b[0m_jit_compile\u001b[0m\u001b[1;33m)\u001b[0m\u001b[1;33m:\u001b[0m\u001b[1;33m\u001b[0m\u001b[1;33m\u001b[0m\u001b[0m\n\u001b[1;32m--> 889\u001b[1;33m         \u001b[0mresult\u001b[0m \u001b[1;33m=\u001b[0m \u001b[0mself\u001b[0m\u001b[1;33m.\u001b[0m\u001b[0m_call\u001b[0m\u001b[1;33m(\u001b[0m\u001b[1;33m*\u001b[0m\u001b[0margs\u001b[0m\u001b[1;33m,\u001b[0m \u001b[1;33m**\u001b[0m\u001b[0mkwds\u001b[0m\u001b[1;33m)\u001b[0m\u001b[1;33m\u001b[0m\u001b[1;33m\u001b[0m\u001b[0m\n\u001b[0m\u001b[0;32m    890\u001b[0m \u001b[1;33m\u001b[0m\u001b[0m\n\u001b[0;32m    891\u001b[0m       \u001b[0mnew_tracing_count\u001b[0m \u001b[1;33m=\u001b[0m \u001b[0mself\u001b[0m\u001b[1;33m.\u001b[0m\u001b[0mexperimental_get_tracing_count\u001b[0m\u001b[1;33m(\u001b[0m\u001b[1;33m)\u001b[0m\u001b[1;33m\u001b[0m\u001b[1;33m\u001b[0m\u001b[0m\n",
      "\u001b[1;32mC:\\ProgramData\\Anaconda3\\lib\\site-packages\\tensorflow\\python\\eager\\def_function.py\u001b[0m in \u001b[0;36m_call\u001b[1;34m(self, *args, **kwds)\u001b[0m\n\u001b[0;32m    922\u001b[0m       \u001b[1;31m# In this case we have not created variables on the first call. So we can\u001b[0m\u001b[1;33m\u001b[0m\u001b[1;33m\u001b[0m\u001b[1;33m\u001b[0m\u001b[0m\n\u001b[0;32m    923\u001b[0m       \u001b[1;31m# run the first trace but we should fail if variables are created.\u001b[0m\u001b[1;33m\u001b[0m\u001b[1;33m\u001b[0m\u001b[1;33m\u001b[0m\u001b[0m\n\u001b[1;32m--> 924\u001b[1;33m       \u001b[0mresults\u001b[0m \u001b[1;33m=\u001b[0m \u001b[0mself\u001b[0m\u001b[1;33m.\u001b[0m\u001b[0m_stateful_fn\u001b[0m\u001b[1;33m(\u001b[0m\u001b[1;33m*\u001b[0m\u001b[0margs\u001b[0m\u001b[1;33m,\u001b[0m \u001b[1;33m**\u001b[0m\u001b[0mkwds\u001b[0m\u001b[1;33m)\u001b[0m\u001b[1;33m\u001b[0m\u001b[1;33m\u001b[0m\u001b[0m\n\u001b[0m\u001b[0;32m    925\u001b[0m       \u001b[1;32mif\u001b[0m \u001b[0mself\u001b[0m\u001b[1;33m.\u001b[0m\u001b[0m_created_variables\u001b[0m\u001b[1;33m:\u001b[0m\u001b[1;33m\u001b[0m\u001b[1;33m\u001b[0m\u001b[0m\n\u001b[0;32m    926\u001b[0m         raise ValueError(\"Creating variables on a non-first call to a function\"\n",
      "\u001b[1;32mC:\\ProgramData\\Anaconda3\\lib\\site-packages\\tensorflow\\python\\eager\\function.py\u001b[0m in \u001b[0;36m__call__\u001b[1;34m(self, *args, **kwargs)\u001b[0m\n\u001b[0;32m   3021\u001b[0m       (graph_function,\n\u001b[0;32m   3022\u001b[0m        filtered_flat_args) = self._maybe_define_function(args, kwargs)\n\u001b[1;32m-> 3023\u001b[1;33m     return graph_function._call_flat(\n\u001b[0m\u001b[0;32m   3024\u001b[0m         filtered_flat_args, captured_inputs=graph_function.captured_inputs)  # pylint: disable=protected-access\n\u001b[0;32m   3025\u001b[0m \u001b[1;33m\u001b[0m\u001b[0m\n",
      "\u001b[1;32mC:\\ProgramData\\Anaconda3\\lib\\site-packages\\tensorflow\\python\\eager\\function.py\u001b[0m in \u001b[0;36m_call_flat\u001b[1;34m(self, args, captured_inputs, cancellation_manager)\u001b[0m\n\u001b[0;32m   1958\u001b[0m         and executing_eagerly):\n\u001b[0;32m   1959\u001b[0m       \u001b[1;31m# No tape is watching; skip to running the function.\u001b[0m\u001b[1;33m\u001b[0m\u001b[1;33m\u001b[0m\u001b[1;33m\u001b[0m\u001b[0m\n\u001b[1;32m-> 1960\u001b[1;33m       return self._build_call_outputs(self._inference_function.call(\n\u001b[0m\u001b[0;32m   1961\u001b[0m           ctx, args, cancellation_manager=cancellation_manager))\n\u001b[0;32m   1962\u001b[0m     forward_backward = self._select_forward_and_backward_functions(\n",
      "\u001b[1;32mC:\\ProgramData\\Anaconda3\\lib\\site-packages\\tensorflow\\python\\eager\\function.py\u001b[0m in \u001b[0;36mcall\u001b[1;34m(self, ctx, args, cancellation_manager)\u001b[0m\n\u001b[0;32m    589\u001b[0m       \u001b[1;32mwith\u001b[0m \u001b[0m_InterpolateFunctionError\u001b[0m\u001b[1;33m(\u001b[0m\u001b[0mself\u001b[0m\u001b[1;33m)\u001b[0m\u001b[1;33m:\u001b[0m\u001b[1;33m\u001b[0m\u001b[1;33m\u001b[0m\u001b[0m\n\u001b[0;32m    590\u001b[0m         \u001b[1;32mif\u001b[0m \u001b[0mcancellation_manager\u001b[0m \u001b[1;32mis\u001b[0m \u001b[1;32mNone\u001b[0m\u001b[1;33m:\u001b[0m\u001b[1;33m\u001b[0m\u001b[1;33m\u001b[0m\u001b[0m\n\u001b[1;32m--> 591\u001b[1;33m           outputs = execute.execute(\n\u001b[0m\u001b[0;32m    592\u001b[0m               \u001b[0mstr\u001b[0m\u001b[1;33m(\u001b[0m\u001b[0mself\u001b[0m\u001b[1;33m.\u001b[0m\u001b[0msignature\u001b[0m\u001b[1;33m.\u001b[0m\u001b[0mname\u001b[0m\u001b[1;33m)\u001b[0m\u001b[1;33m,\u001b[0m\u001b[1;33m\u001b[0m\u001b[1;33m\u001b[0m\u001b[0m\n\u001b[0;32m    593\u001b[0m               \u001b[0mnum_outputs\u001b[0m\u001b[1;33m=\u001b[0m\u001b[0mself\u001b[0m\u001b[1;33m.\u001b[0m\u001b[0m_num_outputs\u001b[0m\u001b[1;33m,\u001b[0m\u001b[1;33m\u001b[0m\u001b[1;33m\u001b[0m\u001b[0m\n",
      "\u001b[1;32mC:\\ProgramData\\Anaconda3\\lib\\site-packages\\tensorflow\\python\\eager\\execute.py\u001b[0m in \u001b[0;36mquick_execute\u001b[1;34m(op_name, num_outputs, inputs, attrs, ctx, name)\u001b[0m\n\u001b[0;32m     57\u001b[0m   \u001b[1;32mtry\u001b[0m\u001b[1;33m:\u001b[0m\u001b[1;33m\u001b[0m\u001b[1;33m\u001b[0m\u001b[0m\n\u001b[0;32m     58\u001b[0m     \u001b[0mctx\u001b[0m\u001b[1;33m.\u001b[0m\u001b[0mensure_initialized\u001b[0m\u001b[1;33m(\u001b[0m\u001b[1;33m)\u001b[0m\u001b[1;33m\u001b[0m\u001b[1;33m\u001b[0m\u001b[0m\n\u001b[1;32m---> 59\u001b[1;33m     tensors = pywrap_tfe.TFE_Py_Execute(ctx._handle, device_name, op_name,\n\u001b[0m\u001b[0;32m     60\u001b[0m                                         inputs, attrs, num_outputs)\n\u001b[0;32m     61\u001b[0m   \u001b[1;32mexcept\u001b[0m \u001b[0mcore\u001b[0m\u001b[1;33m.\u001b[0m\u001b[0m_NotOkStatusException\u001b[0m \u001b[1;32mas\u001b[0m \u001b[0me\u001b[0m\u001b[1;33m:\u001b[0m\u001b[1;33m\u001b[0m\u001b[1;33m\u001b[0m\u001b[0m\n",
      "\u001b[1;31mKeyboardInterrupt\u001b[0m: "
     ]
    }
   ],
   "source": [
    "bottleneck_features_train = vgg_model.predict_generator(train_generator, train_generator.samples//batch_size)\n",
    "np.save(open('model/bottleneck_features_train2.npy', 'wb'), bottleneck_features_train)"
   ]
  },
  {
   "cell_type": "code",
   "execution_count": null,
   "id": "ef6555e1",
   "metadata": {},
   "outputs": [],
   "source": [
    "bottleneck_features_valid = vgg_model.predict_generator(valid_generator, valid_generator.samples//16//3)\n",
    "np.save(open('model/bottleneck_features_valid2.npy', 'wb'), bottleneck_features_valid)"
   ]
  },
  {
   "cell_type": "code",
   "execution_count": 55,
   "id": "7fa00e3e",
   "metadata": {},
   "outputs": [],
   "source": [
    "vgg_model = Sequential()\n",
    "vgg_model.add(Flatten(input_shape=model.output_shape[1:]))\n",
    "vgg_model.add(Dense(256, activation='relu'))\n",
    "vgg_model.add(Dense(len(train_generator.class_indices)))"
   ]
  },
  {
   "cell_type": "code",
   "execution_count": 116,
   "id": "79dd1e52",
   "metadata": {},
   "outputs": [
    {
     "data": {
      "text/plain": [
       "array([[[[0.00000000e+00, 0.00000000e+00, 0.00000000e+00, ...,\n",
       "          0.00000000e+00, 7.10620522e-01, 0.00000000e+00],\n",
       "         [0.00000000e+00, 0.00000000e+00, 0.00000000e+00, ...,\n",
       "          0.00000000e+00, 8.31870079e-01, 0.00000000e+00],\n",
       "         [2.28490233e-01, 0.00000000e+00, 4.20790315e-02, ...,\n",
       "          0.00000000e+00, 1.08663583e+00, 0.00000000e+00],\n",
       "         [5.43996811e-01, 0.00000000e+00, 0.00000000e+00, ...,\n",
       "          0.00000000e+00, 1.23404860e+00, 0.00000000e+00]],\n",
       "\n",
       "        [[0.00000000e+00, 0.00000000e+00, 0.00000000e+00, ...,\n",
       "          0.00000000e+00, 8.53834629e-01, 0.00000000e+00],\n",
       "         [0.00000000e+00, 0.00000000e+00, 0.00000000e+00, ...,\n",
       "          0.00000000e+00, 1.19772553e+00, 0.00000000e+00],\n",
       "         [4.18247879e-01, 0.00000000e+00, 1.06181443e+00, ...,\n",
       "          0.00000000e+00, 8.62321496e-01, 0.00000000e+00],\n",
       "         [6.02080584e-01, 0.00000000e+00, 1.20016241e+00, ...,\n",
       "          0.00000000e+00, 1.13245308e+00, 0.00000000e+00]],\n",
       "\n",
       "        [[0.00000000e+00, 0.00000000e+00, 0.00000000e+00, ...,\n",
       "          0.00000000e+00, 1.05117345e+00, 0.00000000e+00],\n",
       "         [0.00000000e+00, 0.00000000e+00, 0.00000000e+00, ...,\n",
       "          0.00000000e+00, 1.38801599e+00, 0.00000000e+00],\n",
       "         [0.00000000e+00, 0.00000000e+00, 7.65918493e-01, ...,\n",
       "          0.00000000e+00, 8.06048870e-01, 0.00000000e+00],\n",
       "         [0.00000000e+00, 0.00000000e+00, 7.69095063e-01, ...,\n",
       "          0.00000000e+00, 6.03348613e-01, 0.00000000e+00]],\n",
       "\n",
       "        [[0.00000000e+00, 0.00000000e+00, 0.00000000e+00, ...,\n",
       "          0.00000000e+00, 1.19650972e+00, 0.00000000e+00],\n",
       "         [0.00000000e+00, 0.00000000e+00, 0.00000000e+00, ...,\n",
       "          0.00000000e+00, 1.31749880e+00, 0.00000000e+00],\n",
       "         [0.00000000e+00, 0.00000000e+00, 2.01267302e-01, ...,\n",
       "          0.00000000e+00, 9.22679961e-01, 0.00000000e+00],\n",
       "         [0.00000000e+00, 0.00000000e+00, 0.00000000e+00, ...,\n",
       "          0.00000000e+00, 7.30121791e-01, 0.00000000e+00]]],\n",
       "\n",
       "\n",
       "       [[[7.83727169e-02, 0.00000000e+00, 0.00000000e+00, ...,\n",
       "          0.00000000e+00, 1.34692597e+00, 0.00000000e+00],\n",
       "         [0.00000000e+00, 0.00000000e+00, 1.84694171e-01, ...,\n",
       "          1.10068105e-01, 1.12990737e+00, 0.00000000e+00],\n",
       "         [0.00000000e+00, 0.00000000e+00, 0.00000000e+00, ...,\n",
       "          0.00000000e+00, 6.04721189e-01, 0.00000000e+00],\n",
       "         [0.00000000e+00, 0.00000000e+00, 0.00000000e+00, ...,\n",
       "          0.00000000e+00, 4.38546538e-01, 0.00000000e+00]],\n",
       "\n",
       "        [[6.46044970e-01, 0.00000000e+00, 1.26865208e-01, ...,\n",
       "          4.59155887e-01, 1.26862693e+00, 0.00000000e+00],\n",
       "         [0.00000000e+00, 0.00000000e+00, 2.01263428e-02, ...,\n",
       "          8.51186335e-01, 1.41181099e+00, 0.00000000e+00],\n",
       "         [1.39150739e-01, 0.00000000e+00, 1.77191198e-01, ...,\n",
       "          2.95836240e-01, 1.40295434e+00, 0.00000000e+00],\n",
       "         [0.00000000e+00, 0.00000000e+00, 2.06943810e-01, ...,\n",
       "          0.00000000e+00, 1.17045236e+00, 0.00000000e+00]],\n",
       "\n",
       "        [[6.36222124e-01, 0.00000000e+00, 3.21718276e-01, ...,\n",
       "          0.00000000e+00, 7.31932998e-01, 0.00000000e+00],\n",
       "         [1.50001287e-01, 0.00000000e+00, 1.71361864e-01, ...,\n",
       "          3.15043211e-01, 1.09783626e+00, 0.00000000e+00],\n",
       "         [8.46229315e-01, 0.00000000e+00, 1.09409869e-01, ...,\n",
       "          1.41497031e-02, 1.29498219e+00, 0.00000000e+00],\n",
       "         [6.24422908e-01, 0.00000000e+00, 3.32947582e-01, ...,\n",
       "          0.00000000e+00, 1.32407665e+00, 0.00000000e+00]],\n",
       "\n",
       "        [[2.21200168e-01, 0.00000000e+00, 0.00000000e+00, ...,\n",
       "          0.00000000e+00, 1.01935077e+00, 0.00000000e+00],\n",
       "         [2.79668659e-01, 0.00000000e+00, 7.33217835e-01, ...,\n",
       "          2.60106146e-01, 7.58670032e-01, 0.00000000e+00],\n",
       "         [9.52069104e-01, 0.00000000e+00, 4.95231211e-01, ...,\n",
       "          0.00000000e+00, 8.19198787e-01, 0.00000000e+00],\n",
       "         [8.32989335e-01, 0.00000000e+00, 3.01947176e-01, ...,\n",
       "          0.00000000e+00, 9.99622583e-01, 0.00000000e+00]]],\n",
       "\n",
       "\n",
       "       [[[0.00000000e+00, 0.00000000e+00, 0.00000000e+00, ...,\n",
       "          0.00000000e+00, 8.59962106e-01, 0.00000000e+00],\n",
       "         [0.00000000e+00, 0.00000000e+00, 0.00000000e+00, ...,\n",
       "          0.00000000e+00, 6.39915645e-01, 0.00000000e+00],\n",
       "         [0.00000000e+00, 0.00000000e+00, 0.00000000e+00, ...,\n",
       "          0.00000000e+00, 8.64133179e-01, 0.00000000e+00],\n",
       "         [0.00000000e+00, 0.00000000e+00, 0.00000000e+00, ...,\n",
       "          0.00000000e+00, 9.34051454e-01, 0.00000000e+00]],\n",
       "\n",
       "        [[0.00000000e+00, 0.00000000e+00, 3.66131365e-01, ...,\n",
       "          0.00000000e+00, 6.74579084e-01, 0.00000000e+00],\n",
       "         [0.00000000e+00, 0.00000000e+00, 9.94948745e-01, ...,\n",
       "          1.80071712e-01, 1.33678317e-01, 0.00000000e+00],\n",
       "         [4.71642137e-01, 0.00000000e+00, 6.24264240e-01, ...,\n",
       "          0.00000000e+00, 0.00000000e+00, 0.00000000e+00],\n",
       "         [3.63769889e-01, 0.00000000e+00, 0.00000000e+00, ...,\n",
       "          0.00000000e+00, 1.42729878e-01, 0.00000000e+00]],\n",
       "\n",
       "        [[0.00000000e+00, 0.00000000e+00, 2.71199703e-01, ...,\n",
       "          0.00000000e+00, 1.27058482e+00, 0.00000000e+00],\n",
       "         [0.00000000e+00, 0.00000000e+00, 7.14683652e-01, ...,\n",
       "          0.00000000e+00, 0.00000000e+00, 0.00000000e+00],\n",
       "         [1.41365600e+00, 0.00000000e+00, 5.31209528e-01, ...,\n",
       "          0.00000000e+00, 0.00000000e+00, 0.00000000e+00],\n",
       "         [1.35663760e+00, 0.00000000e+00, 0.00000000e+00, ...,\n",
       "          0.00000000e+00, 0.00000000e+00, 0.00000000e+00]],\n",
       "\n",
       "        [[1.26443624e-01, 0.00000000e+00, 0.00000000e+00, ...,\n",
       "          0.00000000e+00, 1.43197775e+00, 0.00000000e+00],\n",
       "         [0.00000000e+00, 0.00000000e+00, 0.00000000e+00, ...,\n",
       "          0.00000000e+00, 5.68685174e-01, 0.00000000e+00],\n",
       "         [7.96518922e-01, 0.00000000e+00, 0.00000000e+00, ...,\n",
       "          0.00000000e+00, 0.00000000e+00, 0.00000000e+00],\n",
       "         [5.74947834e-01, 0.00000000e+00, 0.00000000e+00, ...,\n",
       "          0.00000000e+00, 0.00000000e+00, 0.00000000e+00]]],\n",
       "\n",
       "\n",
       "       ...,\n",
       "\n",
       "\n",
       "       [[[0.00000000e+00, 0.00000000e+00, 0.00000000e+00, ...,\n",
       "          0.00000000e+00, 9.01606262e-01, 0.00000000e+00],\n",
       "         [0.00000000e+00, 0.00000000e+00, 0.00000000e+00, ...,\n",
       "          0.00000000e+00, 6.30587816e-01, 0.00000000e+00],\n",
       "         [0.00000000e+00, 0.00000000e+00, 7.64419675e-01, ...,\n",
       "          0.00000000e+00, 9.54749823e-01, 0.00000000e+00],\n",
       "         [1.65864974e-02, 0.00000000e+00, 5.20268619e-01, ...,\n",
       "          0.00000000e+00, 1.44342065e+00, 0.00000000e+00]],\n",
       "\n",
       "        [[0.00000000e+00, 3.20976377e-02, 0.00000000e+00, ...,\n",
       "          0.00000000e+00, 1.25014734e+00, 0.00000000e+00],\n",
       "         [0.00000000e+00, 0.00000000e+00, 4.61113513e-01, ...,\n",
       "          0.00000000e+00, 4.42263842e-01, 0.00000000e+00],\n",
       "         [1.49857670e-01, 0.00000000e+00, 8.74668062e-01, ...,\n",
       "          0.00000000e+00, 7.50605524e-01, 0.00000000e+00],\n",
       "         [0.00000000e+00, 0.00000000e+00, 5.72060823e-01, ...,\n",
       "          0.00000000e+00, 1.52426291e+00, 0.00000000e+00]],\n",
       "\n",
       "        [[8.16033602e-01, 0.00000000e+00, 0.00000000e+00, ...,\n",
       "          0.00000000e+00, 1.45051003e+00, 0.00000000e+00],\n",
       "         [1.36500883e+00, 0.00000000e+00, 5.84746838e-01, ...,\n",
       "          0.00000000e+00, 1.02468693e+00, 0.00000000e+00],\n",
       "         [2.22494364e-01, 0.00000000e+00, 9.15614605e-01, ...,\n",
       "          0.00000000e+00, 1.03486466e+00, 0.00000000e+00],\n",
       "         [0.00000000e+00, 0.00000000e+00, 9.39855516e-01, ...,\n",
       "          1.29838377e-01, 1.13579559e+00, 0.00000000e+00]],\n",
       "\n",
       "        [[1.09993625e+00, 0.00000000e+00, 0.00000000e+00, ...,\n",
       "          0.00000000e+00, 1.31614065e+00, 0.00000000e+00],\n",
       "         [1.47925425e+00, 0.00000000e+00, 4.90200222e-01, ...,\n",
       "          0.00000000e+00, 1.32779765e+00, 0.00000000e+00],\n",
       "         [2.57116318e-01, 0.00000000e+00, 8.04245174e-01, ...,\n",
       "          0.00000000e+00, 1.38608456e+00, 0.00000000e+00],\n",
       "         [0.00000000e+00, 0.00000000e+00, 1.18128657e+00, ...,\n",
       "          2.86871552e-01, 7.37909436e-01, 0.00000000e+00]]],\n",
       "\n",
       "\n",
       "       [[[9.85462844e-01, 0.00000000e+00, 0.00000000e+00, ...,\n",
       "          0.00000000e+00, 9.42750871e-01, 0.00000000e+00],\n",
       "         [1.13853478e+00, 0.00000000e+00, 6.17671311e-01, ...,\n",
       "          0.00000000e+00, 1.07282221e-01, 0.00000000e+00],\n",
       "         [1.93650261e-01, 0.00000000e+00, 8.33577335e-01, ...,\n",
       "          0.00000000e+00, 7.57162333e-01, 0.00000000e+00],\n",
       "         [5.82323432e-01, 0.00000000e+00, 4.13003564e-02, ...,\n",
       "          0.00000000e+00, 9.37662601e-01, 0.00000000e+00]],\n",
       "\n",
       "        [[1.29313636e+00, 0.00000000e+00, 0.00000000e+00, ...,\n",
       "          0.00000000e+00, 9.91422236e-01, 0.00000000e+00],\n",
       "         [1.66132379e+00, 0.00000000e+00, 9.16323841e-01, ...,\n",
       "          4.61831391e-01, 1.49679184e-03, 0.00000000e+00],\n",
       "         [8.23678732e-01, 0.00000000e+00, 1.19636297e+00, ...,\n",
       "          4.71380740e-01, 5.76112926e-01, 0.00000000e+00],\n",
       "         [2.21488118e-01, 0.00000000e+00, 6.21213973e-01, ...,\n",
       "          1.73903435e-01, 8.14063191e-01, 0.00000000e+00]],\n",
       "\n",
       "        [[1.27168560e+00, 0.00000000e+00, 4.31449950e-01, ...,\n",
       "          0.00000000e+00, 1.12540412e+00, 0.00000000e+00],\n",
       "         [1.23264217e+00, 0.00000000e+00, 1.26674414e+00, ...,\n",
       "          0.00000000e+00, 7.48832345e-01, 0.00000000e+00],\n",
       "         [6.55572593e-01, 0.00000000e+00, 1.33805680e+00, ...,\n",
       "          0.00000000e+00, 5.07075131e-01, 0.00000000e+00],\n",
       "         [6.08402431e-01, 0.00000000e+00, 7.57166445e-01, ...,\n",
       "          0.00000000e+00, 8.00367951e-01, 0.00000000e+00]],\n",
       "\n",
       "        [[2.34716725e+00, 0.00000000e+00, 4.71233428e-01, ...,\n",
       "          0.00000000e+00, 1.15369129e+00, 0.00000000e+00],\n",
       "         [2.18803310e+00, 0.00000000e+00, 1.29622936e+00, ...,\n",
       "          0.00000000e+00, 8.29758644e-01, 0.00000000e+00],\n",
       "         [1.01472688e+00, 0.00000000e+00, 1.22158670e+00, ...,\n",
       "          0.00000000e+00, 6.26824439e-01, 0.00000000e+00],\n",
       "         [1.03208828e+00, 0.00000000e+00, 3.76694083e-01, ...,\n",
       "          0.00000000e+00, 6.36150777e-01, 0.00000000e+00]]],\n",
       "\n",
       "\n",
       "       [[[1.95146227e+00, 0.00000000e+00, 8.71593356e-01, ...,\n",
       "          0.00000000e+00, 6.73615992e-01, 0.00000000e+00],\n",
       "         [1.96901870e+00, 0.00000000e+00, 7.13037372e-01, ...,\n",
       "          0.00000000e+00, 7.27218509e-01, 0.00000000e+00],\n",
       "         [4.76022154e-01, 0.00000000e+00, 3.13357770e-01, ...,\n",
       "          0.00000000e+00, 7.45835543e-01, 0.00000000e+00],\n",
       "         [2.64805257e-02, 0.00000000e+00, 2.17133701e-01, ...,\n",
       "          0.00000000e+00, 1.18011355e+00, 0.00000000e+00]],\n",
       "\n",
       "        [[2.07329702e+00, 0.00000000e+00, 8.38074505e-01, ...,\n",
       "          0.00000000e+00, 5.16355038e-01, 0.00000000e+00],\n",
       "         [2.33278775e+00, 0.00000000e+00, 2.74903089e-01, ...,\n",
       "          0.00000000e+00, 6.12147689e-01, 0.00000000e+00],\n",
       "         [1.34916675e+00, 0.00000000e+00, 8.52355301e-01, ...,\n",
       "          0.00000000e+00, 8.80596817e-01, 0.00000000e+00],\n",
       "         [7.38086522e-01, 0.00000000e+00, 8.67213070e-01, ...,\n",
       "          0.00000000e+00, 1.24628377e+00, 0.00000000e+00]],\n",
       "\n",
       "        [[1.11767876e+00, 0.00000000e+00, 4.69165295e-01, ...,\n",
       "          0.00000000e+00, 6.06099904e-01, 0.00000000e+00],\n",
       "         [1.31354272e+00, 0.00000000e+00, 1.18194908e-01, ...,\n",
       "          0.00000000e+00, 5.50189078e-01, 0.00000000e+00],\n",
       "         [1.09525275e+00, 0.00000000e+00, 8.17661524e-01, ...,\n",
       "          0.00000000e+00, 8.69385242e-01, 0.00000000e+00],\n",
       "         [4.02375102e-01, 0.00000000e+00, 9.12385345e-01, ...,\n",
       "          0.00000000e+00, 5.98807871e-01, 0.00000000e+00]],\n",
       "\n",
       "        [[7.38000929e-01, 0.00000000e+00, 3.90034854e-01, ...,\n",
       "          0.00000000e+00, 9.94195521e-01, 0.00000000e+00],\n",
       "         [4.03385341e-01, 0.00000000e+00, 0.00000000e+00, ...,\n",
       "          0.00000000e+00, 1.13616538e+00, 0.00000000e+00],\n",
       "         [2.60445476e-02, 0.00000000e+00, 0.00000000e+00, ...,\n",
       "          0.00000000e+00, 1.32349968e+00, 0.00000000e+00],\n",
       "         [0.00000000e+00, 0.00000000e+00, 2.89717317e-02, ...,\n",
       "          0.00000000e+00, 6.79300666e-01, 0.00000000e+00]]]],\n",
       "      dtype=float32)"
      ]
     },
     "execution_count": 116,
     "metadata": {},
     "output_type": "execute_result"
    }
   ],
   "source": [
    "train_data = np.load(open('model/bottleneck_features_train.npy', 'rb'))\n",
    "valid_data = np.load(open('model/bottleneck_features_valid.npy', 'rb'))\n",
    "train_data"
   ]
  },
  {
   "cell_type": "code",
   "execution_count": 130,
   "id": "7ee65e0c",
   "metadata": {},
   "outputs": [
    {
     "data": {
      "text/plain": [
       "{'train_cockroach': 4356,\n",
       " 'train_etc': 3425,\n",
       " 'train_spider': 7908,\n",
       " 'test_cockroach': 1074,\n",
       " 'test_etc': 3864,\n",
       " 'test_spider': 2006,\n",
       " 'valid_cockroach': 1064,\n",
       " 'valid_etc': 3924,\n",
       " 'valid_spider': 1966}"
      ]
     },
     "execution_count": 130,
     "metadata": {},
     "output_type": "execute_result"
    },
    {
     "data": {
      "text/plain": [
       "[4356, 3425, 7908, 1074, 3864, 2006, 1064, 3924, 1966]"
      ]
     },
     "execution_count": 130,
     "metadata": {},
     "output_type": "execute_result"
    },
    {
     "data": {
      "text/plain": [
       "['train_cockroach',\n",
       " 'train_etc',\n",
       " 'train_spider',\n",
       " 'test_cockroach',\n",
       " 'test_etc',\n",
       " 'test_spider',\n",
       " 'valid_cockroach',\n",
       " 'valid_etc',\n",
       " 'valid_spider']"
      ]
     },
     "execution_count": 130,
     "metadata": {},
     "output_type": "execute_result"
    }
   ],
   "source": [
    "label_counts\n",
    "list(label_counts.values())\n",
    "list(label_counts.keys())"
   ]
  },
  {
   "cell_type": "code",
   "execution_count": null,
   "id": "f78e7850",
   "metadata": {},
   "outputs": [],
   "source": [
    "train_labels = np.array([0] * label_counts['train_'])"
   ]
  },
  {
   "cell_type": "code",
   "execution_count": null,
   "id": "8c1b7b23",
   "metadata": {},
   "outputs": [],
   "source": []
  },
  {
   "cell_type": "code",
   "execution_count": null,
   "id": "2e834ed2",
   "metadata": {},
   "outputs": [],
   "source": []
  },
  {
   "cell_type": "code",
   "execution_count": 56,
   "id": "3d572218",
   "metadata": {},
   "outputs": [
    {
     "ename": "RuntimeError",
     "evalue": "You must compile your model before training/testing. Use `model.compile(optimizer, loss)`.",
     "output_type": "error",
     "traceback": [
      "\u001b[1;31m---------------------------------------------------------------------------\u001b[0m",
      "\u001b[1;31mRuntimeError\u001b[0m                              Traceback (most recent call last)",
      "\u001b[1;32m<ipython-input-56-bcbc8b61f6a6>\u001b[0m in \u001b[0;36m<module>\u001b[1;34m\u001b[0m\n\u001b[1;32m----> 1\u001b[1;33m vgg_model.fit_generator(\n\u001b[0m\u001b[0;32m      2\u001b[0m         \u001b[0mtrain_generator\u001b[0m\u001b[1;33m,\u001b[0m\u001b[1;33m\u001b[0m\u001b[1;33m\u001b[0m\u001b[0m\n\u001b[0;32m      3\u001b[0m         \u001b[0mvalidation_data\u001b[0m\u001b[1;33m=\u001b[0m\u001b[0mvalid_generator\u001b[0m\u001b[1;33m,\u001b[0m\u001b[1;33m\u001b[0m\u001b[1;33m\u001b[0m\u001b[0m\n\u001b[0;32m      4\u001b[0m \u001b[1;31m#         validation_steps=50,\u001b[0m\u001b[1;33m\u001b[0m\u001b[1;33m\u001b[0m\u001b[1;33m\u001b[0m\u001b[0m\n\u001b[0;32m      5\u001b[0m     \u001b[1;31m#verbose=2\u001b[0m\u001b[1;33m\u001b[0m\u001b[1;33m\u001b[0m\u001b[1;33m\u001b[0m\u001b[0m\n",
      "\u001b[1;32mC:\\ProgramData\\Anaconda3\\lib\\site-packages\\keras\\engine\\training.py\u001b[0m in \u001b[0;36mfit_generator\u001b[1;34m(self, generator, steps_per_epoch, epochs, verbose, callbacks, validation_data, validation_steps, validation_freq, class_weight, max_queue_size, workers, use_multiprocessing, shuffle, initial_epoch)\u001b[0m\n\u001b[0;32m   1916\u001b[0m                   \u001b[1;34m'will be removed in a future version. '\u001b[0m\u001b[1;33m\u001b[0m\u001b[1;33m\u001b[0m\u001b[0m\n\u001b[0;32m   1917\u001b[0m                   'Please use `Model.fit`, which supports generators.')\n\u001b[1;32m-> 1918\u001b[1;33m     return self.fit(\n\u001b[0m\u001b[0;32m   1919\u001b[0m         \u001b[0mgenerator\u001b[0m\u001b[1;33m,\u001b[0m\u001b[1;33m\u001b[0m\u001b[1;33m\u001b[0m\u001b[0m\n\u001b[0;32m   1920\u001b[0m         \u001b[0msteps_per_epoch\u001b[0m\u001b[1;33m=\u001b[0m\u001b[0msteps_per_epoch\u001b[0m\u001b[1;33m,\u001b[0m\u001b[1;33m\u001b[0m\u001b[1;33m\u001b[0m\u001b[0m\n",
      "\u001b[1;32mC:\\ProgramData\\Anaconda3\\lib\\site-packages\\keras\\engine\\training.py\u001b[0m in \u001b[0;36mfit\u001b[1;34m(self, x, y, batch_size, epochs, verbose, callbacks, validation_split, validation_data, shuffle, class_weight, sample_weight, initial_epoch, steps_per_epoch, validation_steps, validation_batch_size, validation_freq, max_queue_size, workers, use_multiprocessing)\u001b[0m\n\u001b[0;32m   1078\u001b[0m     \u001b[1;31m# Legacy graph support is contained in `training_v1.Model`.\u001b[0m\u001b[1;33m\u001b[0m\u001b[1;33m\u001b[0m\u001b[1;33m\u001b[0m\u001b[0m\n\u001b[0;32m   1079\u001b[0m     \u001b[0mversion_utils\u001b[0m\u001b[1;33m.\u001b[0m\u001b[0mdisallow_legacy_graph\u001b[0m\u001b[1;33m(\u001b[0m\u001b[1;34m'Model'\u001b[0m\u001b[1;33m,\u001b[0m \u001b[1;34m'fit'\u001b[0m\u001b[1;33m)\u001b[0m\u001b[1;33m\u001b[0m\u001b[1;33m\u001b[0m\u001b[0m\n\u001b[1;32m-> 1080\u001b[1;33m     \u001b[0mself\u001b[0m\u001b[1;33m.\u001b[0m\u001b[0m_assert_compile_was_called\u001b[0m\u001b[1;33m(\u001b[0m\u001b[1;33m)\u001b[0m\u001b[1;33m\u001b[0m\u001b[1;33m\u001b[0m\u001b[0m\n\u001b[0m\u001b[0;32m   1081\u001b[0m     \u001b[0mself\u001b[0m\u001b[1;33m.\u001b[0m\u001b[0m_check_call_args\u001b[0m\u001b[1;33m(\u001b[0m\u001b[1;34m'fit'\u001b[0m\u001b[1;33m)\u001b[0m\u001b[1;33m\u001b[0m\u001b[1;33m\u001b[0m\u001b[0m\n\u001b[0;32m   1082\u001b[0m     \u001b[0m_disallow_inside_tf_function\u001b[0m\u001b[1;33m(\u001b[0m\u001b[1;34m'fit'\u001b[0m\u001b[1;33m)\u001b[0m\u001b[1;33m\u001b[0m\u001b[1;33m\u001b[0m\u001b[0m\n",
      "\u001b[1;32mC:\\ProgramData\\Anaconda3\\lib\\site-packages\\keras\\engine\\training.py\u001b[0m in \u001b[0;36m_assert_compile_was_called\u001b[1;34m(self)\u001b[0m\n\u001b[0;32m   2666\u001b[0m     \u001b[1;31m# (i.e. whether the model is built and its inputs/outputs are set).\u001b[0m\u001b[1;33m\u001b[0m\u001b[1;33m\u001b[0m\u001b[1;33m\u001b[0m\u001b[0m\n\u001b[0;32m   2667\u001b[0m     \u001b[1;32mif\u001b[0m \u001b[1;32mnot\u001b[0m \u001b[0mself\u001b[0m\u001b[1;33m.\u001b[0m\u001b[0m_is_compiled\u001b[0m\u001b[1;33m:\u001b[0m\u001b[1;33m\u001b[0m\u001b[1;33m\u001b[0m\u001b[0m\n\u001b[1;32m-> 2668\u001b[1;33m       raise RuntimeError('You must compile your model before '\n\u001b[0m\u001b[0;32m   2669\u001b[0m                          \u001b[1;34m'training/testing. '\u001b[0m\u001b[1;33m\u001b[0m\u001b[1;33m\u001b[0m\u001b[0m\n\u001b[0;32m   2670\u001b[0m                          'Use `model.compile(optimizer, loss)`.')\n",
      "\u001b[1;31mRuntimeError\u001b[0m: You must compile your model before training/testing. Use `model.compile(optimizer, loss)`."
     ]
    }
   ],
   "source": [
    "vgg_model.fit_generator(\n",
    "        train_generator,\n",
    "        validation_data=valid_generator,\n",
    "#         validation_steps=50,\n",
    "    #verbose=2\n",
    "        epochs=40)\n",
    "model.save_weights('model/second_model.h5')"
   ]
  },
  {
   "cell_type": "code",
   "execution_count": null,
   "id": "393b3303",
   "metadata": {},
   "outputs": [],
   "source": []
  }
 ],
 "metadata": {
  "kernelspec": {
   "display_name": "Python 3",
   "language": "python",
   "name": "python3"
  },
  "language_info": {
   "codemirror_mode": {
    "name": "ipython",
    "version": 3
   },
   "file_extension": ".py",
   "mimetype": "text/x-python",
   "name": "python",
   "nbconvert_exporter": "python",
   "pygments_lexer": "ipython3",
   "version": "3.8.8"
  }
 },
 "nbformat": 4,
 "nbformat_minor": 5
}
